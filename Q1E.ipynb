{
 "cells": [
  {
   "cell_type": "code",
   "execution_count": 1,
   "outputs": [],
   "source": [
    "from pyspark.sql import SparkSession\n",
    "from pyspark.sql.functions import col, udf, explode\n",
    "from pyspark.sql.types import BooleanType, ArrayType, StringType\n",
    "from pyspark.ml.feature import Tokenizer, StopWordsRemover, NGram\n",
    "from unicodedata import normalize\n",
    "\n",
    "import pandas as pd\n",
    "import re\n",
    "import nltk"
   ],
   "metadata": {
    "collapsed": false,
    "ExecuteTime": {
     "end_time": "2024-06-05T16:22:00.388198500Z",
     "start_time": "2024-06-05T16:21:58.286612100Z"
    }
   },
   "id": "cd6bdf1534f7f36a"
  },
  {
   "cell_type": "code",
   "execution_count": 2,
   "outputs": [],
   "source": [
    "spark = (SparkSession.builder \\\n",
    "    .appName(\"SPARK TRAB - QUESTION 1 D\").getOrCreate())"
   ],
   "metadata": {
    "collapsed": false,
    "ExecuteTime": {
     "end_time": "2024-06-05T16:22:16.160736600Z",
     "start_time": "2024-06-05T16:22:00.387198700Z"
    }
   },
   "id": "3ef677bbe6034369"
  },
  {
   "cell_type": "code",
   "execution_count": 3,
   "outputs": [],
   "source": [
    "df_orig = spark.read.option(\"header\", \"false\").option(\"delimiter\", \"\\t\").csv(\"./data/debate-tweets.tsv\")"
   ],
   "metadata": {
    "collapsed": false,
    "ExecuteTime": {
     "end_time": "2024-06-05T16:22:25.115565300Z",
     "start_time": "2024-06-05T16:22:16.163256700Z"
    }
   },
   "id": "a5ff22963c47346"
  },
  {
   "cell_type": "markdown",
   "source": [
    "## Objetivo"
   ],
   "metadata": {
    "collapsed": false
   },
   "id": "77e3adfe9847f14c"
  },
  {
   "cell_type": "code",
   "execution_count": 4,
   "outputs": [
    {
     "name": "stdout",
     "output_type": "stream",
     "text": [
      "+------------------+--------------------+\n",
      "|                id|             content|\n",
      "+------------------+--------------------+\n",
      "|522394422710136832|@anacddd verdade,...|\n",
      "|522394422806581248|              Que ñ*|\n",
      "|522394422731100160| Vou quebrar a Bruna|\n",
      "|522394422810783745|agora vou p segun...|\n",
      "|522394423137943553|Me sinto tão bem ...|\n",
      "|522394423188271104|Eu estou aqui, de...|\n",
      "|522394423238606848|Quando vai embora...|\n",
      "|522394423528022016|@paynecaralhudo k...|\n",
      "|522394423632875521|Conceição da Barr...|\n",
      "|522394424010362881| @Maniavato te amo ♥|\n",
      "|522394424048091138|Alg me curtindo rs ♡|\n",
      "|522394424010358784|@MiiluAA No, porq...|\n",
      "|522394423741906944|#EMABiggestFansJu...|\n",
      "|522394424568213505|@raizabatista dev...|\n",
      "|522394424920506368|Me senti ate d fe...|\n",
      "|522394424811458560|qual o sentido de...|\n",
      "|522394425029574656|I'm at Lava Rápid...|\n",
      "|522394425121841153|Fica comentando m...|\n",
      "|522394425461579777|\"odeio que me man...|\n",
      "|522394425960701952|CAMAMTEBABILONFRA...|\n",
      "+------------------+--------------------+\n"
     ]
    }
   ],
   "source": [
    "df = df_orig.select(\"_c0\", \"_c1\")\n",
    "\n",
    "df = df.withColumnRenamed(\"_c0\", \"id\") \\\n",
    "                     .withColumnRenamed(\"_c1\", \"content\")\n",
    "\n",
    "df.show()"
   ],
   "metadata": {
    "collapsed": false,
    "ExecuteTime": {
     "end_time": "2024-06-05T16:22:25.553176400Z",
     "start_time": "2024-06-05T16:22:25.118566900Z"
    }
   },
   "id": "16f7b12f40e0a63c"
  },
  {
   "cell_type": "code",
   "execution_count": 5,
   "outputs": [],
   "source": [
    "def extract_aecio(text):\n",
    "    text_sem_acento = normalize('NFKD', text).encode('ASCII', 'ignore').decode('ASCII')\n",
    "    if re.findall(r'\\bA[eé]cio\\b', text_sem_acento, re.IGNORECASE):\n",
    "        return True\n",
    "    else:\n",
    "        return False\n",
    "\n",
    "def remove_punctuation(text):\n",
    "    return re.sub(r'[^\\w\\s]', ' ', text)"
   ],
   "metadata": {
    "collapsed": false,
    "ExecuteTime": {
     "end_time": "2024-06-05T16:22:25.591361200Z",
     "start_time": "2024-06-05T16:22:25.560188300Z"
    }
   },
   "id": "ea69e5e97bb48d43"
  },
  {
   "cell_type": "code",
   "execution_count": 6,
   "outputs": [],
   "source": [
    "extract_aecio_udf = udf(extract_aecio, BooleanType())\n",
    "\n",
    "df = df.withColumn(\"hasAecio\", extract_aecio_udf(df[\"content\"]))\n",
    "\n",
    "df_aecio = df.filter(col(\"hasAecio\")).select(\"id\", \"content\")"
   ],
   "metadata": {
    "collapsed": false,
    "ExecuteTime": {
     "end_time": "2024-06-05T16:22:25.778018300Z",
     "start_time": "2024-06-05T16:22:25.567725100Z"
    }
   },
   "id": "509db8b021149f01"
  },
  {
   "cell_type": "code",
   "execution_count": 7,
   "outputs": [],
   "source": [
    "remove_punctuation_udf = udf(remove_punctuation, StringType())\n",
    "\n",
    "df_aecio = df_aecio.withColumn(\"content_clean\", remove_punctuation_udf(col(\"content\")))"
   ],
   "metadata": {
    "collapsed": false,
    "ExecuteTime": {
     "end_time": "2024-06-05T16:22:25.793078300Z",
     "start_time": "2024-06-05T16:22:25.737859800Z"
    }
   },
   "id": "4c5d57a78fe7e121"
  },
  {
   "cell_type": "code",
   "execution_count": 8,
   "outputs": [],
   "source": [
    "tokenizer = Tokenizer(inputCol=\"content_clean\", outputCol=\"words\")\n",
    "df_aecio = tokenizer.transform(df_aecio)"
   ],
   "metadata": {
    "collapsed": false,
    "ExecuteTime": {
     "end_time": "2024-06-05T16:22:26.555231100Z",
     "start_time": "2024-06-05T16:22:25.782552700Z"
    }
   },
   "id": "bec1009e4e48f98d"
  },
  {
   "cell_type": "code",
   "execution_count": 9,
   "outputs": [],
   "source": [
    "def remove_empty_tokens(tokens):\n",
    "    return [token for token in tokens if len(token) >= 3]"
   ],
   "metadata": {
    "collapsed": false,
    "ExecuteTime": {
     "end_time": "2024-06-05T16:22:26.570767600Z",
     "start_time": "2024-06-05T16:22:26.555231100Z"
    }
   },
   "id": "725c4a021083d8d0"
  },
  {
   "cell_type": "code",
   "execution_count": 10,
   "outputs": [],
   "source": [
    "stopwordList = nltk.corpus.stopwords.words('portuguese')\n",
    "\n",
    "remover = StopWordsRemover(inputCol=\"words\", outputCol=\"filtered\", stopWords = stopwordList)\n",
    "df_aecio = remover.transform(df_aecio)\n",
    "\n",
    "remove_empty_tokens_udf = udf(remove_empty_tokens, ArrayType(StringType()))\n",
    "\n",
    "df_aecio = df_aecio.withColumn(\"filtered\", remove_empty_tokens_udf(col(\"filtered\")))"
   ],
   "metadata": {
    "collapsed": false,
    "ExecuteTime": {
     "end_time": "2024-06-05T16:22:26.916113400Z",
     "start_time": "2024-06-05T16:22:26.574306100Z"
    }
   },
   "id": "f3c572c7ac6c970"
  },
  {
   "cell_type": "code",
   "execution_count": 11,
   "outputs": [],
   "source": [
    "from functools import reduce\n",
    "\n",
    "def generate_ngrams(wordsData, ngram_range):\n",
    "    ngrams_data = []\n",
    "    for n in range(ngram_range[0], ngram_range[1] + 1):\n",
    "        ngram = NGram(n=n, inputCol=\"filtered\", outputCol=\"ngram\")\n",
    "        ngram_data = ngram.transform(wordsData)\n",
    "        ngrams_data.append(ngram_data)\n",
    "    return reduce(lambda df1, df2: df1.union(df2), ngrams_data)"
   ],
   "metadata": {
    "collapsed": false,
    "ExecuteTime": {
     "end_time": "2024-06-05T16:22:26.992948300Z",
     "start_time": "2024-06-05T16:22:26.932148500Z"
    }
   },
   "id": "375fe5bf8128ce7"
  },
  {
   "cell_type": "code",
   "execution_count": 12,
   "outputs": [
    {
     "name": "stdout",
     "output_type": "stream",
     "text": [
      "+------------------+--------------------+--------------------+--------------------+--------------------+--------------------+\n",
      "|                id|             content|       content_clean|               words|            filtered|               ngram|\n",
      "+------------------+--------------------+--------------------+--------------------+--------------------+--------------------+\n",
      "|522394798914015233|@KennedyAncar @Dr...| KennedyAncar  Dr...|[, kennedyancar, ...|[kennedyancar, dr...|[kennedyancar dri...|\n",
      "|522394968611360768|O site do TSE-MG ...|O site do TSE MG ...|[o, site, do, tse...|[site, tse, ficou...|[site tse ficou, ...|\n",
      "|522394979403325440|Olha isso @RealKa...|Olha isso  RealKa...|[olha, isso, , re...|[olha, realkajuru...|[olha realkajuru ...|\n",
      "|522395075972976643|@Indianara_m tamb...| Indianara_m tamb...|[, indianara_m, t...|[indianara_m, que...|[indianara_m quer...|\n",
      "|522395717797969920|@BlogdoNoblat gan...| BlogdoNoblat gan...|[, blogdonoblat, ...|[blogdonoblat, ga...|[blogdonoblat gan...|\n",
      "|522395826153619456|@UOLNoticias e o ...| UOLNoticias e o ...|[, uolnoticias, e...|[uolnoticias, alk...|[uolnoticias alkm...|\n",
      "|522395968491520001|\"\"\"@sensacionalis...|    sensacionalis...|[, , , , sensacio...|[sensacionalista,...|[sensacionalista ...|\n",
      "|522395969577832448|Só eu acho qe o A...|Só eu acho qe o A...|[só, eu, acho, qe...|[acho, aécio, sam...|[acho aécio sambo...|\n",
      "|522396040490917889|e falam q nao vao...|e falam q nao vao...|[e, falam, q, nao...|[falam, nao, vao,...|[falam nao vao, n...|\n",
      "|522396184951144449|@valeriaberriel S...| valeriaberriel S...|[, valeriaberriel...|[valeriaberriel, ...|[valeriaberriel s...|\n",
      "|522396230648102913|\"Olha o quadro co...| Olha o quadro co...|[, olha, o, quadr...|[olha, quadro, co...|[olha quadro comp...|\n",
      "|522396429353246720|Acho que o pessoa...|Acho que o pessoa...|[acho, que, o, pe...|[acho, pessoal, a...|[acho pessoal aéc...|\n",
      "|522396451394314241|Me deseja feliz d...|Me deseja feliz d...|[me, deseja, feli...|[deseja, feliz, d...|[deseja feliz dia...|\n",
      "|522396530956046336|'VOU VOTAR NO AÉC...| VOU VOTAR NO AÉC...|[, vou, votar, no...|[vou, votar, aéci...|[vou votar aécio,...|\n",
      "|522396533778821121|@ficobr @whenriqu...| ficobr  whenriqu...|[, ficobr, , when...|[ficobr, whenriqu...|[ficobr whenrique...|\n",
      "|522396591823810560|No que se refere ...|No que se refere ...|[no, que, se, ref...|[refere, irmã, ae...|[refere irmã aeci...|\n",
      "|522396621326516224|\"\"\"@PedroZaccaro:...|    PedroZaccaro ...|[, , , , pedrozac...|[pedrozaccaro, aé...|[pedrozaccaro aéc...|\n",
      "|522396703186767872|Hoje é dia do pro...|Hoje é dia do pro...|[hoje, é, dia, do...|[hoje, dia, profe...|[hoje dia profess...|\n",
      "|522396755267440641|Dilma ou Aécio,  ...|Dilma ou Aécio   ...|[dilma, ou, aécio...|[dilma, aécio, ke...|[dilma aécio kezi...|\n",
      "|522396781653803008|Será que a Rede G...|Será que a Rede G...|[será, que, a, re...|[rede, globo, sen...|[rede globo sendo...|\n",
      "+------------------+--------------------+--------------------+--------------------+--------------------+--------------------+\n"
     ]
    }
   ],
   "source": [
    "# ngram_range = (2, 5)\n",
    "# df_aecio = generate_ngrams(df_aecio, ngram_range)\n",
    "\n",
    "ngram = NGram(n = 3, inputCol=\"filtered\", outputCol=\"ngram\")\n",
    "df_aecio = ngram.transform(df_aecio)\n",
    "\n",
    "df_aecio.show() # OK"
   ],
   "metadata": {
    "collapsed": false,
    "ExecuteTime": {
     "end_time": "2024-06-05T16:22:31.226231900Z",
     "start_time": "2024-06-05T16:22:26.948702600Z"
    }
   },
   "id": "7e04e46f2da7a5a7"
  },
  {
   "cell_type": "code",
   "execution_count": 13,
   "outputs": [],
   "source": [
    "ngrams = df_aecio.select(\"ngram\")\n",
    "ngrams = ngrams.withColumn(\"sentences\", explode(\"ngram\")).select(\"sentences\")\n",
    "top_results = ngrams.groupBy(\"sentences\").count().orderBy(col(\"count\").desc()).limit(100)"
   ],
   "metadata": {
    "collapsed": false,
    "ExecuteTime": {
     "end_time": "2024-06-05T16:22:31.397300700Z",
     "start_time": "2024-06-05T16:22:31.227229500Z"
    }
   },
   "id": "3d4c711a05871f42"
  },
  {
   "cell_type": "code",
   "execution_count": 14,
   "outputs": [],
   "source": [
    "dataframe_pd = top_results.toPandas()\n",
    "\n",
    "dataframe_pd.to_csv('./outcome/Q1/result_sentences_aecio.csv', index=False)"
   ],
   "metadata": {
    "collapsed": false,
    "ExecuteTime": {
     "end_time": "2024-06-05T16:23:39.136451800Z",
     "start_time": "2024-06-05T16:22:31.333765800Z"
    }
   },
   "id": "59b398f7ae338d82"
  },
  {
   "cell_type": "code",
   "execution_count": 15,
   "outputs": [],
   "source": [
    "#important_sentences_df.show()"
   ],
   "metadata": {
    "collapsed": false,
    "ExecuteTime": {
     "end_time": "2024-06-05T16:23:39.156460800Z",
     "start_time": "2024-06-05T16:23:39.136451800Z"
    }
   },
   "id": "619581702cd7e706"
  },
  {
   "cell_type": "code",
   "execution_count": 16,
   "outputs": [],
   "source": [
    "spark.stop()"
   ],
   "metadata": {
    "collapsed": false,
    "ExecuteTime": {
     "end_time": "2024-06-05T16:23:40.085199500Z",
     "start_time": "2024-06-05T16:23:39.153453500Z"
    }
   },
   "id": "261b637e9411cd1c"
  },
  {
   "cell_type": "code",
   "execution_count": 17,
   "outputs": [],
   "source": [
    "# REDUZIR NUMERO DE FEATURES\n",
    "# CHECAR MOSTRAR O RESUTLADO SEM TER A FINAL_FEATURES E PRONTO"
   ],
   "metadata": {
    "collapsed": false,
    "ExecuteTime": {
     "end_time": "2024-06-05T16:23:40.101568500Z",
     "start_time": "2024-06-05T16:23:40.088187800Z"
    }
   },
   "id": "dac520afff3ca03c"
  }
 ],
 "metadata": {
  "kernelspec": {
   "display_name": "Python 3",
   "language": "python",
   "name": "python3"
  },
  "language_info": {
   "codemirror_mode": {
    "name": "ipython",
    "version": 2
   },
   "file_extension": ".py",
   "mimetype": "text/x-python",
   "name": "python",
   "nbconvert_exporter": "python",
   "pygments_lexer": "ipython2",
   "version": "2.7.6"
  }
 },
 "nbformat": 4,
 "nbformat_minor": 5
}
