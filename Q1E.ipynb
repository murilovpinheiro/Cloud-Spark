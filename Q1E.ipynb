{
 "cells": [
  {
   "cell_type": "code",
   "execution_count": 1,
   "outputs": [],
   "source": [
    "from pyspark.sql import SparkSession\n",
    "from pyspark.sql.functions import col, udf\n",
    "from pyspark.sql.types import BooleanType, ArrayType, StringType, DoubleType\n",
    "from pyspark.ml.feature import Tokenizer, StopWordsRemover, HashingTF, IDF, NGram\n",
    "from pyspark.ml.linalg import Vectors\n",
    "from unicodedata import normalize\n",
    "\n",
    "import pandas as pd\n",
    "import re\n",
    "import nltk"
   ],
   "metadata": {
    "collapsed": false,
    "ExecuteTime": {
     "end_time": "2024-05-31T18:58:02.853749500Z",
     "start_time": "2024-05-31T18:58:00.961736600Z"
    }
   },
   "id": "cd6bdf1534f7f36a"
  },
  {
   "cell_type": "code",
   "execution_count": 2,
   "outputs": [],
   "source": [
    "spark = (SparkSession.builder \\\n",
    "    .appName(\"SPARK TRAB - QUESTION 1 D\").getOrCreate())"
   ],
   "metadata": {
    "collapsed": false,
    "ExecuteTime": {
     "end_time": "2024-05-31T18:58:06.113455300Z",
     "start_time": "2024-05-31T18:58:02.856749300Z"
    }
   },
   "id": "3ef677bbe6034369"
  },
  {
   "cell_type": "code",
   "execution_count": 3,
   "outputs": [],
   "source": [
    "df_orig = spark.read.option(\"header\", \"false\").option(\"delimiter\", \"\\t\").csv(\"./data/debate-tweets.tsv\")"
   ],
   "metadata": {
    "collapsed": false,
    "ExecuteTime": {
     "end_time": "2024-05-31T18:58:09.896969900Z",
     "start_time": "2024-05-31T18:58:06.115458200Z"
    }
   },
   "id": "a5ff22963c47346"
  },
  {
   "cell_type": "markdown",
   "source": [
    "## Objetivo"
   ],
   "metadata": {
    "collapsed": false
   },
   "id": "77e3adfe9847f14c"
  },
  {
   "cell_type": "code",
   "execution_count": 4,
   "outputs": [
    {
     "name": "stdout",
     "output_type": "stream",
     "text": [
      "+------------------+--------------------+\n",
      "|                id|             content|\n",
      "+------------------+--------------------+\n",
      "|522394422710136832|@anacddd verdade,...|\n",
      "|522394422806581248|              Que ñ*|\n",
      "|522394422731100160| Vou quebrar a Bruna|\n",
      "|522394422810783745|agora vou p segun...|\n",
      "|522394423137943553|Me sinto tão bem ...|\n",
      "|522394423188271104|Eu estou aqui, de...|\n",
      "|522394423238606848|Quando vai embora...|\n",
      "|522394423528022016|@paynecaralhudo k...|\n",
      "|522394423632875521|Conceição da Barr...|\n",
      "|522394424010362881| @Maniavato te amo ♥|\n",
      "|522394424048091138|Alg me curtindo rs ♡|\n",
      "|522394424010358784|@MiiluAA No, porq...|\n",
      "|522394423741906944|#EMABiggestFansJu...|\n",
      "|522394424568213505|@raizabatista dev...|\n",
      "|522394424920506368|Me senti ate d fe...|\n",
      "|522394424811458560|qual o sentido de...|\n",
      "|522394425029574656|I'm at Lava Rápid...|\n",
      "|522394425121841153|Fica comentando m...|\n",
      "|522394425461579777|\"odeio que me man...|\n",
      "|522394425960701952|CAMAMTEBABILONFRA...|\n",
      "+------------------+--------------------+\n"
     ]
    }
   ],
   "source": [
    "df = df_orig.select(\"_c0\", \"_c1\")\n",
    "\n",
    "df = df.withColumnRenamed(\"_c0\", \"id\") \\\n",
    "                     .withColumnRenamed(\"_c1\", \"content\")\n",
    "\n",
    "df.show()"
   ],
   "metadata": {
    "collapsed": false,
    "ExecuteTime": {
     "end_time": "2024-05-31T18:58:10.149207300Z",
     "start_time": "2024-05-31T18:58:09.900478700Z"
    }
   },
   "id": "16f7b12f40e0a63c"
  },
  {
   "cell_type": "code",
   "execution_count": 5,
   "outputs": [],
   "source": [
    "def extract_aecio(text):\n",
    "    text_sem_acento = normalize('NFKD', text).encode('ASCII', 'ignore').decode('ASCII')\n",
    "    if re.findall(r'\\bA[eé]cio\\b', text_sem_acento, re.IGNORECASE):\n",
    "        return True\n",
    "    else:\n",
    "        return False\n",
    "\n",
    "def remove_punctuation(text):\n",
    "    return re.sub(r'[^\\w\\s]', '', text)"
   ],
   "metadata": {
    "collapsed": false,
    "ExecuteTime": {
     "end_time": "2024-05-31T18:58:10.172217500Z",
     "start_time": "2024-05-31T18:58:10.151209700Z"
    }
   },
   "id": "ea69e5e97bb48d43"
  },
  {
   "cell_type": "code",
   "execution_count": 6,
   "outputs": [
    {
     "data": {
      "text/plain": "[Row(id='522394798914015233', content='@KennedyAncar @Drimone @jornaldaREALMENTE DILMA CAGUEJOU,ESTAVA NERVOSA,SEM PREPARO,MUITO REPETITIVA VOLTA MUITO NO PASSADO,AÉCIO FOI MELHOR'),\n Row(id='522394968611360768', content='O site do TSE-MG ficou fora do ar, por que será hein Aécio?'),\n Row(id='522394979403325440', content='Olha isso @RealKajuru, mais um motivo pra não votar no Aécio http://t.co/DIe1xj4XJs #folha\"\"'),\n Row(id='522395075972976643', content='@Indianara_m também quero, to fodido pra arranja a absolut se o Aecio ganha, vou cagar uma Absolut'),\n Row(id='522395717797969920', content='@BlogdoNoblat ganho bem. Aécio não tem condições de administrar um país.'),\n Row(id='522395826153619456', content='@UOLNoticias e o Alkmin esperando por São Pedro, se o Aécio ganhar alguém sabe por qual Santo ele vai esperar para resolver problemas? Kkkkk'),\n Row(id='522395968491520001', content='\"\"\"@sensacionalista: Aécio não empregará mais irmã, apenas cunhado, pois cunhado não é parente - http://t.co/bEqBWy8J5t\"\" kkkkk\"'),\n Row(id='522395969577832448', content='Só eu acho qe o Aécio sambou na cara da Dilma ontem ? #DebateDaBand'),\n Row(id='522396040490917889', content='e falam q nao vao votar na dilma pq querem mudança com tanta ctz q ate parece q o aecio vai melhorar mta coisa'),\n Row(id='522396184951144449', content='@valeriaberriel Sim, e achei um absurdo. Pior é que o jornal tem o Azevedo fazendo campanha pro Aécio de forma descarada.'),\n Row(id='522396230648102913', content='\"Olha o quadro competente do Aécio. \"\"@folha_com: Cantareira bate mais um recorde negativo e opera apenas com 4,3%. http://t.co/KXZ1EXut0k\"\"\"'),\n Row(id='522396429353246720', content='Acho que o pessoal de Aécio e Dilma assistiram um debate diferente do que eu, pq sinceramente não vi superioridade de nenhum dos dois.'),\n Row(id='522396451394314241', content='Me deseja feliz dia dos professores e depois diz que vai votar no Aécio. O que adianta?'),\n Row(id='522396530956046336', content=\"'VOU VOTAR NO AÉCIO, FORA PT' http://t.co/bI6HGaVheN\"),\n Row(id='522396533778821121', content='@ficobr @whenriquebhQUEM ATÉ AGORA ESTÁ JOGANDO SUJO SÃO VCS, QUE VCS ESTÃO FAZENDO C/A VIDA PARTICULAR AÉCIO,É ANTI-ÉTICO,ACHO UM ABSURDO.'),\n Row(id='522396591823810560', content='No que se refere a irmã do #aecio...onde ela trabalha afinal??? #noqueserefereday'),\n Row(id='522396621326516224', content='\"\"\"@PedroZaccaro: Aécio usou lei delegada para contratar parentes no governo de Minas http://t.co/ZSyeHQ8vJw via RBA\"\"\"'),\n Row(id='522396703186767872', content='Hoje é dia do professor então gostaria de parabenizar Aécio Neves que ensinou seus parentes a trabalhar no governo'),\n Row(id='522396755267440641', content='Dilma ou Aécio,  Kezia??? Prefiro um tacacá com pouca goma,  muita pimenta e bastante camarão...'),\n Row(id='522396781653803008', content='Será que a Rede Globo está sendo paga p/ toda hora falar mal do Aecio Neves Tá dando na cara! Coisa feia!A Dilma tá cada dia pior que todos')]"
     },
     "metadata": {},
     "output_type": "display_data"
    }
   ],
   "source": [
    "extract_aecio_udf = udf(extract_aecio, BooleanType())\n",
    "\n",
    "df = df.withColumn(\"hasAecio\", extract_aecio_udf(df[\"content\"]))\n",
    "\n",
    "df_aecio = df.filter(col(\"hasAecio\")).select(\"id\", \"content\")\n",
    "\n",
    "display(df_aecio.head(20))"
   ],
   "metadata": {
    "collapsed": false,
    "ExecuteTime": {
     "end_time": "2024-05-31T18:58:12.016550100Z",
     "start_time": "2024-05-31T18:58:10.166207100Z"
    }
   },
   "id": "509db8b021149f01"
  },
  {
   "cell_type": "code",
   "execution_count": 7,
   "outputs": [
    {
     "data": {
      "text/plain": "[Row(id='522394798914015233', content='@KennedyAncar @Drimone @jornaldaREALMENTE DILMA CAGUEJOU,ESTAVA NERVOSA,SEM PREPARO,MUITO REPETITIVA VOLTA MUITO NO PASSADO,AÉCIO FOI MELHOR', content_clean='KennedyAncar Drimone jornaldaREALMENTE DILMA CAGUEJOUESTAVA NERVOSASEM PREPAROMUITO REPETITIVA VOLTA MUITO NO PASSADOAÉCIO FOI MELHOR'),\n Row(id='522394968611360768', content='O site do TSE-MG ficou fora do ar, por que será hein Aécio?', content_clean='O site do TSEMG ficou fora do ar por que será hein Aécio'),\n Row(id='522394979403325440', content='Olha isso @RealKajuru, mais um motivo pra não votar no Aécio http://t.co/DIe1xj4XJs #folha\"\"', content_clean='Olha isso RealKajuru mais um motivo pra não votar no Aécio httptcoDIe1xj4XJs folha'),\n Row(id='522395075972976643', content='@Indianara_m também quero, to fodido pra arranja a absolut se o Aecio ganha, vou cagar uma Absolut', content_clean='Indianara_m também quero to fodido pra arranja a absolut se o Aecio ganha vou cagar uma Absolut'),\n Row(id='522395717797969920', content='@BlogdoNoblat ganho bem. Aécio não tem condições de administrar um país.', content_clean='BlogdoNoblat ganho bem Aécio não tem condições de administrar um país'),\n Row(id='522395826153619456', content='@UOLNoticias e o Alkmin esperando por São Pedro, se o Aécio ganhar alguém sabe por qual Santo ele vai esperar para resolver problemas? Kkkkk', content_clean='UOLNoticias e o Alkmin esperando por São Pedro se o Aécio ganhar alguém sabe por qual Santo ele vai esperar para resolver problemas Kkkkk'),\n Row(id='522395968491520001', content='\"\"\"@sensacionalista: Aécio não empregará mais irmã, apenas cunhado, pois cunhado não é parente - http://t.co/bEqBWy8J5t\"\" kkkkk\"', content_clean='sensacionalista Aécio não empregará mais irmã apenas cunhado pois cunhado não é parente  httptcobEqBWy8J5t kkkkk'),\n Row(id='522395969577832448', content='Só eu acho qe o Aécio sambou na cara da Dilma ontem ? #DebateDaBand', content_clean='Só eu acho qe o Aécio sambou na cara da Dilma ontem  DebateDaBand'),\n Row(id='522396040490917889', content='e falam q nao vao votar na dilma pq querem mudança com tanta ctz q ate parece q o aecio vai melhorar mta coisa', content_clean='e falam q nao vao votar na dilma pq querem mudança com tanta ctz q ate parece q o aecio vai melhorar mta coisa'),\n Row(id='522396184951144449', content='@valeriaberriel Sim, e achei um absurdo. Pior é que o jornal tem o Azevedo fazendo campanha pro Aécio de forma descarada.', content_clean='valeriaberriel Sim e achei um absurdo Pior é que o jornal tem o Azevedo fazendo campanha pro Aécio de forma descarada'),\n Row(id='522396230648102913', content='\"Olha o quadro competente do Aécio. \"\"@folha_com: Cantareira bate mais um recorde negativo e opera apenas com 4,3%. http://t.co/KXZ1EXut0k\"\"\"', content_clean='Olha o quadro competente do Aécio folha_com Cantareira bate mais um recorde negativo e opera apenas com 43 httptcoKXZ1EXut0k'),\n Row(id='522396429353246720', content='Acho que o pessoal de Aécio e Dilma assistiram um debate diferente do que eu, pq sinceramente não vi superioridade de nenhum dos dois.', content_clean='Acho que o pessoal de Aécio e Dilma assistiram um debate diferente do que eu pq sinceramente não vi superioridade de nenhum dos dois'),\n Row(id='522396451394314241', content='Me deseja feliz dia dos professores e depois diz que vai votar no Aécio. O que adianta?', content_clean='Me deseja feliz dia dos professores e depois diz que vai votar no Aécio O que adianta'),\n Row(id='522396530956046336', content=\"'VOU VOTAR NO AÉCIO, FORA PT' http://t.co/bI6HGaVheN\", content_clean='VOU VOTAR NO AÉCIO FORA PT httptcobI6HGaVheN'),\n Row(id='522396533778821121', content='@ficobr @whenriquebhQUEM ATÉ AGORA ESTÁ JOGANDO SUJO SÃO VCS, QUE VCS ESTÃO FAZENDO C/A VIDA PARTICULAR AÉCIO,É ANTI-ÉTICO,ACHO UM ABSURDO.', content_clean='ficobr whenriquebhQUEM ATÉ AGORA ESTÁ JOGANDO SUJO SÃO VCS QUE VCS ESTÃO FAZENDO CA VIDA PARTICULAR AÉCIOÉ ANTIÉTICOACHO UM ABSURDO'),\n Row(id='522396591823810560', content='No que se refere a irmã do #aecio...onde ela trabalha afinal??? #noqueserefereday', content_clean='No que se refere a irmã do aecioonde ela trabalha afinal noqueserefereday'),\n Row(id='522396621326516224', content='\"\"\"@PedroZaccaro: Aécio usou lei delegada para contratar parentes no governo de Minas http://t.co/ZSyeHQ8vJw via RBA\"\"\"', content_clean='PedroZaccaro Aécio usou lei delegada para contratar parentes no governo de Minas httptcoZSyeHQ8vJw via RBA'),\n Row(id='522396703186767872', content='Hoje é dia do professor então gostaria de parabenizar Aécio Neves que ensinou seus parentes a trabalhar no governo', content_clean='Hoje é dia do professor então gostaria de parabenizar Aécio Neves que ensinou seus parentes a trabalhar no governo'),\n Row(id='522396755267440641', content='Dilma ou Aécio,  Kezia??? Prefiro um tacacá com pouca goma,  muita pimenta e bastante camarão...', content_clean='Dilma ou Aécio  Kezia Prefiro um tacacá com pouca goma  muita pimenta e bastante camarão'),\n Row(id='522396781653803008', content='Será que a Rede Globo está sendo paga p/ toda hora falar mal do Aecio Neves Tá dando na cara! Coisa feia!A Dilma tá cada dia pior que todos', content_clean='Será que a Rede Globo está sendo paga p toda hora falar mal do Aecio Neves Tá dando na cara Coisa feiaA Dilma tá cada dia pior que todos')]"
     },
     "metadata": {},
     "output_type": "display_data"
    }
   ],
   "source": [
    "remove_punctuation_udf = udf(remove_punctuation, StringType())\n",
    "\n",
    "df_aecio = df_aecio.withColumn(\"content_clean\", remove_punctuation_udf(col(\"content\")))\n",
    "\n",
    "display(df_aecio.head(20))"
   ],
   "metadata": {
    "collapsed": false,
    "ExecuteTime": {
     "end_time": "2024-05-31T18:58:13.717429700Z",
     "start_time": "2024-05-31T18:58:12.016550100Z"
    }
   },
   "id": "4c5d57a78fe7e121"
  },
  {
   "cell_type": "code",
   "execution_count": 8,
   "outputs": [
    {
     "data": {
      "text/plain": "[Row(id='522394798914015233', content='@KennedyAncar @Drimone @jornaldaREALMENTE DILMA CAGUEJOU,ESTAVA NERVOSA,SEM PREPARO,MUITO REPETITIVA VOLTA MUITO NO PASSADO,AÉCIO FOI MELHOR', content_clean='KennedyAncar Drimone jornaldaREALMENTE DILMA CAGUEJOUESTAVA NERVOSASEM PREPAROMUITO REPETITIVA VOLTA MUITO NO PASSADOAÉCIO FOI MELHOR', words=['kennedyancar', 'drimone', 'jornaldarealmente', 'dilma', 'caguejouestava', 'nervosasem', 'preparomuito', 'repetitiva', 'volta', 'muito', 'no', 'passadoaécio', 'foi', 'melhor']),\n Row(id='522394968611360768', content='O site do TSE-MG ficou fora do ar, por que será hein Aécio?', content_clean='O site do TSEMG ficou fora do ar por que será hein Aécio', words=['o', 'site', 'do', 'tsemg', 'ficou', 'fora', 'do', 'ar', 'por', 'que', 'será', 'hein', 'aécio']),\n Row(id='522394979403325440', content='Olha isso @RealKajuru, mais um motivo pra não votar no Aécio http://t.co/DIe1xj4XJs #folha\"\"', content_clean='Olha isso RealKajuru mais um motivo pra não votar no Aécio httptcoDIe1xj4XJs folha', words=['olha', 'isso', 'realkajuru', 'mais', 'um', 'motivo', 'pra', 'não', 'votar', 'no', 'aécio', 'httptcodie1xj4xjs', 'folha']),\n Row(id='522395075972976643', content='@Indianara_m também quero, to fodido pra arranja a absolut se o Aecio ganha, vou cagar uma Absolut', content_clean='Indianara_m também quero to fodido pra arranja a absolut se o Aecio ganha vou cagar uma Absolut', words=['indianara_m', 'também', 'quero', 'to', 'fodido', 'pra', 'arranja', 'a', 'absolut', 'se', 'o', 'aecio', 'ganha', 'vou', 'cagar', 'uma', 'absolut']),\n Row(id='522395717797969920', content='@BlogdoNoblat ganho bem. Aécio não tem condições de administrar um país.', content_clean='BlogdoNoblat ganho bem Aécio não tem condições de administrar um país', words=['blogdonoblat', 'ganho', 'bem', 'aécio', 'não', 'tem', 'condições', 'de', 'administrar', 'um', 'país']),\n Row(id='522395826153619456', content='@UOLNoticias e o Alkmin esperando por São Pedro, se o Aécio ganhar alguém sabe por qual Santo ele vai esperar para resolver problemas? Kkkkk', content_clean='UOLNoticias e o Alkmin esperando por São Pedro se o Aécio ganhar alguém sabe por qual Santo ele vai esperar para resolver problemas Kkkkk', words=['uolnoticias', 'e', 'o', 'alkmin', 'esperando', 'por', 'são', 'pedro', 'se', 'o', 'aécio', 'ganhar', 'alguém', 'sabe', 'por', 'qual', 'santo', 'ele', 'vai', 'esperar', 'para', 'resolver', 'problemas', 'kkkkk']),\n Row(id='522395968491520001', content='\"\"\"@sensacionalista: Aécio não empregará mais irmã, apenas cunhado, pois cunhado não é parente - http://t.co/bEqBWy8J5t\"\" kkkkk\"', content_clean='sensacionalista Aécio não empregará mais irmã apenas cunhado pois cunhado não é parente  httptcobEqBWy8J5t kkkkk', words=['sensacionalista', 'aécio', 'não', 'empregará', 'mais', 'irmã', 'apenas', 'cunhado', 'pois', 'cunhado', 'não', 'é', 'parente', '', 'httptcobeqbwy8j5t', 'kkkkk']),\n Row(id='522395969577832448', content='Só eu acho qe o Aécio sambou na cara da Dilma ontem ? #DebateDaBand', content_clean='Só eu acho qe o Aécio sambou na cara da Dilma ontem  DebateDaBand', words=['só', 'eu', 'acho', 'qe', 'o', 'aécio', 'sambou', 'na', 'cara', 'da', 'dilma', 'ontem', '', 'debatedaband']),\n Row(id='522396040490917889', content='e falam q nao vao votar na dilma pq querem mudança com tanta ctz q ate parece q o aecio vai melhorar mta coisa', content_clean='e falam q nao vao votar na dilma pq querem mudança com tanta ctz q ate parece q o aecio vai melhorar mta coisa', words=['e', 'falam', 'q', 'nao', 'vao', 'votar', 'na', 'dilma', 'pq', 'querem', 'mudança', 'com', 'tanta', 'ctz', 'q', 'ate', 'parece', 'q', 'o', 'aecio', 'vai', 'melhorar', 'mta', 'coisa']),\n Row(id='522396184951144449', content='@valeriaberriel Sim, e achei um absurdo. Pior é que o jornal tem o Azevedo fazendo campanha pro Aécio de forma descarada.', content_clean='valeriaberriel Sim e achei um absurdo Pior é que o jornal tem o Azevedo fazendo campanha pro Aécio de forma descarada', words=['valeriaberriel', 'sim', 'e', 'achei', 'um', 'absurdo', 'pior', 'é', 'que', 'o', 'jornal', 'tem', 'o', 'azevedo', 'fazendo', 'campanha', 'pro', 'aécio', 'de', 'forma', 'descarada']),\n Row(id='522396230648102913', content='\"Olha o quadro competente do Aécio. \"\"@folha_com: Cantareira bate mais um recorde negativo e opera apenas com 4,3%. http://t.co/KXZ1EXut0k\"\"\"', content_clean='Olha o quadro competente do Aécio folha_com Cantareira bate mais um recorde negativo e opera apenas com 43 httptcoKXZ1EXut0k', words=['olha', 'o', 'quadro', 'competente', 'do', 'aécio', 'folha_com', 'cantareira', 'bate', 'mais', 'um', 'recorde', 'negativo', 'e', 'opera', 'apenas', 'com', '43', 'httptcokxz1exut0k']),\n Row(id='522396429353246720', content='Acho que o pessoal de Aécio e Dilma assistiram um debate diferente do que eu, pq sinceramente não vi superioridade de nenhum dos dois.', content_clean='Acho que o pessoal de Aécio e Dilma assistiram um debate diferente do que eu pq sinceramente não vi superioridade de nenhum dos dois', words=['acho', 'que', 'o', 'pessoal', 'de', 'aécio', 'e', 'dilma', 'assistiram', 'um', 'debate', 'diferente', 'do', 'que', 'eu', 'pq', 'sinceramente', 'não', 'vi', 'superioridade', 'de', 'nenhum', 'dos', 'dois']),\n Row(id='522396451394314241', content='Me deseja feliz dia dos professores e depois diz que vai votar no Aécio. O que adianta?', content_clean='Me deseja feliz dia dos professores e depois diz que vai votar no Aécio O que adianta', words=['me', 'deseja', 'feliz', 'dia', 'dos', 'professores', 'e', 'depois', 'diz', 'que', 'vai', 'votar', 'no', 'aécio', 'o', 'que', 'adianta']),\n Row(id='522396530956046336', content=\"'VOU VOTAR NO AÉCIO, FORA PT' http://t.co/bI6HGaVheN\", content_clean='VOU VOTAR NO AÉCIO FORA PT httptcobI6HGaVheN', words=['vou', 'votar', 'no', 'aécio', 'fora', 'pt', 'httptcobi6hgavhen']),\n Row(id='522396533778821121', content='@ficobr @whenriquebhQUEM ATÉ AGORA ESTÁ JOGANDO SUJO SÃO VCS, QUE VCS ESTÃO FAZENDO C/A VIDA PARTICULAR AÉCIO,É ANTI-ÉTICO,ACHO UM ABSURDO.', content_clean='ficobr whenriquebhQUEM ATÉ AGORA ESTÁ JOGANDO SUJO SÃO VCS QUE VCS ESTÃO FAZENDO CA VIDA PARTICULAR AÉCIOÉ ANTIÉTICOACHO UM ABSURDO', words=['ficobr', 'whenriquebhquem', 'até', 'agora', 'está', 'jogando', 'sujo', 'são', 'vcs', 'que', 'vcs', 'estão', 'fazendo', 'ca', 'vida', 'particular', 'aécioé', 'antiéticoacho', 'um', 'absurdo']),\n Row(id='522396591823810560', content='No que se refere a irmã do #aecio...onde ela trabalha afinal??? #noqueserefereday', content_clean='No que se refere a irmã do aecioonde ela trabalha afinal noqueserefereday', words=['no', 'que', 'se', 'refere', 'a', 'irmã', 'do', 'aecioonde', 'ela', 'trabalha', 'afinal', 'noqueserefereday']),\n Row(id='522396621326516224', content='\"\"\"@PedroZaccaro: Aécio usou lei delegada para contratar parentes no governo de Minas http://t.co/ZSyeHQ8vJw via RBA\"\"\"', content_clean='PedroZaccaro Aécio usou lei delegada para contratar parentes no governo de Minas httptcoZSyeHQ8vJw via RBA', words=['pedrozaccaro', 'aécio', 'usou', 'lei', 'delegada', 'para', 'contratar', 'parentes', 'no', 'governo', 'de', 'minas', 'httptcozsyehq8vjw', 'via', 'rba']),\n Row(id='522396703186767872', content='Hoje é dia do professor então gostaria de parabenizar Aécio Neves que ensinou seus parentes a trabalhar no governo', content_clean='Hoje é dia do professor então gostaria de parabenizar Aécio Neves que ensinou seus parentes a trabalhar no governo', words=['hoje', 'é', 'dia', 'do', 'professor', 'então', 'gostaria', 'de', 'parabenizar', 'aécio', 'neves', 'que', 'ensinou', 'seus', 'parentes', 'a', 'trabalhar', 'no', 'governo']),\n Row(id='522396755267440641', content='Dilma ou Aécio,  Kezia??? Prefiro um tacacá com pouca goma,  muita pimenta e bastante camarão...', content_clean='Dilma ou Aécio  Kezia Prefiro um tacacá com pouca goma  muita pimenta e bastante camarão', words=['dilma', 'ou', 'aécio', '', 'kezia', 'prefiro', 'um', 'tacacá', 'com', 'pouca', 'goma', '', 'muita', 'pimenta', 'e', 'bastante', 'camarão']),\n Row(id='522396781653803008', content='Será que a Rede Globo está sendo paga p/ toda hora falar mal do Aecio Neves Tá dando na cara! Coisa feia!A Dilma tá cada dia pior que todos', content_clean='Será que a Rede Globo está sendo paga p toda hora falar mal do Aecio Neves Tá dando na cara Coisa feiaA Dilma tá cada dia pior que todos', words=['será', 'que', 'a', 'rede', 'globo', 'está', 'sendo', 'paga', 'p', 'toda', 'hora', 'falar', 'mal', 'do', 'aecio', 'neves', 'tá', 'dando', 'na', 'cara', 'coisa', 'feiaa', 'dilma', 'tá', 'cada', 'dia', 'pior', 'que', 'todos'])]"
     },
     "metadata": {},
     "output_type": "display_data"
    }
   ],
   "source": [
    "tokenizer = Tokenizer(inputCol=\"content_clean\", outputCol=\"words\")\n",
    "df_aecio = tokenizer.transform(df_aecio)\n",
    "\n",
    "display(df_aecio.head(20))"
   ],
   "metadata": {
    "collapsed": false,
    "ExecuteTime": {
     "end_time": "2024-05-31T18:58:15.592985300Z",
     "start_time": "2024-05-31T18:58:13.718422200Z"
    }
   },
   "id": "bec1009e4e48f98d"
  },
  {
   "cell_type": "code",
   "execution_count": 9,
   "outputs": [],
   "source": [
    "def remove_empty_tokens(tokens):\n",
    "    return [token for token in tokens if len(token) >= 3]"
   ],
   "metadata": {
    "collapsed": false,
    "ExecuteTime": {
     "end_time": "2024-05-31T18:58:15.637392400Z",
     "start_time": "2024-05-31T18:58:15.593982200Z"
    }
   },
   "id": "725c4a021083d8d0"
  },
  {
   "cell_type": "code",
   "execution_count": 10,
   "outputs": [
    {
     "data": {
      "text/plain": "[Row(id='522394798914015233', content='@KennedyAncar @Drimone @jornaldaREALMENTE DILMA CAGUEJOU,ESTAVA NERVOSA,SEM PREPARO,MUITO REPETITIVA VOLTA MUITO NO PASSADO,AÉCIO FOI MELHOR', content_clean='KennedyAncar Drimone jornaldaREALMENTE DILMA CAGUEJOUESTAVA NERVOSASEM PREPAROMUITO REPETITIVA VOLTA MUITO NO PASSADOAÉCIO FOI MELHOR', words=['kennedyancar', 'drimone', 'jornaldarealmente', 'dilma', 'caguejouestava', 'nervosasem', 'preparomuito', 'repetitiva', 'volta', 'muito', 'no', 'passadoaécio', 'foi', 'melhor'], filtered=['kennedyancar', 'drimone', 'jornaldarealmente', 'dilma', 'caguejouestava', 'nervosasem', 'preparomuito', 'repetitiva', 'volta', 'passadoaécio', 'melhor']),\n Row(id='522394968611360768', content='O site do TSE-MG ficou fora do ar, por que será hein Aécio?', content_clean='O site do TSEMG ficou fora do ar por que será hein Aécio', words=['o', 'site', 'do', 'tsemg', 'ficou', 'fora', 'do', 'ar', 'por', 'que', 'será', 'hein', 'aécio'], filtered=['site', 'tsemg', 'ficou', 'hein', 'aécio']),\n Row(id='522394979403325440', content='Olha isso @RealKajuru, mais um motivo pra não votar no Aécio http://t.co/DIe1xj4XJs #folha\"\"', content_clean='Olha isso RealKajuru mais um motivo pra não votar no Aécio httptcoDIe1xj4XJs folha', words=['olha', 'isso', 'realkajuru', 'mais', 'um', 'motivo', 'pra', 'não', 'votar', 'no', 'aécio', 'httptcodie1xj4xjs', 'folha'], filtered=['olha', 'realkajuru', 'motivo', 'pra', 'votar', 'aécio', 'httptcodie1xj4xjs', 'folha']),\n Row(id='522395075972976643', content='@Indianara_m também quero, to fodido pra arranja a absolut se o Aecio ganha, vou cagar uma Absolut', content_clean='Indianara_m também quero to fodido pra arranja a absolut se o Aecio ganha vou cagar uma Absolut', words=['indianara_m', 'também', 'quero', 'to', 'fodido', 'pra', 'arranja', 'a', 'absolut', 'se', 'o', 'aecio', 'ganha', 'vou', 'cagar', 'uma', 'absolut'], filtered=['indianara_m', 'quero', 'fodido', 'pra', 'arranja', 'absolut', 'aecio', 'ganha', 'vou', 'cagar', 'absolut']),\n Row(id='522395717797969920', content='@BlogdoNoblat ganho bem. Aécio não tem condições de administrar um país.', content_clean='BlogdoNoblat ganho bem Aécio não tem condições de administrar um país', words=['blogdonoblat', 'ganho', 'bem', 'aécio', 'não', 'tem', 'condições', 'de', 'administrar', 'um', 'país'], filtered=['blogdonoblat', 'ganho', 'bem', 'aécio', 'condições', 'administrar', 'país']),\n Row(id='522395826153619456', content='@UOLNoticias e o Alkmin esperando por São Pedro, se o Aécio ganhar alguém sabe por qual Santo ele vai esperar para resolver problemas? Kkkkk', content_clean='UOLNoticias e o Alkmin esperando por São Pedro se o Aécio ganhar alguém sabe por qual Santo ele vai esperar para resolver problemas Kkkkk', words=['uolnoticias', 'e', 'o', 'alkmin', 'esperando', 'por', 'são', 'pedro', 'se', 'o', 'aécio', 'ganhar', 'alguém', 'sabe', 'por', 'qual', 'santo', 'ele', 'vai', 'esperar', 'para', 'resolver', 'problemas', 'kkkkk'], filtered=['uolnoticias', 'alkmin', 'esperando', 'pedro', 'aécio', 'ganhar', 'alguém', 'sabe', 'santo', 'vai', 'esperar', 'resolver', 'problemas', 'kkkkk']),\n Row(id='522395968491520001', content='\"\"\"@sensacionalista: Aécio não empregará mais irmã, apenas cunhado, pois cunhado não é parente - http://t.co/bEqBWy8J5t\"\" kkkkk\"', content_clean='sensacionalista Aécio não empregará mais irmã apenas cunhado pois cunhado não é parente  httptcobEqBWy8J5t kkkkk', words=['sensacionalista', 'aécio', 'não', 'empregará', 'mais', 'irmã', 'apenas', 'cunhado', 'pois', 'cunhado', 'não', 'é', 'parente', '', 'httptcobeqbwy8j5t', 'kkkkk'], filtered=['sensacionalista', 'aécio', 'empregará', 'irmã', 'apenas', 'cunhado', 'pois', 'cunhado', 'parente', 'httptcobeqbwy8j5t', 'kkkkk']),\n Row(id='522395969577832448', content='Só eu acho qe o Aécio sambou na cara da Dilma ontem ? #DebateDaBand', content_clean='Só eu acho qe o Aécio sambou na cara da Dilma ontem  DebateDaBand', words=['só', 'eu', 'acho', 'qe', 'o', 'aécio', 'sambou', 'na', 'cara', 'da', 'dilma', 'ontem', '', 'debatedaband'], filtered=['acho', 'aécio', 'sambou', 'cara', 'dilma', 'ontem', 'debatedaband']),\n Row(id='522396040490917889', content='e falam q nao vao votar na dilma pq querem mudança com tanta ctz q ate parece q o aecio vai melhorar mta coisa', content_clean='e falam q nao vao votar na dilma pq querem mudança com tanta ctz q ate parece q o aecio vai melhorar mta coisa', words=['e', 'falam', 'q', 'nao', 'vao', 'votar', 'na', 'dilma', 'pq', 'querem', 'mudança', 'com', 'tanta', 'ctz', 'q', 'ate', 'parece', 'q', 'o', 'aecio', 'vai', 'melhorar', 'mta', 'coisa'], filtered=['falam', 'nao', 'vao', 'votar', 'dilma', 'querem', 'mudança', 'tanta', 'ctz', 'ate', 'parece', 'aecio', 'vai', 'melhorar', 'mta', 'coisa']),\n Row(id='522396184951144449', content='@valeriaberriel Sim, e achei um absurdo. Pior é que o jornal tem o Azevedo fazendo campanha pro Aécio de forma descarada.', content_clean='valeriaberriel Sim e achei um absurdo Pior é que o jornal tem o Azevedo fazendo campanha pro Aécio de forma descarada', words=['valeriaberriel', 'sim', 'e', 'achei', 'um', 'absurdo', 'pior', 'é', 'que', 'o', 'jornal', 'tem', 'o', 'azevedo', 'fazendo', 'campanha', 'pro', 'aécio', 'de', 'forma', 'descarada'], filtered=['valeriaberriel', 'sim', 'achei', 'absurdo', 'pior', 'jornal', 'azevedo', 'fazendo', 'campanha', 'pro', 'aécio', 'forma', 'descarada']),\n Row(id='522396230648102913', content='\"Olha o quadro competente do Aécio. \"\"@folha_com: Cantareira bate mais um recorde negativo e opera apenas com 4,3%. http://t.co/KXZ1EXut0k\"\"\"', content_clean='Olha o quadro competente do Aécio folha_com Cantareira bate mais um recorde negativo e opera apenas com 43 httptcoKXZ1EXut0k', words=['olha', 'o', 'quadro', 'competente', 'do', 'aécio', 'folha_com', 'cantareira', 'bate', 'mais', 'um', 'recorde', 'negativo', 'e', 'opera', 'apenas', 'com', '43', 'httptcokxz1exut0k'], filtered=['olha', 'quadro', 'competente', 'aécio', 'folha_com', 'cantareira', 'bate', 'recorde', 'negativo', 'opera', 'apenas', 'httptcokxz1exut0k']),\n Row(id='522396429353246720', content='Acho que o pessoal de Aécio e Dilma assistiram um debate diferente do que eu, pq sinceramente não vi superioridade de nenhum dos dois.', content_clean='Acho que o pessoal de Aécio e Dilma assistiram um debate diferente do que eu pq sinceramente não vi superioridade de nenhum dos dois', words=['acho', 'que', 'o', 'pessoal', 'de', 'aécio', 'e', 'dilma', 'assistiram', 'um', 'debate', 'diferente', 'do', 'que', 'eu', 'pq', 'sinceramente', 'não', 'vi', 'superioridade', 'de', 'nenhum', 'dos', 'dois'], filtered=['acho', 'pessoal', 'aécio', 'dilma', 'assistiram', 'debate', 'diferente', 'sinceramente', 'superioridade', 'nenhum', 'dois']),\n Row(id='522396451394314241', content='Me deseja feliz dia dos professores e depois diz que vai votar no Aécio. O que adianta?', content_clean='Me deseja feliz dia dos professores e depois diz que vai votar no Aécio O que adianta', words=['me', 'deseja', 'feliz', 'dia', 'dos', 'professores', 'e', 'depois', 'diz', 'que', 'vai', 'votar', 'no', 'aécio', 'o', 'que', 'adianta'], filtered=['deseja', 'feliz', 'dia', 'professores', 'diz', 'vai', 'votar', 'aécio', 'adianta']),\n Row(id='522396530956046336', content=\"'VOU VOTAR NO AÉCIO, FORA PT' http://t.co/bI6HGaVheN\", content_clean='VOU VOTAR NO AÉCIO FORA PT httptcobI6HGaVheN', words=['vou', 'votar', 'no', 'aécio', 'fora', 'pt', 'httptcobi6hgavhen'], filtered=['vou', 'votar', 'aécio', 'httptcobi6hgavhen']),\n Row(id='522396533778821121', content='@ficobr @whenriquebhQUEM ATÉ AGORA ESTÁ JOGANDO SUJO SÃO VCS, QUE VCS ESTÃO FAZENDO C/A VIDA PARTICULAR AÉCIO,É ANTI-ÉTICO,ACHO UM ABSURDO.', content_clean='ficobr whenriquebhQUEM ATÉ AGORA ESTÁ JOGANDO SUJO SÃO VCS QUE VCS ESTÃO FAZENDO CA VIDA PARTICULAR AÉCIOÉ ANTIÉTICOACHO UM ABSURDO', words=['ficobr', 'whenriquebhquem', 'até', 'agora', 'está', 'jogando', 'sujo', 'são', 'vcs', 'que', 'vcs', 'estão', 'fazendo', 'ca', 'vida', 'particular', 'aécioé', 'antiéticoacho', 'um', 'absurdo'], filtered=['ficobr', 'whenriquebhquem', 'agora', 'jogando', 'sujo', 'vcs', 'vcs', 'fazendo', 'vida', 'particular', 'aécioé', 'antiéticoacho', 'absurdo']),\n Row(id='522396591823810560', content='No que se refere a irmã do #aecio...onde ela trabalha afinal??? #noqueserefereday', content_clean='No que se refere a irmã do aecioonde ela trabalha afinal noqueserefereday', words=['no', 'que', 'se', 'refere', 'a', 'irmã', 'do', 'aecioonde', 'ela', 'trabalha', 'afinal', 'noqueserefereday'], filtered=['refere', 'irmã', 'aecioonde', 'trabalha', 'afinal', 'noqueserefereday']),\n Row(id='522396621326516224', content='\"\"\"@PedroZaccaro: Aécio usou lei delegada para contratar parentes no governo de Minas http://t.co/ZSyeHQ8vJw via RBA\"\"\"', content_clean='PedroZaccaro Aécio usou lei delegada para contratar parentes no governo de Minas httptcoZSyeHQ8vJw via RBA', words=['pedrozaccaro', 'aécio', 'usou', 'lei', 'delegada', 'para', 'contratar', 'parentes', 'no', 'governo', 'de', 'minas', 'httptcozsyehq8vjw', 'via', 'rba'], filtered=['pedrozaccaro', 'aécio', 'usou', 'lei', 'delegada', 'contratar', 'parentes', 'governo', 'minas', 'httptcozsyehq8vjw', 'via', 'rba']),\n Row(id='522396703186767872', content='Hoje é dia do professor então gostaria de parabenizar Aécio Neves que ensinou seus parentes a trabalhar no governo', content_clean='Hoje é dia do professor então gostaria de parabenizar Aécio Neves que ensinou seus parentes a trabalhar no governo', words=['hoje', 'é', 'dia', 'do', 'professor', 'então', 'gostaria', 'de', 'parabenizar', 'aécio', 'neves', 'que', 'ensinou', 'seus', 'parentes', 'a', 'trabalhar', 'no', 'governo'], filtered=['hoje', 'dia', 'professor', 'então', 'gostaria', 'parabenizar', 'aécio', 'neves', 'ensinou', 'parentes', 'trabalhar', 'governo']),\n Row(id='522396755267440641', content='Dilma ou Aécio,  Kezia??? Prefiro um tacacá com pouca goma,  muita pimenta e bastante camarão...', content_clean='Dilma ou Aécio  Kezia Prefiro um tacacá com pouca goma  muita pimenta e bastante camarão', words=['dilma', 'ou', 'aécio', '', 'kezia', 'prefiro', 'um', 'tacacá', 'com', 'pouca', 'goma', '', 'muita', 'pimenta', 'e', 'bastante', 'camarão'], filtered=['dilma', 'aécio', 'kezia', 'prefiro', 'tacacá', 'pouca', 'goma', 'muita', 'pimenta', 'bastante', 'camarão']),\n Row(id='522396781653803008', content='Será que a Rede Globo está sendo paga p/ toda hora falar mal do Aecio Neves Tá dando na cara! Coisa feia!A Dilma tá cada dia pior que todos', content_clean='Será que a Rede Globo está sendo paga p toda hora falar mal do Aecio Neves Tá dando na cara Coisa feiaA Dilma tá cada dia pior que todos', words=['será', 'que', 'a', 'rede', 'globo', 'está', 'sendo', 'paga', 'p', 'toda', 'hora', 'falar', 'mal', 'do', 'aecio', 'neves', 'tá', 'dando', 'na', 'cara', 'coisa', 'feiaa', 'dilma', 'tá', 'cada', 'dia', 'pior', 'que', 'todos'], filtered=['rede', 'globo', 'sendo', 'paga', 'toda', 'hora', 'falar', 'mal', 'aecio', 'neves', 'dando', 'cara', 'coisa', 'feiaa', 'dilma', 'cada', 'dia', 'pior', 'todos'])]"
     },
     "metadata": {},
     "output_type": "display_data"
    }
   ],
   "source": [
    "stopwordList = nltk.corpus.stopwords.words('portuguese')\n",
    "\n",
    "remover = StopWordsRemover(inputCol=\"words\", outputCol=\"filtered\", stopWords = stopwordList)\n",
    "df_aecio = remover.transform(df_aecio)\n",
    "\n",
    "remove_empty_tokens_udf = udf(remove_empty_tokens, ArrayType(StringType()))\n",
    "\n",
    "df_aecio = df_aecio.withColumn(\"filtered\", remove_empty_tokens_udf(col(\"filtered\")))\n",
    "\n",
    "display(df_aecio.head(20))"
   ],
   "metadata": {
    "collapsed": false,
    "ExecuteTime": {
     "end_time": "2024-05-31T18:58:18.298351300Z",
     "start_time": "2024-05-31T18:58:15.610395100Z"
    }
   },
   "id": "f3c572c7ac6c970"
  },
  {
   "cell_type": "code",
   "execution_count": 11,
   "outputs": [],
   "source": [
    "from functools import reduce\n",
    "\n",
    "def generate_ngrams(wordsData, ngram_range):\n",
    "    ngrams_data = []\n",
    "    for n in range(ngram_range[0], ngram_range[1] + 1):\n",
    "        ngram = NGram(n=n, inputCol=\"filtered\", outputCol=\"ngram\")\n",
    "        ngram_data = ngram.transform(wordsData)\n",
    "        ngrams_data.append(ngram_data)\n",
    "    return reduce(lambda df1, df2: df1.union(df2), ngrams_data)"
   ],
   "metadata": {
    "collapsed": false,
    "ExecuteTime": {
     "end_time": "2024-05-31T18:58:18.341894600Z",
     "start_time": "2024-05-31T18:58:18.299347900Z"
    }
   },
   "id": "375fe5bf8128ce7"
  },
  {
   "cell_type": "code",
   "execution_count": 12,
   "outputs": [
    {
     "name": "stdout",
     "output_type": "stream",
     "text": [
      "+------------------+--------------------+--------------------+--------------------+--------------------+--------------------+\n",
      "|                id|             content|       content_clean|               words|            filtered|               ngram|\n",
      "+------------------+--------------------+--------------------+--------------------+--------------------+--------------------+\n",
      "|522394798914015233|@KennedyAncar @Dr...|KennedyAncar Drim...|[kennedyancar, dr...|[kennedyancar, dr...|[kennedyancar dri...|\n",
      "|522394968611360768|O site do TSE-MG ...|O site do TSEMG f...|[o, site, do, tse...|[site, tsemg, fic...|[site tsemg, tsem...|\n",
      "|522394979403325440|Olha isso @RealKa...|Olha isso RealKaj...|[olha, isso, real...|[olha, realkajuru...|[olha realkajuru,...|\n",
      "|522395075972976643|@Indianara_m tamb...|Indianara_m també...|[indianara_m, tam...|[indianara_m, que...|[indianara_m quer...|\n",
      "|522395717797969920|@BlogdoNoblat gan...|BlogdoNoblat ganh...|[blogdonoblat, ga...|[blogdonoblat, ga...|[blogdonoblat gan...|\n",
      "|522395826153619456|@UOLNoticias e o ...|UOLNoticias e o A...|[uolnoticias, e, ...|[uolnoticias, alk...|[uolnoticias alkm...|\n",
      "|522395968491520001|\"\"\"@sensacionalis...|sensacionalista A...|[sensacionalista,...|[sensacionalista,...|[sensacionalista ...|\n",
      "|522395969577832448|Só eu acho qe o A...|Só eu acho qe o A...|[só, eu, acho, qe...|[acho, aécio, sam...|[acho aécio, aéci...|\n",
      "|522396040490917889|e falam q nao vao...|e falam q nao vao...|[e, falam, q, nao...|[falam, nao, vao,...|[falam nao, nao v...|\n",
      "|522396184951144449|@valeriaberriel S...|valeriaberriel Si...|[valeriaberriel, ...|[valeriaberriel, ...|[valeriaberriel s...|\n",
      "|522396230648102913|\"Olha o quadro co...|Olha o quadro com...|[olha, o, quadro,...|[olha, quadro, co...|[olha quadro, qua...|\n",
      "|522396429353246720|Acho que o pessoa...|Acho que o pessoa...|[acho, que, o, pe...|[acho, pessoal, a...|[acho pessoal, pe...|\n",
      "|522396451394314241|Me deseja feliz d...|Me deseja feliz d...|[me, deseja, feli...|[deseja, feliz, d...|[deseja feliz, fe...|\n",
      "|522396530956046336|'VOU VOTAR NO AÉC...|VOU VOTAR NO AÉCI...|[vou, votar, no, ...|[vou, votar, aéci...|[vou votar, votar...|\n",
      "|522396533778821121|@ficobr @whenriqu...|ficobr whenriqueb...|[ficobr, whenriqu...|[ficobr, whenriqu...|[ficobr whenrique...|\n",
      "|522396591823810560|No que se refere ...|No que se refere ...|[no, que, se, ref...|[refere, irmã, ae...|[refere irmã, irm...|\n",
      "|522396621326516224|\"\"\"@PedroZaccaro:...|PedroZaccaro Aéci...|[pedrozaccaro, aé...|[pedrozaccaro, aé...|[pedrozaccaro aéc...|\n",
      "|522396703186767872|Hoje é dia do pro...|Hoje é dia do pro...|[hoje, é, dia, do...|[hoje, dia, profe...|[hoje dia, dia pr...|\n",
      "|522396755267440641|Dilma ou Aécio,  ...|Dilma ou Aécio  K...|[dilma, ou, aécio...|[dilma, aécio, ke...|[dilma aécio, aéc...|\n",
      "|522396781653803008|Será que a Rede G...|Será que a Rede G...|[será, que, a, re...|[rede, globo, sen...|[rede globo, glob...|\n",
      "+------------------+--------------------+--------------------+--------------------+--------------------+--------------------+\n"
     ]
    }
   ],
   "source": [
    "ngram_range = (2, 5)\n",
    "df_aecio = generate_ngrams(df_aecio, ngram_range)\n",
    "\n",
    "df_aecio.show() # OK"
   ],
   "metadata": {
    "collapsed": false,
    "ExecuteTime": {
     "end_time": "2024-05-31T18:58:21.655441500Z",
     "start_time": "2024-05-31T18:58:18.314892700Z"
    }
   },
   "id": "7e04e46f2da7a5a7"
  },
  {
   "cell_type": "code",
   "execution_count": 13,
   "outputs": [],
   "source": [
    "hashingTF = HashingTF(inputCol=\"ngram\", outputCol=\"features\") \n",
    "# aparentemente isso aplica um countvec\n",
    "df_aecio = hashingTF.transform(df_aecio)"
   ],
   "metadata": {
    "collapsed": false,
    "ExecuteTime": {
     "end_time": "2024-05-31T18:58:21.810495700Z",
     "start_time": "2024-05-31T18:58:21.656442800Z"
    }
   },
   "id": "ae0623da2ae03bdc"
  },
  {
   "cell_type": "code",
   "execution_count": 14,
   "outputs": [],
   "source": [
    "# Aplicar IDF para calcular TF-IDF\n",
    "idf = IDF(inputCol=\"features\", outputCol=\"final_features\", minDocFreq = 5)\n",
    "idfModel = idf.fit(df_aecio)\n",
    "df_tfidf = idfModel.transform(df_aecio).select(\"id\", \"content\", \"ngram\", \"final_features\")"
   ],
   "metadata": {
    "collapsed": false,
    "ExecuteTime": {
     "end_time": "2024-05-31T19:01:23.260242500Z",
     "start_time": "2024-05-31T18:58:21.803986700Z"
    }
   },
   "id": "9534d1e3b6416921"
  },
  {
   "cell_type": "code",
   "execution_count": 15,
   "outputs": [
    {
     "name": "stdout",
     "output_type": "stream",
     "text": [
      "+------------------+--------------------+--------------------+--------------------+\n",
      "|                id|             content|               ngram|      final_features|\n",
      "+------------------+--------------------+--------------------+--------------------+\n",
      "|522394798914015233|@KennedyAncar @Dr...|[kennedyancar dri...|(262144,[20797,29...|\n",
      "|522394968611360768|O site do TSE-MG ...|[site tsemg, tsem...|(262144,[33219,23...|\n",
      "|522394979403325440|Olha isso @RealKa...|[olha realkajuru,...|(262144,[13974,21...|\n",
      "|522395075972976643|@Indianara_m tamb...|[indianara_m quer...|(262144,[24461,44...|\n",
      "|522395717797969920|@BlogdoNoblat gan...|[blogdonoblat gan...|(262144,[24081,74...|\n",
      "|522395826153619456|@UOLNoticias e o ...|[uolnoticias alkm...|(262144,[251,5644...|\n",
      "|522395968491520001|\"\"\"@sensacionalis...|[sensacionalista ...|(262144,[1917,152...|\n",
      "|522395969577832448|Só eu acho qe o A...|[acho aécio, aéci...|(262144,[33249,93...|\n",
      "|522396040490917889|e falam q nao vao...|[falam nao, nao v...|(262144,[14282,32...|\n",
      "|522396184951144449|@valeriaberriel S...|[valeriaberriel s...|(262144,[33474,57...|\n",
      "|522396230648102913|\"Olha o quadro co...|[olha quadro, qua...|(262144,[20377,21...|\n",
      "|522396429353246720|Acho que o pessoa...|[acho pessoal, pe...|(262144,[44641,84...|\n",
      "|522396451394314241|Me deseja feliz d...|[deseja feliz, fe...|(262144,[74780,91...|\n",
      "|522396530956046336|'VOU VOTAR NO AÉC...|[vou votar, votar...|(262144,[74780,13...|\n",
      "|522396533778821121|@ficobr @whenriqu...|[ficobr whenrique...|(262144,[11916,34...|\n",
      "|522396591823810560|No que se refere ...|[refere irmã, irm...|(262144,[59968,90...|\n",
      "|522396621326516224|\"\"\"@PedroZaccaro:...|[pedrozaccaro aéc...|(262144,[24933,60...|\n",
      "|522396703186767872|Hoje é dia do pro...|[hoje dia, dia pr...|(262144,[31526,49...|\n",
      "|522396755267440641|Dilma ou Aécio,  ...|[dilma aécio, aéc...|(262144,[3268,258...|\n",
      "|522396781653803008|Será que a Rede G...|[rede globo, glob...|(262144,[3859,601...|\n",
      "+------------------+--------------------+--------------------+--------------------+\n"
     ]
    }
   ],
   "source": [
    "df_tfidf.show()"
   ],
   "metadata": {
    "collapsed": false,
    "ExecuteTime": {
     "end_time": "2024-05-31T19:01:26.036863200Z",
     "start_time": "2024-05-31T19:01:23.262250500Z"
    }
   },
   "id": "521ef430b4ec428a"
  },
  {
   "cell_type": "code",
   "execution_count": 16,
   "outputs": [],
   "source": [
    "def calculate_l1_norm(vector):\n",
    "    sparse_vector = Vectors.sparse(vector.size, vector.indices, vector.values)\n",
    "    return float(sparse_vector.norm(1))"
   ],
   "metadata": {
    "collapsed": false,
    "ExecuteTime": {
     "end_time": "2024-05-31T19:01:26.110845500Z",
     "start_time": "2024-05-31T19:01:26.038867700Z"
    }
   },
   "id": "413e831ab8ff02a6"
  },
  {
   "cell_type": "code",
   "execution_count": 17,
   "outputs": [],
   "source": [
    "sum_udf = udf(calculate_l1_norm, DoubleType())\n",
    "\n",
    "important_sentences_df = df_tfidf.withColumn(\"tfidf_sum\", sum_udf(col(\"final_features\")))\n",
    "\n",
    "# Ordena as sentenças por tfidf_sum em ordem decrescente\n",
    "important_sentences_df = (important_sentences_df.orderBy(col(\"tfidf_sum\").desc())).limit(150).select(\"id\", \"content\", \"ngram\", \"final_features\", \"tfidf_sum\")"
   ],
   "metadata": {
    "collapsed": false,
    "ExecuteTime": {
     "end_time": "2024-05-31T19:01:26.149827200Z",
     "start_time": "2024-05-31T19:01:26.055752900Z"
    }
   },
   "id": "3d4c711a05871f42"
  },
  {
   "cell_type": "code",
   "execution_count": 18,
   "outputs": [],
   "source": [
    "df_orig = None\n",
    "df = None\n",
    "df_aecio = None"
   ],
   "metadata": {
    "collapsed": false,
    "ExecuteTime": {
     "end_time": "2024-05-31T19:01:26.178837800Z",
     "start_time": "2024-05-31T19:01:26.132826600Z"
    }
   },
   "id": "59b398f7ae338d82"
  },
  {
   "cell_type": "code",
   "execution_count": 19,
   "outputs": [],
   "source": [
    "#important_sentences_df.show()"
   ],
   "metadata": {
    "collapsed": false,
    "ExecuteTime": {
     "end_time": "2024-05-31T19:01:26.179915500Z",
     "start_time": "2024-05-31T19:01:26.146831900Z"
    }
   },
   "id": "619581702cd7e706"
  },
  {
   "cell_type": "code",
   "execution_count": 20,
   "outputs": [],
   "source": [
    "dataframe_pd = important_sentences_df.toPandas()\n",
    "\n",
    "dataframe_pd.to_csv('./outcome/Q1/result_aecio.csv', index=False)"
   ],
   "metadata": {
    "collapsed": false,
    "ExecuteTime": {
     "end_time": "2024-05-31T19:05:26.832555300Z",
     "start_time": "2024-05-31T19:01:26.162830Z"
    }
   },
   "id": "c422f3d3cf8454d4"
  },
  {
   "cell_type": "code",
   "execution_count": 21,
   "outputs": [],
   "source": [
    "spark.stop()"
   ],
   "metadata": {
    "collapsed": false,
    "ExecuteTime": {
     "end_time": "2024-05-31T19:05:27.812134200Z",
     "start_time": "2024-05-31T19:05:26.833556100Z"
    }
   },
   "id": "261b637e9411cd1c"
  },
  {
   "cell_type": "code",
   "execution_count": 22,
   "outputs": [],
   "source": [
    "# REDUZIR NUMERO DE FEATURES\n",
    "# CHECAR MOSTRAR O RESUTLADO SEM TER A FINAL_FEATURES E PRONTO"
   ],
   "metadata": {
    "collapsed": false,
    "ExecuteTime": {
     "end_time": "2024-05-31T19:05:27.826127400Z",
     "start_time": "2024-05-31T19:05:27.817130900Z"
    }
   },
   "id": "dac520afff3ca03c"
  }
 ],
 "metadata": {
  "kernelspec": {
   "display_name": "Python 3",
   "language": "python",
   "name": "python3"
  },
  "language_info": {
   "codemirror_mode": {
    "name": "ipython",
    "version": 2
   },
   "file_extension": ".py",
   "mimetype": "text/x-python",
   "name": "python",
   "nbconvert_exporter": "python",
   "pygments_lexer": "ipython2",
   "version": "2.7.6"
  }
 },
 "nbformat": 4,
 "nbformat_minor": 5
}
