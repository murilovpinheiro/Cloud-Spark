{
 "cells": [
  {
   "cell_type": "code",
   "execution_count": 80,
   "outputs": [],
   "source": [
    "from pyspark.sql import SparkSession\n",
    "from pyspark.sql.functions import to_date, col, count, date_format\n",
    "\n",
    "\n",
    "import seaborn as sns\n",
    "import matplotlib.pyplot as plt\n",
    "import matplotlib.dates as mdates"
   ],
   "metadata": {
    "collapsed": false,
    "ExecuteTime": {
     "end_time": "2024-06-03T22:08:57.814989Z",
     "start_time": "2024-06-03T22:08:57.776991100Z"
    }
   },
   "id": "37931b2c8168d752"
  },
  {
   "cell_type": "code",
   "execution_count": 81,
   "outputs": [],
   "source": [
    "spark = SparkSession.builder \\\n",
    "    .appName(\"SPARK TRAB - QUESTION 2 A\") \\\n",
    "    .getOrCreate()"
   ],
   "metadata": {
    "collapsed": false,
    "ExecuteTime": {
     "end_time": "2024-06-03T22:08:57.857039600Z",
     "start_time": "2024-06-03T22:08:57.789989500Z"
    }
   },
   "id": "dab1cf579c8d9884"
  },
  {
   "cell_type": "code",
   "execution_count": 82,
   "outputs": [],
   "source": [
    "df_orig = spark.read.json(\"./data/eiffel-tower-reviews.json\")"
   ],
   "metadata": {
    "collapsed": false,
    "ExecuteTime": {
     "end_time": "2024-06-03T22:08:57.974465100Z",
     "start_time": "2024-06-03T22:08:57.805989500Z"
    }
   },
   "id": "5ef4f4525564bf93"
  },
  {
   "cell_type": "code",
   "execution_count": 83,
   "outputs": [
    {
     "name": "stdout",
     "output_type": "stream",
     "text": [
      "+--------------------+--------------------+-----------+--------------------+------------+------------+--------------------+--------------------+\n",
      "|                 _id|              author|bubbleCount|         collectedAt|   createdAt|       query|                text|               title|\n",
      "+--------------------+--------------------+-----------+--------------------+------------+------------+--------------------+--------------------+\n",
      "|{5921cdae4b679c46...|{0, 0, Since this...|         50|{2017-05-21T17:26...|May 20, 2017|Eiffel_Tower|This is the most ...|Must do even it w...|\n",
      "|{5921cdae4b679c46...|{10, 4, Since Aug...|         50|{2017-05-21T17:26...|May 20, 2017|Eiffel_Tower|My significant ot...|           A Classic|\n",
      "|{5921cdae4b679c46...|{9, 4, Since Nov ...|         50|{2017-05-21T17:26...|May 20, 2017|Eiffel_Tower|We had a tour to ...|         Wet weather|\n",
      "|{5921cdae4b679c46...|{16, 5, Since Apr...|         50|{2017-05-21T17:26...|May 20, 2017|Eiffel_Tower|Visited with my w...|    Not to be missed|\n",
      "|{5921cdae4b679c46...|{30, 6, Since Jan...|         50|{2017-05-21T17:26...|May 20, 2017|Eiffel_Tower|We went in the ni...|          Awesome!!!|\n",
      "|{5921cdbf4b679c46...|{11, 4, Since Jul...|         50|{2017-05-21T17:26...|May 20, 2017|Eiffel_Tower|Dont hesitate and...|Iconic place for ...|\n",
      "|{5921cdbf4b679c46...|{12, 2, Since Jul...|         40|{2017-05-21T17:26...|May 20, 2017|Eiffel_Tower|I enjoyed the tow...|          Delightful|\n",
      "|{5921cdbf4b679c46...|{4, 3, Since May ...|         50|{2017-05-21T17:26...|May 20, 2017|Eiffel_Tower|Read through the ...|Wonderful experie...|\n",
      "|{5921cdbf4b679c46...|{12, 3, Since Dec...|         50|{2017-05-21T17:26...|May 20, 2017|Eiffel_Tower|This by far was o...|                 Wow|\n",
      "|{5921cdcf4b679c46...|{6, 4, Since May ...|         50|{2017-05-21T17:26...|May 19, 2017|Eiffel_Tower|Something you hav...|              Great |\n",
      "|{5921cdcf4b679c46...|{4, 3, Since May ...|         30|{2017-05-21T17:26...|May 19, 2017|Eiffel_Tower|The views are bea...|                  Ok|\n",
      "|{5921cdcf4b679c46...|{28, 5, Since Mar...|         30|{2017-05-21T17:26...|May 19, 2017|Eiffel_Tower|Worth spending a ...|It's the Eiffel T...|\n",
      "|{5921cdcf4b679c46...|{12, 4, Since May...|         50|{2017-05-21T17:26...|May 19, 2017|Eiffel_Tower|Took the tour to ...|             Amazing|\n",
      "|{5921cdcf4b679c46...|{49, 4, Since Sep...|         50|{2017-05-21T17:26...|May 20, 2017|Eiffel_Tower|A fantastic fusio...| One and Only Eiffel|\n",
      "|{5921cdcf4b679c46...|{44, 5, Since Sep...|         40|{2017-05-21T17:26...|May 19, 2017|Eiffel_Tower|Whatever you do i...|Long long queues ...|\n",
      "|{5921cdd04b679c46...|{0, 3, Since Apr ...|         50|{2017-05-21T17:26...|May 19, 2017|Eiffel_Tower|Not to miss..beau...|          incredible|\n",
      "|{5921cdd04b679c46...|{3, 4, Since Jul ...|         40|{2017-05-21T17:26...|May 20, 2017|Eiffel_Tower|We visited in the...| Time of Day matters|\n",
      "|{5921ce084b679c46...|{1, 0, Since this...|         50|{2017-05-21T17:27...|May 17, 2017|Eiffel_Tower|Go for sunset and...|   Not to be missed!|\n",
      "|{5921ce084b679c46...|{0, 1, Since Oct ...|         50|{2017-05-21T17:27...|May 17, 2017|Eiffel_Tower|We booked weeks a...|         Book ahead.|\n",
      "|{5921ce094b679c46...|{1, 3, Since Aug ...|         50|{2017-05-21T17:27...|May 17, 2017|Eiffel_Tower|Eiffel Tower is j...|             Amazing|\n",
      "+--------------------+--------------------+-----------+--------------------+------------+------------+--------------------+--------------------+\n"
     ]
    }
   ],
   "source": [
    "df_orig.show()"
   ],
   "metadata": {
    "collapsed": false,
    "ExecuteTime": {
     "end_time": "2024-06-03T22:08:58.037616200Z",
     "start_time": "2024-06-03T22:08:57.975465700Z"
    }
   },
   "id": "d4ba57bb6e854eda"
  },
  {
   "cell_type": "code",
   "execution_count": 84,
   "outputs": [
    {
     "name": "stdout",
     "output_type": "stream",
     "text": [
      "root\n",
      " |-- _id: struct (nullable = true)\n",
      " |    |-- $oid: string (nullable = true)\n",
      " |-- author: struct (nullable = true)\n",
      " |    |-- helpfulVotes: string (nullable = true)\n",
      " |    |-- level: string (nullable = true)\n",
      " |    |-- memberSince: string (nullable = true)\n",
      " |    |-- postForum: string (nullable = true)\n",
      " |    |-- ratings: string (nullable = true)\n",
      " |    |-- reviews: string (nullable = true)\n",
      " |-- bubbleCount: long (nullable = true)\n",
      " |-- collectedAt: struct (nullable = true)\n",
      " |    |-- $date: string (nullable = true)\n",
      " |-- createdAt: string (nullable = true)\n",
      " |-- query: string (nullable = true)\n",
      " |-- text: string (nullable = true)\n",
      " |-- title: string (nullable = true)\n"
     ]
    }
   ],
   "source": [
    "df_orig.printSchema()"
   ],
   "metadata": {
    "collapsed": false,
    "ExecuteTime": {
     "end_time": "2024-06-03T22:08:58.077139Z",
     "start_time": "2024-06-03T22:08:58.038615200Z"
    }
   },
   "id": "aeb5b53dc4123225"
  },
  {
   "cell_type": "code",
   "execution_count": 85,
   "outputs": [
    {
     "name": "stdout",
     "output_type": "stream",
     "text": [
      "+------------------+-----+\n",
      "|         createdAt|count|\n",
      "+------------------+-----+\n",
      "|     July 25, 2016|   48|\n",
      "|September 28, 2015|   46|\n",
      "|   August 13, 2015|   37|\n",
      "|    April 10, 2017|   35|\n",
      "| September 8, 2016|   35|\n",
      "|   August 14, 2015|   34|\n",
      "|   August 10, 2016|   33|\n",
      "|  October 17, 2016|   32|\n",
      "|September 15, 2015|   32|\n",
      "|  November 1, 2016|   31|\n",
      "|  October 18, 2016|   29|\n",
      "|    April 25, 2016|   27|\n",
      "|    August 7, 2016|   27|\n",
      "|  February 8, 2016|   27|\n",
      "|      May 27, 2016|   27|\n",
      "|     June 30, 2016|   27|\n",
      "|      June 8, 2016|   26|\n",
      "| September 2, 2015|   26|\n",
      "|   August 23, 2016|   26|\n",
      "|   August 18, 2015|   26|\n",
      "+------------------+-----+\n"
     ]
    }
   ],
   "source": [
    "date = df_orig.select(\"createdAt\").dropna()\n",
    "\n",
    "date.groupBy(\"createdAt\").agg(count(\"createdAt\").alias(\"count\")).orderBy(col(\"count\").desc()).show()"
   ],
   "metadata": {
    "collapsed": false,
    "ExecuteTime": {
     "end_time": "2024-06-03T22:08:58.365466100Z",
     "start_time": "2024-06-03T22:08:58.054132600Z"
    }
   },
   "id": "9c146325ac35ef4b"
  },
  {
   "cell_type": "code",
   "execution_count": 86,
   "outputs": [
    {
     "name": "stdout",
     "output_type": "stream",
     "text": [
      "+----------+-----+\n",
      "|      date|count|\n",
      "+----------+-----+\n",
      "|2016-03-01|   14|\n",
      "|2017-01-06|   10|\n",
      "|2016-04-25|   27|\n",
      "|2016-10-03|   14|\n",
      "|2016-08-31|    5|\n",
      "|2016-08-15|    7|\n",
      "|2016-07-26|   26|\n",
      "|2016-05-03|   13|\n",
      "|2015-12-22|   12|\n",
      "|2015-09-02|   26|\n",
      "|2017-02-26|    3|\n",
      "|2016-01-28|   11|\n",
      "|2017-01-24|   12|\n",
      "|2016-12-19|    1|\n",
      "|2016-11-08|    1|\n",
      "|2016-07-17|    5|\n",
      "|2015-09-28|   46|\n",
      "|2016-08-23|   26|\n",
      "|2016-07-03|   19|\n",
      "|2017-02-16|    9|\n",
      "+----------+-----+\n"
     ]
    }
   ],
   "source": [
    "date = date.withColumn(\"date\", to_date(date[\"createdAt\"], \"MMMM d, yyyy\"))\n",
    "\n",
    "date = date.withColumn(\"month_year\", date_format(\"date\", \"MM/yy\"))\n",
    "\n",
    "date_count = date.groupBy(\"date\").agg(count(\"date\").alias(\"count\"))\n",
    "\n",
    "date_count2 = date.groupBy(\"month_year\").agg(count(\"month_year\").alias(\"count\"))\n",
    "\n",
    "date_count.show()"
   ],
   "metadata": {
    "collapsed": false,
    "ExecuteTime": {
     "end_time": "2024-06-03T22:08:58.696051400Z",
     "start_time": "2024-06-03T22:08:58.367460Z"
    }
   },
   "id": "74a1ae3484bb9f7f"
  },
  {
   "cell_type": "code",
   "execution_count": 87,
   "outputs": [
    {
     "name": "stdout",
     "output_type": "stream",
     "text": [
      "+----------+-----+----------+\n",
      "|month_year|count|      date|\n",
      "+----------+-----+----------+\n",
      "|     04/16|  372|2016-04-01|\n",
      "|     12/16|  143|2016-12-01|\n",
      "|     11/15|  286|2015-11-01|\n",
      "|     02/17|  164|2017-02-01|\n",
      "|     01/17|  226|2017-01-01|\n",
      "|     08/16|  487|2016-08-01|\n",
      "|     01/16|  285|2016-01-01|\n",
      "|     09/15|  423|2015-09-01|\n",
      "|     04/17|  326|2017-04-01|\n",
      "|     06/16|  396|2016-06-01|\n",
      "|     08/15|  481|2015-08-01|\n",
      "|     11/16|  243|2016-11-01|\n",
      "|     10/16|  428|2016-10-01|\n",
      "|     12/15|  268|2015-12-01|\n",
      "|     10/15|  421|2015-10-01|\n",
      "|     02/16|  292|2016-02-01|\n",
      "|     05/17|  158|2017-05-01|\n",
      "|     03/16|  304|2016-03-01|\n",
      "|     03/17|  212|2017-03-01|\n",
      "|     05/16|  352|2016-05-01|\n",
      "+----------+-----+----------+\n"
     ]
    }
   ],
   "source": [
    "date_count2 = date_count2.withColumn(\"date\", to_date(\"month_year\", \"MM/yy\"))\n",
    "\n",
    "date_count2.show()"
   ],
   "metadata": {
    "collapsed": false,
    "ExecuteTime": {
     "end_time": "2024-06-03T22:08:58.902099700Z",
     "start_time": "2024-06-03T22:08:58.697061Z"
    }
   },
   "id": "bdeaedf7ee507ad4"
  },
  {
   "cell_type": "code",
   "execution_count": 88,
   "outputs": [],
   "source": [
    "date_count_pd = date_count.toPandas()\n",
    "\n",
    "date_count_pd2 = date_count2.toPandas()"
   ],
   "metadata": {
    "collapsed": false,
    "ExecuteTime": {
     "end_time": "2024-06-03T22:08:59.307745300Z",
     "start_time": "2024-06-03T22:08:58.904098900Z"
    }
   },
   "id": "bf55bc0e2327810f"
  },
  {
   "cell_type": "code",
   "execution_count": 89,
   "outputs": [],
   "source": [
    "sns.set(style=\"darkgrid\", rc={\n",
    "    \"axes.facecolor\": \"#252434\",\n",
    "    \"figure.facecolor\": \"#202124\",\n",
    "    \"grid.color\": \"#37474f\",\n",
    "    \"axes.edgecolor\": \"#202124\",\n",
    "    \"font.size\": 16,          \n",
    "    \"axes.labelsize\": 20,     \n",
    "    \"axes.titlesize\": 24,     \n",
    "    \"xtick.labelsize\": 16,   \n",
    "    \"ytick.labelsize\": 16  \n",
    "})"
   ],
   "metadata": {
    "collapsed": false,
    "ExecuteTime": {
     "end_time": "2024-06-03T22:08:59.322969200Z",
     "start_time": "2024-06-03T22:08:59.308744500Z"
    }
   },
   "id": "c4fac9bb380988f3"
  },
  {
   "cell_type": "code",
   "execution_count": 90,
   "outputs": [],
   "source": [
    "plt.figure(figsize=(28, 12), facecolor='#202124')\n",
    "sns.lineplot(x='date', y='count', data=date_count_pd, color='#ff3d2b', linewidth=2.5)\n",
    "\n",
    "plt.xlabel('Data', color='#ffffff', fontsize=22)  \n",
    "plt.ylabel('Número de Reviews', color='#ffffff', fontsize=22)  \n",
    "plt.title('Distribuição Temporal de Reviews - Torre Eiffel', color='#ffffff', fontsize=28)  \n",
    "\n",
    "plt.gca().xaxis.set_major_locator(mdates.MonthLocator())\n",
    "plt.gca().xaxis.set_major_formatter(mdates.DateFormatter('%m/%Y'))\n",
    "\n",
    "plt.xticks(color='#ffffff', fontsize=18) \n",
    "plt.yticks(color='#ffffff', fontsize=18) \n",
    "\n",
    "plt.tight_layout(pad=3.0)\n",
    "plt.savefig('./outcome/Q2/temporal_distribution.pdf', facecolor='#202124', bbox_inches='tight')\n",
    "plt.close()"
   ],
   "metadata": {
    "collapsed": false,
    "ExecuteTime": {
     "end_time": "2024-06-03T22:09:00.096519900Z",
     "start_time": "2024-06-03T22:08:59.328977900Z"
    }
   },
   "id": "23bb9ceddd92453c"
  },
  {
   "cell_type": "code",
   "execution_count": 91,
   "outputs": [
    {
     "data": {
      "text/plain": "<Figure size 640x480 with 1 Axes>",
      "image/png": "[encoded data removed]"
     },
     "metadata": {},
     "output_type": "display_data"
    }
   ],
   "source": [
    "sns.lineplot(x='date', y='count', data=date_count_pd2, color='#ff3d2b', marker= \"o\", linewidth=2.5)\n",
    "plt.show()"
   ],
   "metadata": {
    "collapsed": false,
    "ExecuteTime": {
     "end_time": "2024-06-03T22:09:00.318354800Z",
     "start_time": "2024-06-03T22:09:00.102518900Z"
    }
   },
   "id": "ad15bf9853deb0df"
  },
  {
   "cell_type": "code",
   "execution_count": 92,
   "outputs": [],
   "source": [
    "plt.figure(figsize=(28, 12), facecolor='#202124')\n",
    "sns.lineplot(x='date', y='count', data=date_count_pd2, color='#ff3d2b', marker= \"o\", linewidth=2.5)\n",
    "\n",
    "for x, y in zip(date_count_pd2['date'], date_count_pd2['count']):\n",
    "    plt.annotate(f'{y}', (x, y), textcoords=\"offset points\", xytext=(0,10), ha='center', color='white', fontsize=16, rotation=-25)\n",
    "\n",
    "plt.xlabel('Data Agrupada por mês', color='#ffffff', fontsize=22)  \n",
    "plt.ylabel('Número de Reviews', color='#ffffff', fontsize=22)  \n",
    "plt.title('Distribuição Temporal de Reviews - Torre Eiffel', color='#ffffff', fontsize=28)  \n",
    "\n",
    "plt.xticks(color='#ffffff', fontsize=18) \n",
    "plt.yticks(color='#ffffff', fontsize=18) \n",
    "\n",
    "plt.tight_layout(pad=3.0)\n",
    "plt.savefig('./outcome/Q2/temporal_distribution2.pdf', facecolor='#202124', bbox_inches='tight')\n",
    "plt.close()"
   ],
   "metadata": {
    "collapsed": false,
    "ExecuteTime": {
     "end_time": "2024-06-03T22:09:00.770992Z",
     "start_time": "2024-06-03T22:09:00.318354800Z"
    }
   },
   "id": "58cc5132bc5aec45"
  }
 ],
 "metadata": {
  "kernelspec": {
   "display_name": "Python 3",
   "language": "python",
   "name": "python3"
  },
  "language_info": {
   "codemirror_mode": {
    "name": "ipython",
    "version": 2
   },
   "file_extension": ".py",
   "mimetype": "text/x-python",
   "name": "python",
   "nbconvert_exporter": "python",
   "pygments_lexer": "ipython2",
   "version": "2.7.6"
  }
 },
 "nbformat": 4,
 "nbformat_minor": 5
}
