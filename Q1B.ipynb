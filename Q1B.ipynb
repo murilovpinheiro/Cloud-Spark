{
 "cells": [
  {
   "cell_type": "code",
   "execution_count": 1,
   "id": "initial_id",
   "metadata": {
    "collapsed": true,
    "ExecuteTime": {
     "end_time": "2024-05-30T03:34:23.009665500Z",
     "start_time": "2024-05-30T03:34:22.821075100Z"
    }
   },
   "outputs": [],
   "source": [
    "from pyspark.sql import SparkSession\n",
    "from pyspark.sql.functions import to_date, udf, size, col, explode\n",
    "from pyspark.sql.types import ArrayType, StringType\n",
    "\n",
    "import seaborn as sns\n",
    "import matplotlib.pyplot as plt\n",
    "import re"
   ]
  },
  {
   "cell_type": "code",
   "execution_count": 2,
   "outputs": [],
   "source": [
    "spark = SparkSession.builder \\\n",
    "    .appName(\"SPARK TRAB - QUESTION 1 B\") \\\n",
    "    .getOrCreate()"
   ],
   "metadata": {
    "collapsed": false,
    "ExecuteTime": {
     "end_time": "2024-05-30T03:34:29.065978900Z",
     "start_time": "2024-05-30T03:34:23.007654300Z"
    }
   },
   "id": "efa3c25c0422c9cd"
  },
  {
   "cell_type": "code",
   "execution_count": 3,
   "outputs": [],
   "source": [
    "df_orig = spark.read.option(\"header\", \"false\").option(\"delimiter\", \"\\t\").csv(\"./data/debate-tweets.tsv\")"
   ],
   "metadata": {
    "collapsed": false,
    "ExecuteTime": {
     "end_time": "2024-05-30T03:34:35.780518200Z",
     "start_time": "2024-05-30T03:34:29.065978900Z"
    }
   },
   "id": "9a0eac587801550c"
  },
  {
   "cell_type": "markdown",
   "source": [
    "## Objetivo\n",
    "O objetivo desse Notebook é, a partir dos dados de tweets brasileiros de 2014 durante o período de eleições, responder a seguinte pergunta:\n",
    "\n",
    "\"Quais as Hashtags mais utilizadas por dia?\""
   ],
   "metadata": {
    "collapsed": false
   },
   "id": "7d255548d7b73026"
  },
  {
   "cell_type": "code",
   "execution_count": 4,
   "outputs": [],
   "source": [
    "df = df_orig.select(\"_c0\", \"_c1\", \"_c8\")\n",
    "\n",
    "df = df.withColumnRenamed(\"_c0\", \"id\") \\\n",
    "                     .withColumnRenamed(\"_c1\", \"content\") \\\n",
    "                     .withColumnRenamed(\"_c8\", \"date\")"
   ],
   "metadata": {
    "collapsed": false,
    "ExecuteTime": {
     "end_time": "2024-05-30T03:34:35.860715900Z",
     "start_time": "2024-05-30T03:34:35.781517700Z"
    }
   },
   "id": "ee922c8d3d1d1f54"
  },
  {
   "cell_type": "code",
   "execution_count": 5,
   "outputs": [
    {
     "name": "stdout",
     "output_type": "stream",
     "text": [
      "+------------------+--------------------+----------+\n",
      "|                id|             content|      date|\n",
      "+------------------+--------------------+----------+\n",
      "|522394422710136832|@anacddd verdade,...|2014-10-15|\n",
      "|522394422806581248|              Que ñ*|2014-10-15|\n",
      "|522394422731100160| Vou quebrar a Bruna|2014-10-15|\n",
      "|522394422810783745|agora vou p segun...|2014-10-15|\n",
      "|522394423137943553|Me sinto tão bem ...|2014-10-15|\n",
      "|522394423188271104|Eu estou aqui, de...|2014-10-15|\n",
      "|522394423238606848|Quando vai embora...|2014-10-15|\n",
      "|522394423528022016|@paynecaralhudo k...|2014-10-15|\n",
      "|522394423632875521|Conceição da Barr...|2014-10-15|\n",
      "|522394424010362881| @Maniavato te amo ♥|2014-10-15|\n",
      "|522394424048091138|Alg me curtindo rs ♡|2014-10-15|\n",
      "|522394424010358784|@MiiluAA No, porq...|2014-10-15|\n",
      "|522394423741906944|#EMABiggestFansJu...|2014-10-15|\n",
      "|522394424568213505|@raizabatista dev...|2014-10-15|\n",
      "|522394424920506368|Me senti ate d fe...|2014-10-15|\n",
      "|522394424811458560|qual o sentido de...|2014-10-15|\n",
      "|522394425029574656|I'm at Lava Rápid...|2014-10-15|\n",
      "|522394425121841153|Fica comentando m...|2014-10-15|\n",
      "|522394425461579777|\"odeio que me man...|2014-10-15|\n",
      "|522394425960701952|CAMAMTEBABILONFRA...|2014-10-15|\n",
      "+------------------+--------------------+----------+\n"
     ]
    }
   ],
   "source": [
    "df.show()"
   ],
   "metadata": {
    "collapsed": false,
    "ExecuteTime": {
     "end_time": "2024-05-30T03:34:36.263812700Z",
     "start_time": "2024-05-30T03:34:35.860715900Z"
    }
   },
   "id": "b7f883e53939811a"
  },
  {
   "cell_type": "code",
   "execution_count": 6,
   "outputs": [
    {
     "name": "stdout",
     "output_type": "stream",
     "text": [
      "+------------------+--------------------+----------+----------+\n",
      "|                id|             content|      date|     date_|\n",
      "+------------------+--------------------+----------+----------+\n",
      "|522394422710136832|@anacddd verdade,...|2014-10-15|2014-10-15|\n",
      "|522394422806581248|              Que ñ*|2014-10-15|2014-10-15|\n",
      "|522394422731100160| Vou quebrar a Bruna|2014-10-15|2014-10-15|\n",
      "|522394422810783745|agora vou p segun...|2014-10-15|2014-10-15|\n",
      "|522394423137943553|Me sinto tão bem ...|2014-10-15|2014-10-15|\n",
      "|522394423188271104|Eu estou aqui, de...|2014-10-15|2014-10-15|\n",
      "|522394423238606848|Quando vai embora...|2014-10-15|2014-10-15|\n",
      "|522394423528022016|@paynecaralhudo k...|2014-10-15|2014-10-15|\n",
      "|522394423632875521|Conceição da Barr...|2014-10-15|2014-10-15|\n",
      "|522394424010362881| @Maniavato te amo ♥|2014-10-15|2014-10-15|\n",
      "|522394424048091138|Alg me curtindo rs ♡|2014-10-15|2014-10-15|\n",
      "|522394424010358784|@MiiluAA No, porq...|2014-10-15|2014-10-15|\n",
      "|522394423741906944|#EMABiggestFansJu...|2014-10-15|2014-10-15|\n",
      "|522394424568213505|@raizabatista dev...|2014-10-15|2014-10-15|\n",
      "|522394424920506368|Me senti ate d fe...|2014-10-15|2014-10-15|\n",
      "|522394424811458560|qual o sentido de...|2014-10-15|2014-10-15|\n",
      "|522394425029574656|I'm at Lava Rápid...|2014-10-15|2014-10-15|\n",
      "|522394425121841153|Fica comentando m...|2014-10-15|2014-10-15|\n",
      "|522394425461579777|\"odeio que me man...|2014-10-15|2014-10-15|\n",
      "|522394425960701952|CAMAMTEBABILONFRA...|2014-10-15|2014-10-15|\n",
      "+------------------+--------------------+----------+----------+\n"
     ]
    }
   ],
   "source": [
    "df = df.withColumn(\"date_\", to_date(df[\"date\"], \"yyyy-MM-dd\"))\n",
    "\n",
    "df.show()"
   ],
   "metadata": {
    "collapsed": false,
    "ExecuteTime": {
     "end_time": "2024-05-30T03:34:36.641061Z",
     "start_time": "2024-05-30T03:34:36.263812700Z"
    }
   },
   "id": "88266be6583d696f"
  },
  {
   "cell_type": "code",
   "execution_count": 7,
   "outputs": [],
   "source": [
    "# Função simples responsáveis por extrair hashtags utilizando expressão regulares\n",
    "\n",
    "def extract_hashtags(text):\n",
    "    return re.findall(r'#(\\w+)', text)"
   ],
   "metadata": {
    "collapsed": false,
    "ExecuteTime": {
     "end_time": "2024-05-30T03:34:36.654585400Z",
     "start_time": "2024-05-30T03:34:36.641061Z"
    }
   },
   "id": "fc12a3e2393e8a2d"
  },
  {
   "cell_type": "code",
   "execution_count": 8,
   "outputs": [
    {
     "name": "stdout",
     "output_type": "stream",
     "text": [
      "+----------+--------------------+\n",
      "|      date|             hashtag|\n",
      "+----------+--------------------+\n",
      "|2014-10-15|          QueroNoTVZ|\n",
      "|2014-10-15|EMABiggestFansJus...|\n",
      "|2014-10-15|EMABiggestFansJus...|\n",
      "|2014-10-15|    EMABiggestFans1D|\n",
      "|2014-10-15|          QueroNoTVZ|\n",
      "|2014-10-15|    EMABiggestFans1D|\n",
      "|2014-10-15|EMABiggestFansJus...|\n",
      "|2014-10-15|       SorrisoMaroto|\n",
      "|2014-10-15|            Encontro|\n",
      "|2014-10-15|             tãlegal|\n",
      "|2014-10-15|EMABiggestFansJus...|\n",
      "|2014-10-15|    EMABiggestFans1D|\n",
      "|2014-10-15|               beach|\n",
      "|2014-10-15|                  sp|\n",
      "|2014-10-15|                 sun|\n",
      "|2014-10-15|    EMABiggestFans1D|\n",
      "|2014-10-15|              TopPop|\n",
      "|2014-10-15|                 112|\n",
      "|2014-10-15|EMABiggestFansJus...|\n",
      "|2014-10-15|    EMABiggestFans1D|\n",
      "+----------+--------------------+\n"
     ]
    }
   ],
   "source": [
    "extract_hashtags_udf = udf(extract_hashtags, ArrayType(StringType()))\n",
    "\n",
    "# retirando as hashtags\n",
    "df_hashtags = df.withColumn(\"hashtags\", extract_hashtags_udf(df[\"content\"]))\n",
    "\n",
    "hashtags_and_dates = df_hashtags.select(\"hashtags\", \"date\").filter(size(col(\"hashtags\")) > 0)\n",
    "\n",
    "hashtags_and_dates = hashtags_and_dates.withColumn(\"hashtag\", explode(\"hashtags\")).select(\"date\", \"hashtag\").dropna()\n",
    "\n",
    "hashtags_and_dates.show()"
   ],
   "metadata": {
    "collapsed": false,
    "ExecuteTime": {
     "end_time": "2024-05-30T03:34:41.074780500Z",
     "start_time": "2024-05-30T03:34:36.658097800Z"
    }
   },
   "id": "5eb7586db38c9530"
  },
  {
   "cell_type": "code",
   "execution_count": 9,
   "outputs": [
    {
     "name": "stdout",
     "output_type": "stream",
     "text": [
      "+----------+\n",
      "|      date|\n",
      "+----------+\n",
      "|2014-10-15|\n",
      "|       0.0|\n",
      "|2014-10-16|\n",
      "|2014-10-17|\n",
      "|2014-10-18|\n",
      "|2014-10-19|\n",
      "|2014-10-20|\n",
      "+----------+\n"
     ]
    }
   ],
   "source": [
    "hashtags_and_dates.select(\"date\").distinct().show()"
   ],
   "metadata": {
    "collapsed": false,
    "ExecuteTime": {
     "end_time": "2024-05-30T03:35:21.168087400Z",
     "start_time": "2024-05-30T03:34:41.075779800Z"
    }
   },
   "id": "92d4df0d48a30db6"
  },
  {
   "cell_type": "code",
   "execution_count": 10,
   "outputs": [
    {
     "name": "stdout",
     "output_type": "stream",
     "text": [
      "+----------+--------------------+-----+\n",
      "|      date|             hashtag|count|\n",
      "+----------+--------------------+-----+\n",
      "|2014-10-16|    EMABiggestFans1D|68633|\n",
      "|2014-10-16|EMABiggestFansJus...|59012|\n",
      "|2014-10-17|EMABiggestFansJus...|49488|\n",
      "|2014-10-17|    EMABiggestFans1D|48001|\n",
      "|2014-10-15|    EMABiggestFans1D|34547|\n",
      "|2014-10-19|EMABiggestFansJus...|33582|\n",
      "|2014-10-19|    EMABiggestFans1D|29613|\n",
      "|2014-10-15|EMABiggestFansJus...|28105|\n",
      "|2014-10-18|EMABiggestFansJus...|27454|\n",
      "|2014-10-18|    EMABiggestFans1D|27226|\n",
      "|2014-10-16|        camilasayshi|10528|\n",
      "|2014-10-20|EMABiggestFansJus...|10452|\n",
      "|2014-10-20|    EMABiggestFans1D| 7425|\n",
      "|2014-10-15|         StealMyGirl| 6280|\n",
      "|2014-10-15|    bigpaynodanceoff| 4250|\n",
      "|2014-10-16|         DebateNoSBT| 3308|\n",
      "|2014-10-16|     CartersNewVideo| 3207|\n",
      "|2014-10-19|LuanSantanaNaHora...| 3144|\n",
      "|2014-10-17|          QueroNoTVZ| 3075|\n",
      "|2014-10-17|      TheVoiceBrasil| 2797|\n",
      "+----------+--------------------+-----+\n"
     ]
    }
   ],
   "source": [
    "hashtags_and_dates = hashtags_and_dates.groupBy(\"date\", \"hashtag\").count()\n",
    "\n",
    "hashtags_and_dates = hashtags_and_dates.orderBy(col(\"count\").desc())\n",
    "\n",
    "hashtags_and_dates.show()"
   ],
   "metadata": {
    "collapsed": false,
    "ExecuteTime": {
     "end_time": "2024-05-30T03:36:02.727820800Z",
     "start_time": "2024-05-30T03:35:21.169604300Z"
    }
   },
   "id": "e014081e136f8bad"
  },
  {
   "cell_type": "code",
   "execution_count": 11,
   "outputs": [],
   "source": [
    "top_20_hashtags_15 = hashtags_and_dates.filter(col(\"date\") == \"2014-10-15\").limit(25)\n",
    "\n",
    "top_20_hashtags_16 = hashtags_and_dates.filter(col(\"date\") == \"2014-10-16\").limit(25)\n",
    "\n",
    "top_20_hashtags_17 = hashtags_and_dates.filter(col(\"date\") == \"2014-10-17\").limit(25)\n",
    "\n",
    "top_20_hashtags_18 = hashtags_and_dates.filter(col(\"date\") == \"2014-10-18\").limit(25)\n",
    "\n",
    "top_20_hashtags_19 = hashtags_and_dates.filter(col(\"date\") == \"2014-10-19\").limit(25)\n",
    "\n",
    "top_20_hashtags_20 = hashtags_and_dates.filter(col(\"date\") == \"2014-10-20\").limit(25)"
   ],
   "metadata": {
    "collapsed": false,
    "ExecuteTime": {
     "end_time": "2024-05-30T03:36:02.903807500Z",
     "start_time": "2024-05-30T03:36:02.720307400Z"
    }
   },
   "id": "e5326e23120bb1c5"
  },
  {
   "cell_type": "code",
   "execution_count": 12,
   "outputs": [],
   "source": [
    "hashtags_pandas_15 = top_20_hashtags_15.toPandas()\n",
    "hashtags_pandas_16 = top_20_hashtags_16.toPandas()\n",
    "hashtags_pandas_17 = top_20_hashtags_17.toPandas()\n",
    "hashtags_pandas_18 = top_20_hashtags_18.toPandas()\n",
    "hashtags_pandas_19 = top_20_hashtags_19.toPandas()\n",
    "hashtags_pandas_20 = top_20_hashtags_20.toPandas()"
   ],
   "metadata": {
    "collapsed": false,
    "ExecuteTime": {
     "end_time": "2024-05-30T03:39:13.520453900Z",
     "start_time": "2024-05-30T03:36:02.826508100Z"
    }
   },
   "id": "2ace028149971ec5"
  },
  {
   "cell_type": "code",
   "execution_count": 13,
   "outputs": [],
   "source": [
    "sns.set(style=\"darkgrid\", rc={\"axes.facecolor\": \"#252434\", \"figure.facecolor\": \"#202124\", \"axes.edgecolor\": \"#21212a\", \"grid.color\": \"#21212a\"}) \n",
    "\n",
    "plt.figure(figsize=(10, 6), facecolor='#202124') \n",
    "barplot = sns.barplot(x='hashtag', y='count', data=hashtags_pandas_15, hue='hashtag', legend=False, palette='viridis', edgecolor = \"#21212a\", color = \"white\")\n",
    "\n",
    "# Adicionar os valores em cima das barras, divididos por 1000\n",
    "for p in barplot.patches:\n",
    "    barplot.annotate(format(p.get_height() / 1000, '.1f') + \"K\",\n",
    "                     (p.get_x() + p.get_width() / 2., p.get_height()),\n",
    "                     ha='center', va='center',\n",
    "                     xytext=(0, 10), textcoords='offset points', fontsize=8, rotation=30, color='#ffffff')\n",
    "\n",
    "plt.xlabel('Hashtag', color='#ffffff')  \n",
    "plt.ylabel('Quantidade', color='#ffffff')  \n",
    "plt.title('Top 25 Hashtags - Dia 15 de Outubro', color='#ffffff') \n",
    "plt.xticks(rotation=90, color='#ffffff')\n",
    "plt.yticks(color='#ffffff') \n",
    "\n",
    "\n",
    "plt.savefig('./outcome/Q1/top_hashtags_day15.pdf', facecolor='#202124', bbox_inches='tight')\n",
    "plt.close()"
   ],
   "metadata": {
    "collapsed": false,
    "ExecuteTime": {
     "end_time": "2024-05-30T03:39:14.469906400Z",
     "start_time": "2024-05-30T03:39:13.526456200Z"
    }
   },
   "id": "a9b50bea22bff717"
  },
  {
   "cell_type": "code",
   "execution_count": 14,
   "outputs": [
    {
     "name": "stderr",
     "output_type": "stream",
     "text": [
      "C:\\Users\\Murilo\\AppData\\Local\\Temp\\ipykernel_14544\\3503490132.py:20: UserWarning: Glyph 4448 (\\N{HANGUL JUNGSEONG FILLER}) missing from current font.\n",
      "  plt.savefig('./outcome/Q1/top_hashtags_day16.pdf', facecolor='#202124', bbox_inches='tight')\n",
      "C:\\Users\\Murilo\\AppData\\Local\\Temp\\ipykernel_14544\\3503490132.py:20: UserWarning: Glyph 4448 (\\N{HANGUL JUNGSEONG FILLER}) missing from current font.\n",
      "  plt.savefig('./outcome/Q1/top_hashtags_day16.pdf', facecolor='#202124', bbox_inches='tight')\n"
     ]
    }
   ],
   "source": [
    "sns.set(style=\"darkgrid\", rc={\"axes.facecolor\": \"#252434\", \"figure.facecolor\": \"#202124\", \"axes.edgecolor\": \"#21212a\", \"grid.color\": \"#21212a\"}) \n",
    "\n",
    "plt.figure(figsize=(10, 6), facecolor='#202124') \n",
    "barplot = sns.barplot(x='hashtag', y='count', data=hashtags_pandas_16, hue='hashtag', legend=False, palette='viridis', edgecolor = \"#21212a\", color = \"white\")\n",
    "\n",
    "# Adicionar os valores em cima das barras, divididos por 1000\n",
    "for p in barplot.patches:\n",
    "    barplot.annotate(format(p.get_height() / 1000, '.1f') + \"K\",\n",
    "                     (p.get_x() + p.get_width() / 2., p.get_height()),\n",
    "                     ha='center', va='center',\n",
    "                     xytext=(0, 10), textcoords='offset points', fontsize=8, rotation=30, color='#ffffff')\n",
    "\n",
    "plt.xlabel('Hashtag', color='#ffffff')  \n",
    "plt.ylabel('Quantidade', color='#ffffff')  \n",
    "plt.title('Top 25 Hashtags - Dia 16 de Outubro', color='#ffffff') \n",
    "plt.xticks(rotation=90, color='#ffffff')\n",
    "plt.yticks(color='#ffffff') \n",
    "\n",
    "\n",
    "plt.savefig('./outcome/Q1/top_hashtags_day16.pdf', facecolor='#202124', bbox_inches='tight')\n",
    "plt.close()"
   ],
   "metadata": {
    "collapsed": false,
    "ExecuteTime": {
     "end_time": "2024-05-30T03:39:15.075888800Z",
     "start_time": "2024-05-30T03:39:14.472908400Z"
    }
   },
   "id": "ca8d1e231306a24c"
  },
  {
   "cell_type": "code",
   "execution_count": 15,
   "outputs": [],
   "source": [
    "sns.set(style=\"darkgrid\", rc={\"axes.facecolor\": \"#252434\", \"figure.facecolor\": \"#202124\", \"axes.edgecolor\": \"#21212a\", \"grid.color\": \"#21212a\"}) \n",
    "\n",
    "plt.figure(figsize=(10, 6), facecolor='#202124') \n",
    "barplot = sns.barplot(x='hashtag', y='count', data=hashtags_pandas_17, hue='hashtag', legend=False, palette='viridis', edgecolor = \"#21212a\", color = \"white\")\n",
    "\n",
    "# Adicionar os valores em cima das barras, divididos por 1000\n",
    "for p in barplot.patches:\n",
    "    barplot.annotate(format(p.get_height() / 1000, '.1f') + \"K\",\n",
    "                     (p.get_x() + p.get_width() / 2., p.get_height()),\n",
    "                     ha='center', va='center',\n",
    "                     xytext=(0, 10), textcoords='offset points', fontsize=8, rotation=30, color='#ffffff')\n",
    "\n",
    "plt.xlabel('Hashtag', color='#ffffff')  \n",
    "plt.ylabel('Quantidade', color='#ffffff')  \n",
    "plt.title('Top 25 Hashtags - Dia 17 de Outubro', color='#ffffff') \n",
    "plt.xticks(rotation=90, color='#ffffff')\n",
    "plt.yticks(color='#ffffff') \n",
    "\n",
    "\n",
    "plt.savefig('./outcome/Q1/top_hashtags_day17.pdf', facecolor='#202124', bbox_inches='tight')\n",
    "plt.close()"
   ],
   "metadata": {
    "collapsed": false,
    "ExecuteTime": {
     "end_time": "2024-05-30T03:39:15.623239700Z",
     "start_time": "2024-05-30T03:39:15.103481200Z"
    }
   },
   "id": "ffedd2340d94eff4"
  },
  {
   "cell_type": "code",
   "execution_count": 16,
   "outputs": [],
   "source": [
    "sns.set(style=\"darkgrid\", rc={\"axes.facecolor\": \"#252434\", \"figure.facecolor\": \"#202124\", \"axes.edgecolor\": \"#21212a\", \"grid.color\": \"#21212a\"}) \n",
    "\n",
    "plt.figure(figsize=(10, 6), facecolor='#202124') \n",
    "barplot = sns.barplot(x='hashtag', y='count', data=hashtags_pandas_18, hue='hashtag', legend=False, palette='viridis', edgecolor = \"#21212a\", color = \"white\")\n",
    "\n",
    "# Adicionar os valores em cima das barras, divididos por 1000\n",
    "for p in barplot.patches:\n",
    "    barplot.annotate(format(p.get_height() / 1000, '.1f') + \"K\",\n",
    "                     (p.get_x() + p.get_width() / 2., p.get_height()),\n",
    "                     ha='center', va='center',\n",
    "                     xytext=(0, 10), textcoords='offset points', fontsize=8, rotation=30, color='#ffffff')\n",
    "\n",
    "plt.xlabel('Hashtag', color='#ffffff')  \n",
    "plt.ylabel('Quantidade', color='#ffffff')  \n",
    "plt.title('Top 25 Hashtags - Dia 18 de Outubro', color='#ffffff') \n",
    "plt.xticks(rotation=90, color='#ffffff')\n",
    "plt.yticks(color='#ffffff') \n",
    "\n",
    "\n",
    "plt.savefig('./outcome/Q1/top_hashtags_day18.pdf', facecolor='#202124', bbox_inches='tight')\n",
    "plt.close()"
   ],
   "metadata": {
    "collapsed": false,
    "ExecuteTime": {
     "end_time": "2024-05-30T03:39:16.166460200Z",
     "start_time": "2024-05-30T03:39:15.626240800Z"
    }
   },
   "id": "a746aa6b76289ff0"
  },
  {
   "cell_type": "code",
   "execution_count": 17,
   "outputs": [],
   "source": [
    "sns.set(style=\"darkgrid\", rc={\"axes.facecolor\": \"#252434\", \"figure.facecolor\": \"#202124\", \"axes.edgecolor\": \"#21212a\", \"grid.color\": \"#21212a\"}) \n",
    "\n",
    "plt.figure(figsize=(10, 6), facecolor='#202124') \n",
    "barplot = sns.barplot(x='hashtag', y='count', data=hashtags_pandas_19, hue='hashtag', legend=False, palette='viridis', edgecolor = \"#21212a\", color = \"white\")\n",
    "\n",
    "# Adicionar os valores em cima das barras, divididos por 1000\n",
    "for p in barplot.patches:\n",
    "    barplot.annotate(format(p.get_height() / 1000, '.1f') + \"K\",\n",
    "                     (p.get_x() + p.get_width() / 2., p.get_height()),\n",
    "                     ha='center', va='center',\n",
    "                     xytext=(0, 10), textcoords='offset points', fontsize=8, rotation=30, color='#ffffff')\n",
    "\n",
    "plt.xlabel('Hashtag', color='#ffffff')  \n",
    "plt.ylabel('Quantidade', color='#ffffff')  \n",
    "plt.title('Top 25 Hashtags - Dia 19 de Outubro', color='#ffffff') \n",
    "plt.xticks(rotation=90, color='#ffffff')\n",
    "plt.yticks(color='#ffffff') \n",
    "\n",
    "\n",
    "plt.savefig('./outcome/Q1/top_hashtags_day19.pdf', facecolor='#202124', bbox_inches='tight')\n",
    "plt.close()"
   ],
   "metadata": {
    "collapsed": false,
    "ExecuteTime": {
     "end_time": "2024-05-30T03:39:16.678960900Z",
     "start_time": "2024-05-30T03:39:16.176979400Z"
    }
   },
   "id": "8f4e2f104891677a"
  },
  {
   "cell_type": "code",
   "execution_count": 18,
   "outputs": [],
   "source": [
    "sns.set(style=\"darkgrid\", rc={\"axes.facecolor\": \"#252434\", \"figure.facecolor\": \"#202124\", \"axes.edgecolor\": \"#21212a\", \"grid.color\": \"#21212a\"}) \n",
    "\n",
    "plt.figure(figsize=(10, 6), facecolor='#202124') \n",
    "barplot = sns.barplot(x='hashtag', y='count', data=hashtags_pandas_20, hue='hashtag', legend=False, palette='viridis', edgecolor = \"#21212a\", color = \"white\")\n",
    "\n",
    "# Adicionar os valores em cima das barras, divididos por 1000\n",
    "for p in barplot.patches:\n",
    "    barplot.annotate(format(p.get_height() / 1000, '.1f') + \"K\",\n",
    "                     (p.get_x() + p.get_width() / 2., p.get_height()),\n",
    "                     ha='center', va='center',\n",
    "                     xytext=(0, 10), textcoords='offset points', fontsize=8, rotation=30, color='#ffffff')\n",
    "\n",
    "plt.xlabel('Hashtag', color='#ffffff')  \n",
    "plt.ylabel('Quantidade', color='#ffffff')  \n",
    "plt.title('Top 25 Hashtags - Dia 20 de Outubro', color='#ffffff') \n",
    "plt.xticks(rotation=90, color='#ffffff')\n",
    "plt.yticks(color='#ffffff') \n",
    "\n",
    "\n",
    "plt.savefig('./outcome/Q1/top_hashtags_day20.pdf', facecolor='#202124', bbox_inches='tight')\n",
    "plt.close()"
   ],
   "metadata": {
    "collapsed": false,
    "ExecuteTime": {
     "end_time": "2024-05-30T03:39:17.210230500Z",
     "start_time": "2024-05-30T03:39:16.693426600Z"
    }
   },
   "id": "41a1b5cb0829ca81"
  },
  {
   "cell_type": "code",
   "execution_count": 20,
   "outputs": [],
   "source": [
    "spark.stop()"
   ],
   "metadata": {
    "collapsed": false,
    "ExecuteTime": {
     "end_time": "2024-05-30T03:40:11.094783700Z",
     "start_time": "2024-05-30T03:40:09.981044Z"
    }
   },
   "id": "e5592b9f8d681c5c"
  }
 ],
 "metadata": {
  "kernelspec": {
   "display_name": "Python 3",
   "language": "python",
   "name": "python3"
  },
  "language_info": {
   "codemirror_mode": {
    "name": "ipython",
    "version": 2
   },
   "file_extension": ".py",
   "mimetype": "text/x-python",
   "name": "python",
   "nbconvert_exporter": "python",
   "pygments_lexer": "ipython2",
   "version": "2.7.6"
  }
 },
 "nbformat": 4,
 "nbformat_minor": 5
}
