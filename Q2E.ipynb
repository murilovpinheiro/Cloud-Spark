{
 "cells": [
  {
   "cell_type": "code",
   "execution_count": 29,
   "id": "initial_id",
   "metadata": {
    "collapsed": true,
    "ExecuteTime": {
     "end_time": "2024-06-02T22:06:39.016654800Z",
     "start_time": "2024-06-02T22:06:38.993624400Z"
    }
   },
   "outputs": [],
   "source": [
    "from pyspark.sql import SparkSession\n",
    "from pyspark.sql.functions import col, lower, regexp_replace, udf\n",
    "from pyspark.sql.types import StringType, DoubleType\n",
    "from textblob import TextBlob\n",
    "\n",
    "import seaborn as sns\n",
    "import matplotlib.pyplot as plt"
   ]
  },
  {
   "cell_type": "code",
   "execution_count": 30,
   "outputs": [],
   "source": [
    "spark = SparkSession.builder \\\n",
    "    .appName(\"SPARK TRAB - QUESTION 2 A\") \\\n",
    "    .getOrCreate()"
   ],
   "metadata": {
    "collapsed": false,
    "ExecuteTime": {
     "end_time": "2024-06-02T22:06:39.057382500Z",
     "start_time": "2024-06-02T22:06:39.005138600Z"
    }
   },
   "id": "d33cbb634c4c0f16"
  },
  {
   "cell_type": "code",
   "execution_count": 31,
   "outputs": [],
   "source": [
    "df_orig = spark.read.json(\"./data/eiffel-tower-reviews.json\")"
   ],
   "metadata": {
    "collapsed": false,
    "ExecuteTime": {
     "end_time": "2024-06-02T22:06:39.267507Z",
     "start_time": "2024-06-02T22:06:39.020983600Z"
    }
   },
   "id": "43c0bc8feafa6871"
  },
  {
   "cell_type": "code",
   "execution_count": 32,
   "outputs": [
    {
     "name": "stdout",
     "output_type": "stream",
     "text": [
      "+--------------------+--------------------+-----------+--------------------+------------+------------+--------------------+--------------------+\n",
      "|                 _id|              author|bubbleCount|         collectedAt|   createdAt|       query|                text|               title|\n",
      "+--------------------+--------------------+-----------+--------------------+------------+------------+--------------------+--------------------+\n",
      "|{5921cdae4b679c46...|{0, 0, Since this...|         50|{2017-05-21T17:26...|May 20, 2017|Eiffel_Tower|This is the most ...|Must do even it w...|\n",
      "|{5921cdae4b679c46...|{10, 4, Since Aug...|         50|{2017-05-21T17:26...|May 20, 2017|Eiffel_Tower|My significant ot...|           A Classic|\n",
      "|{5921cdae4b679c46...|{9, 4, Since Nov ...|         50|{2017-05-21T17:26...|May 20, 2017|Eiffel_Tower|We had a tour to ...|         Wet weather|\n",
      "|{5921cdae4b679c46...|{16, 5, Since Apr...|         50|{2017-05-21T17:26...|May 20, 2017|Eiffel_Tower|Visited with my w...|    Not to be missed|\n",
      "|{5921cdae4b679c46...|{30, 6, Since Jan...|         50|{2017-05-21T17:26...|May 20, 2017|Eiffel_Tower|We went in the ni...|          Awesome!!!|\n",
      "|{5921cdbf4b679c46...|{11, 4, Since Jul...|         50|{2017-05-21T17:26...|May 20, 2017|Eiffel_Tower|Dont hesitate and...|Iconic place for ...|\n",
      "|{5921cdbf4b679c46...|{12, 2, Since Jul...|         40|{2017-05-21T17:26...|May 20, 2017|Eiffel_Tower|I enjoyed the tow...|          Delightful|\n",
      "|{5921cdbf4b679c46...|{4, 3, Since May ...|         50|{2017-05-21T17:26...|May 20, 2017|Eiffel_Tower|Read through the ...|Wonderful experie...|\n",
      "|{5921cdbf4b679c46...|{12, 3, Since Dec...|         50|{2017-05-21T17:26...|May 20, 2017|Eiffel_Tower|This by far was o...|                 Wow|\n",
      "|{5921cdcf4b679c46...|{6, 4, Since May ...|         50|{2017-05-21T17:26...|May 19, 2017|Eiffel_Tower|Something you hav...|              Great |\n",
      "|{5921cdcf4b679c46...|{4, 3, Since May ...|         30|{2017-05-21T17:26...|May 19, 2017|Eiffel_Tower|The views are bea...|                  Ok|\n",
      "|{5921cdcf4b679c46...|{28, 5, Since Mar...|         30|{2017-05-21T17:26...|May 19, 2017|Eiffel_Tower|Worth spending a ...|It's the Eiffel T...|\n",
      "|{5921cdcf4b679c46...|{12, 4, Since May...|         50|{2017-05-21T17:26...|May 19, 2017|Eiffel_Tower|Took the tour to ...|             Amazing|\n",
      "|{5921cdcf4b679c46...|{49, 4, Since Sep...|         50|{2017-05-21T17:26...|May 20, 2017|Eiffel_Tower|A fantastic fusio...| One and Only Eiffel|\n",
      "|{5921cdcf4b679c46...|{44, 5, Since Sep...|         40|{2017-05-21T17:26...|May 19, 2017|Eiffel_Tower|Whatever you do i...|Long long queues ...|\n",
      "|{5921cdd04b679c46...|{0, 3, Since Apr ...|         50|{2017-05-21T17:26...|May 19, 2017|Eiffel_Tower|Not to miss..beau...|          incredible|\n",
      "|{5921cdd04b679c46...|{3, 4, Since Jul ...|         40|{2017-05-21T17:26...|May 20, 2017|Eiffel_Tower|We visited in the...| Time of Day matters|\n",
      "|{5921ce084b679c46...|{1, 0, Since this...|         50|{2017-05-21T17:27...|May 17, 2017|Eiffel_Tower|Go for sunset and...|   Not to be missed!|\n",
      "|{5921ce084b679c46...|{0, 1, Since Oct ...|         50|{2017-05-21T17:27...|May 17, 2017|Eiffel_Tower|We booked weeks a...|         Book ahead.|\n",
      "|{5921ce094b679c46...|{1, 3, Since Aug ...|         50|{2017-05-21T17:27...|May 17, 2017|Eiffel_Tower|Eiffel Tower is j...|             Amazing|\n",
      "+--------------------+--------------------+-----------+--------------------+------------+------------+--------------------+--------------------+\n"
     ]
    }
   ],
   "source": [
    "df_orig.show()"
   ],
   "metadata": {
    "collapsed": false,
    "ExecuteTime": {
     "end_time": "2024-06-02T22:06:39.387927100Z",
     "start_time": "2024-06-02T22:06:39.269518200Z"
    }
   },
   "id": "3d2885fcde718744"
  },
  {
   "cell_type": "code",
   "execution_count": 33,
   "outputs": [
    {
     "name": "stdout",
     "output_type": "stream",
     "text": [
      "+--------------------+\n",
      "|                text|\n",
      "+--------------------+\n",
      "|This is the most ...|\n",
      "|My significant ot...|\n",
      "|We had a tour to ...|\n",
      "|Visited with my w...|\n",
      "|We went in the ni...|\n",
      "|Dont hesitate and...|\n",
      "|I enjoyed the tow...|\n",
      "|Read through the ...|\n",
      "|This by far was o...|\n",
      "|Something you hav...|\n",
      "|The views are bea...|\n",
      "|Worth spending a ...|\n",
      "|Took the tour to ...|\n",
      "|A fantastic fusio...|\n",
      "|Whatever you do i...|\n",
      "|Not to miss..beau...|\n",
      "|We visited in the...|\n",
      "|Go for sunset and...|\n",
      "|We booked weeks a...|\n",
      "|Eiffel Tower is j...|\n",
      "+--------------------+\n"
     ]
    }
   ],
   "source": [
    "text = df_orig.select(\"text\").dropna()\n",
    "\n",
    "text.show()"
   ],
   "metadata": {
    "collapsed": false,
    "ExecuteTime": {
     "end_time": "2024-06-02T22:06:39.562857700Z",
     "start_time": "2024-06-02T22:06:39.390936Z"
    }
   },
   "id": "59cf4af19cd3f9df"
  },
  {
   "cell_type": "code",
   "execution_count": 34,
   "outputs": [],
   "source": [
    "reviews_df = text.withColumn(\"clean_text\", lower(col(\"text\")))\n",
    "reviews_df = reviews_df.withColumn(\"clean_text\", regexp_replace(col(\"clean_text\"), \"[^a-zA-Z\\\\s]\", \"\"))"
   ],
   "metadata": {
    "collapsed": false,
    "ExecuteTime": {
     "end_time": "2024-06-02T22:06:39.676735300Z",
     "start_time": "2024-06-02T22:06:39.564859600Z"
    }
   },
   "id": "a8b8873109b5c789"
  },
  {
   "cell_type": "code",
   "execution_count": 35,
   "outputs": [],
   "source": [
    "def analyze_sentiment(text):\n",
    "    blob = TextBlob(text)\n",
    "    return blob.sentiment.polarity"
   ],
   "metadata": {
    "collapsed": false,
    "ExecuteTime": {
     "end_time": "2024-06-02T22:06:39.709265800Z",
     "start_time": "2024-06-02T22:06:39.604953400Z"
    }
   },
   "id": "b0aa8b8fb9c0e45e"
  },
  {
   "cell_type": "code",
   "execution_count": 36,
   "outputs": [
    {
     "name": "stdout",
     "output_type": "stream",
     "text": [
      "+--------------------+--------------------+-------------------+\n",
      "|                text|          clean_text|          sentiment|\n",
      "+--------------------+--------------------+-------------------+\n",
      "|This is the most ...|this is the most ...|               0.55|\n",
      "|My significant ot...|my significant ot...| 0.2649350649350649|\n",
      "|We had a tour to ...|we had a tour to ...|-0.2810185185185185|\n",
      "|Visited with my w...|visited with my w...|                0.0|\n",
      "|We went in the ni...|we went in the ni...|0.44142857142857145|\n",
      "|Dont hesitate and...|dont hesitate and...|0.24285714285714288|\n",
      "|I enjoyed the tow...|i enjoyed the tow...| 0.5700000000000001|\n",
      "|Read through the ...|read through the ...| 0.4666666666666666|\n",
      "|This by far was o...|this by far was o...|0.47500000000000003|\n",
      "|Something you hav...|something you hav...|               0.85|\n",
      "|The views are bea...|the views are bea...|              0.375|\n",
      "|Worth spending a ...|worth spending a ...|0.19999999999999998|\n",
      "|Took the tour to ...|took the tour to ...|              0.487|\n",
      "|A fantastic fusio...|a fantastic fusio...|0.21359427609427611|\n",
      "|Whatever you do i...|whatever you do i...|0.02854938271604938|\n",
      "|Not to miss..beau...|not to missbeauti...| 0.8666666666666667|\n",
      "|We visited in the...|we visited in the...|                0.5|\n",
      "|Go for sunset and...|go for sunset and...| 0.3642857142857143|\n",
      "|We booked weeks a...|we booked weeks a...|            0.33125|\n",
      "|Eiffel Tower is j...|eiffel tower is j...|0.47000000000000003|\n",
      "+--------------------+--------------------+-------------------+\n"
     ]
    }
   ],
   "source": [
    "sentiment_udf = udf(analyze_sentiment, DoubleType())\n",
    "\n",
    "sentiment_distribution = reviews_df.withColumn(\"sentiment\", sentiment_udf(col(\"clean_text\")))\n",
    "\n",
    "sentiment_distribution.show()"
   ],
   "metadata": {
    "collapsed": false,
    "ExecuteTime": {
     "end_time": "2024-06-02T22:06:41.817904900Z",
     "start_time": "2024-06-02T22:06:39.620995800Z"
    }
   },
   "id": "a4e93491dc5ad25c"
  },
  {
   "cell_type": "code",
   "execution_count": 37,
   "outputs": [],
   "source": [
    "data = sentiment_distribution.toPandas()"
   ],
   "metadata": {
    "collapsed": false,
    "ExecuteTime": {
     "end_time": "2024-06-02T22:06:45.708549400Z",
     "start_time": "2024-06-02T22:06:41.820917200Z"
    }
   },
   "id": "794ce48ff86ccf2b"
  },
  {
   "cell_type": "code",
   "execution_count": 38,
   "outputs": [],
   "source": [
    "sns.set(style=\"darkgrid\", rc={\"axes.facecolor\": \"#252434\", \"figure.facecolor\": \"#202124\", \"axes.edgecolor\": \"#21212a\", \"grid.color\": \"#21212a\"}) \n",
    "\n",
    "plt.figure(figsize=(10, 6), facecolor='#202124') \n",
    "histplt = sns.histplot(data=data, x='sentiment', bins=25, kde=True, color='#eb0229', edgecolor='white', linewidth=1.5)  \n",
    "\n",
    "plt.xlabel('Polaridade de Sentimento', color='#ffffff')  \n",
    "plt.ylabel('Quantidade', color='#ffffff')  \n",
    "plt.title('Distribuição de Sentimento das Reviews', color='#ffffff') \n",
    "plt.xticks(rotation=45, ha = \"right\",color='#ffffff')\n",
    "plt.yticks(color='#ffffff') \n",
    "\n",
    "plt.savefig('./outcome/Q2/sentiment_distribution.pdf', facecolor='#202124', bbox_inches='tight')\n",
    "plt.close()"
   ],
   "metadata": {
    "collapsed": false,
    "ExecuteTime": {
     "end_time": "2024-06-02T22:06:46.075131200Z",
     "start_time": "2024-06-02T22:06:45.711558700Z"
    }
   },
   "id": "c3c32ed22d93e53f"
  }
 ],
 "metadata": {
  "kernelspec": {
   "display_name": "Python 3",
   "language": "python",
   "name": "python3"
  },
  "language_info": {
   "codemirror_mode": {
    "name": "ipython",
    "version": 2
   },
   "file_extension": ".py",
   "mimetype": "text/x-python",
   "name": "python",
   "nbconvert_exporter": "python",
   "pygments_lexer": "ipython2",
   "version": "2.7.6"
  }
 },
 "nbformat": 4,
 "nbformat_minor": 5
}
