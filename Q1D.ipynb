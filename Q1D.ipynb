{
 "cells": [
  {
   "cell_type": "code",
   "execution_count": 1,
   "id": "initial_id",
   "metadata": {
    "collapsed": true,
    "ExecuteTime": {
     "end_time": "2024-06-05T16:24:14.082053400Z",
     "start_time": "2024-06-05T16:24:12.692344900Z"
    }
   },
   "outputs": [],
   "source": [
    "from pyspark.sql import SparkSession\n",
    "from pyspark.sql.functions import col, udf, explode\n",
    "from pyspark.sql.types import BooleanType, ArrayType, StringType\n",
    "from pyspark.ml.feature import Tokenizer, StopWordsRemover, NGram\n",
    "from functools import reduce\n",
    "\n",
    "import pandas as pd\n",
    "import re\n",
    "import nltk"
   ]
  },
  {
   "cell_type": "code",
   "execution_count": 2,
   "outputs": [],
   "source": [
    "spark = (SparkSession.builder \\\n",
    "    .appName(\"SPARK TRAB - QUESTION 1 D\").getOrCreate())"
   ],
   "metadata": {
    "collapsed": false,
    "ExecuteTime": {
     "end_time": "2024-06-05T16:24:17.937095700Z",
     "start_time": "2024-06-05T16:24:14.084053100Z"
    }
   },
   "id": "8ea4c4cb498ce60e"
  },
  {
   "cell_type": "code",
   "execution_count": 3,
   "outputs": [],
   "source": [
    "df_orig = spark.read.option(\"header\", \"false\").option(\"delimiter\", \"\\t\").csv(\"./data/debate-tweets.tsv\")"
   ],
   "metadata": {
    "collapsed": false,
    "ExecuteTime": {
     "end_time": "2024-06-05T16:24:22.698668100Z",
     "start_time": "2024-06-05T16:24:17.939097200Z"
    }
   },
   "id": "f761b8d6538f3d75"
  },
  {
   "cell_type": "markdown",
   "source": [
    "## Objetivo"
   ],
   "metadata": {
    "collapsed": false
   },
   "id": "23ec9becce8c5245"
  },
  {
   "cell_type": "code",
   "execution_count": 4,
   "outputs": [
    {
     "name": "stdout",
     "output_type": "stream",
     "text": [
      "+------------------+--------------------+\n",
      "|                id|             content|\n",
      "+------------------+--------------------+\n",
      "|522394422710136832|@anacddd verdade,...|\n",
      "|522394422806581248|              Que ñ*|\n",
      "|522394422731100160| Vou quebrar a Bruna|\n",
      "|522394422810783745|agora vou p segun...|\n",
      "|522394423137943553|Me sinto tão bem ...|\n",
      "|522394423188271104|Eu estou aqui, de...|\n",
      "|522394423238606848|Quando vai embora...|\n",
      "|522394423528022016|@paynecaralhudo k...|\n",
      "|522394423632875521|Conceição da Barr...|\n",
      "|522394424010362881| @Maniavato te amo ♥|\n",
      "|522394424048091138|Alg me curtindo rs ♡|\n",
      "|522394424010358784|@MiiluAA No, porq...|\n",
      "|522394423741906944|#EMABiggestFansJu...|\n",
      "|522394424568213505|@raizabatista dev...|\n",
      "|522394424920506368|Me senti ate d fe...|\n",
      "|522394424811458560|qual o sentido de...|\n",
      "|522394425029574656|I'm at Lava Rápid...|\n",
      "|522394425121841153|Fica comentando m...|\n",
      "|522394425461579777|\"odeio que me man...|\n",
      "|522394425960701952|CAMAMTEBABILONFRA...|\n",
      "+------------------+--------------------+\n"
     ]
    }
   ],
   "source": [
    "df = df_orig.select(\"_c0\", \"_c1\")\n",
    "\n",
    "df = df.withColumnRenamed(\"_c0\", \"id\") \\\n",
    "                     .withColumnRenamed(\"_c1\", \"content\")\n",
    "\n",
    "df.show()"
   ],
   "metadata": {
    "collapsed": false,
    "ExecuteTime": {
     "end_time": "2024-06-05T16:24:23.042289200Z",
     "start_time": "2024-06-05T16:24:22.702668Z"
    }
   },
   "id": "cfb9b2b167461b39"
  },
  {
   "cell_type": "code",
   "execution_count": 5,
   "outputs": [],
   "source": [
    "def extract_dilma(text):\n",
    "    if re.search(r'\\bDilma\\b', text, re.IGNORECASE):\n",
    "        return True\n",
    "    else:\n",
    "        return False\n",
    "    \n",
    "def remove_punctuation(text):\n",
    "    return re.sub(r'[^\\w\\s]', ' ', text)"
   ],
   "metadata": {
    "collapsed": false,
    "ExecuteTime": {
     "end_time": "2024-06-05T16:24:23.074985Z",
     "start_time": "2024-06-05T16:24:23.043288Z"
    }
   },
   "id": "d9af9f2c6f1843f5"
  },
  {
   "cell_type": "code",
   "execution_count": 6,
   "outputs": [
    {
     "data": {
      "text/plain": "[Row(id='522394534773538816', content='\"\"\"@marinaecologia: Dilma não arruma nem os dentes, imagina o país.\"\"\"'),\n Row(id='522394590671020032', content='Pensando seriamente em chamar o manicômio pra quem quer votar na Dilma'),\n Row(id='522394744463577088', content='O gigante acordou tanto que vão votar na Dilma de novo 😂😂😂'),\n Row(id='522394798914015233', content='@KennedyAncar @Drimone @jornaldaREALMENTE DILMA CAGUEJOU,ESTAVA NERVOSA,SEM PREPARO,MUITO REPETITIVA VOLTA MUITO NO PASSADO,AÉCIO FOI MELHOR'),\n Row(id='522394887472562176', content='Quem vota na Dilma merece apanhar por que pqp hein'),\n Row(id='522395038056058880', content='OLHA DILMA MINHA FILHA ENTENDA FILHINHA VOCÊ JÁ ERA NÃO RESISTE TOMA MEU LENÇO: #45Confirma ! !!! !!! !!!'),\n Row(id='522395096290185216', content='@BLOGdoPEPE mas Noblat reconhece superioridade de Dilma.'),\n Row(id='522395241828323328', content='\"Dilma, viado, continua que tá bonito! \"\"Não, não me abandone. Não me desespere, porque eu não posso ficar sem você ♪\"\"\"'),\n Row(id='522395257003311104', content='\"\"\"@MirandaSa_: KKKKK RT @CellyMattosI: http://t.co/pbrHKaHYq0\"\" kkkkkk...olha ai Dilma\"'),\n Row(id='522395279061155840', content='Aprendi com a Dilma que 13-4=7'),\n Row(id='522395368555020290', content='Dilma funciona com internet discada.'),\n Row(id='522395379372158976', content='\"\"\"@emirsader: \"\"Meu voto é a favor do Brasil, meu voto é Dilma\"\", diz Emicida http://t.co/k54fv7RIcW\"\"@emicida #orgulhodevocêgaroto\"'),\n Row(id='522395729323896832', content='Lembrar dos 13,00 reais, lembrem Dilma 13, 13,00 reais'),\n Row(id='522395742145904641', content='@LordePagao pedimos alegando que não iam mandar mais porque a Dilma não ganhou aqui no Sul.'),\n Row(id='522395969577832448', content='Só eu acho qe o Aécio sambou na cara da Dilma ontem ? #DebateDaBand'),\n Row(id='522396000724746240', content='@paulaingridd querem reeleger a Dilma, po. :( por isso digo, não duvido que em 2016 queiram reeleger o bonitinho tb'),\n Row(id='522396040490917889', content='e falam q nao vao votar na dilma pq querem mudança com tanta ctz q ate parece q o aecio vai melhorar mta coisa'),\n Row(id='522396138939641856', content='#AecioPelaMudanca #dilmaleviana, políticos não são grandes coisas, mas se Dilma ganhar , desilusão total'),\n Row(id='522396298423844864', content='Bora pensar Dilma.. http://t.co/qFVIjHdUqz'),\n Row(id='522396429353246720', content='Acho que o pessoal de Aécio e Dilma assistiram um debate diferente do que eu, pq sinceramente não vi superioridade de nenhum dos dois.')]"
     },
     "metadata": {},
     "output_type": "display_data"
    }
   ],
   "source": [
    "extract_dilma_udf = udf(extract_dilma, BooleanType())\n",
    "\n",
    "df = df.withColumn(\"hasDilma\", extract_dilma_udf(df[\"content\"]))\n",
    "\n",
    "df_dilma = df.filter(col(\"hasDilma\")).select(\"id\", \"content\")\n",
    "\n",
    "display(df_dilma.head(20))"
   ],
   "metadata": {
    "collapsed": false,
    "ExecuteTime": {
     "end_time": "2024-06-05T16:24:24.598749800Z",
     "start_time": "2024-06-05T16:24:23.059978800Z"
    }
   },
   "id": "f70c65724ff5dbe0"
  },
  {
   "cell_type": "code",
   "execution_count": 7,
   "outputs": [
    {
     "data": {
      "text/plain": "[Row(id='522394534773538816', content='\"\"\"@marinaecologia: Dilma não arruma nem os dentes, imagina o país.\"\"\"', content_clean='    marinaecologia  Dilma não arruma nem os dentes  imagina o país    '),\n Row(id='522394590671020032', content='Pensando seriamente em chamar o manicômio pra quem quer votar na Dilma', content_clean='Pensando seriamente em chamar o manicômio pra quem quer votar na Dilma'),\n Row(id='522394744463577088', content='O gigante acordou tanto que vão votar na Dilma de novo 😂😂😂', content_clean='O gigante acordou tanto que vão votar na Dilma de novo    '),\n Row(id='522394798914015233', content='@KennedyAncar @Drimone @jornaldaREALMENTE DILMA CAGUEJOU,ESTAVA NERVOSA,SEM PREPARO,MUITO REPETITIVA VOLTA MUITO NO PASSADO,AÉCIO FOI MELHOR', content_clean=' KennedyAncar  Drimone  jornaldaREALMENTE DILMA CAGUEJOU ESTAVA NERVOSA SEM PREPARO MUITO REPETITIVA VOLTA MUITO NO PASSADO AÉCIO FOI MELHOR'),\n Row(id='522394887472562176', content='Quem vota na Dilma merece apanhar por que pqp hein', content_clean='Quem vota na Dilma merece apanhar por que pqp hein'),\n Row(id='522395038056058880', content='OLHA DILMA MINHA FILHA ENTENDA FILHINHA VOCÊ JÁ ERA NÃO RESISTE TOMA MEU LENÇO: #45Confirma ! !!! !!! !!!', content_clean='OLHA DILMA MINHA FILHA ENTENDA FILHINHA VOCÊ JÁ ERA NÃO RESISTE TOMA MEU LENÇO   45Confirma              '),\n Row(id='522395096290185216', content='@BLOGdoPEPE mas Noblat reconhece superioridade de Dilma.', content_clean=' BLOGdoPEPE mas Noblat reconhece superioridade de Dilma '),\n Row(id='522395241828323328', content='\"Dilma, viado, continua que tá bonito! \"\"Não, não me abandone. Não me desespere, porque eu não posso ficar sem você ♪\"\"\"', content_clean=' Dilma  viado  continua que tá bonito    Não  não me abandone  Não me desespere  porque eu não posso ficar sem você     '),\n Row(id='522395257003311104', content='\"\"\"@MirandaSa_: KKKKK RT @CellyMattosI: http://t.co/pbrHKaHYq0\"\" kkkkkk...olha ai Dilma\"', content_clean='    MirandaSa_  KKKKK RT  CellyMattosI  http   t co pbrHKaHYq0   kkkkkk   olha ai Dilma '),\n Row(id='522395279061155840', content='Aprendi com a Dilma que 13-4=7', content_clean='Aprendi com a Dilma que 13 4 7'),\n Row(id='522395368555020290', content='Dilma funciona com internet discada.', content_clean='Dilma funciona com internet discada '),\n Row(id='522395379372158976', content='\"\"\"@emirsader: \"\"Meu voto é a favor do Brasil, meu voto é Dilma\"\", diz Emicida http://t.co/k54fv7RIcW\"\"@emicida #orgulhodevocêgaroto\"', content_clean='    emirsader    Meu voto é a favor do Brasil  meu voto é Dilma    diz Emicida http   t co k54fv7RIcW   emicida  orgulhodevocêgaroto '),\n Row(id='522395729323896832', content='Lembrar dos 13,00 reais, lembrem Dilma 13, 13,00 reais', content_clean='Lembrar dos 13 00 reais  lembrem Dilma 13  13 00 reais'),\n Row(id='522395742145904641', content='@LordePagao pedimos alegando que não iam mandar mais porque a Dilma não ganhou aqui no Sul.', content_clean=' LordePagao pedimos alegando que não iam mandar mais porque a Dilma não ganhou aqui no Sul '),\n Row(id='522395969577832448', content='Só eu acho qe o Aécio sambou na cara da Dilma ontem ? #DebateDaBand', content_clean='Só eu acho qe o Aécio sambou na cara da Dilma ontem    DebateDaBand'),\n Row(id='522396000724746240', content='@paulaingridd querem reeleger a Dilma, po. :( por isso digo, não duvido que em 2016 queiram reeleger o bonitinho tb', content_clean=' paulaingridd querem reeleger a Dilma  po     por isso digo  não duvido que em 2016 queiram reeleger o bonitinho tb'),\n Row(id='522396040490917889', content='e falam q nao vao votar na dilma pq querem mudança com tanta ctz q ate parece q o aecio vai melhorar mta coisa', content_clean='e falam q nao vao votar na dilma pq querem mudança com tanta ctz q ate parece q o aecio vai melhorar mta coisa'),\n Row(id='522396138939641856', content='#AecioPelaMudanca #dilmaleviana, políticos não são grandes coisas, mas se Dilma ganhar , desilusão total', content_clean=' AecioPelaMudanca  dilmaleviana  políticos não são grandes coisas  mas se Dilma ganhar   desilusão total'),\n Row(id='522396298423844864', content='Bora pensar Dilma.. http://t.co/qFVIjHdUqz', content_clean='Bora pensar Dilma   http   t co qFVIjHdUqz'),\n Row(id='522396429353246720', content='Acho que o pessoal de Aécio e Dilma assistiram um debate diferente do que eu, pq sinceramente não vi superioridade de nenhum dos dois.', content_clean='Acho que o pessoal de Aécio e Dilma assistiram um debate diferente do que eu  pq sinceramente não vi superioridade de nenhum dos dois ')]"
     },
     "metadata": {},
     "output_type": "display_data"
    }
   ],
   "source": [
    "remove_punctuation_udf = udf(remove_punctuation, StringType())\n",
    "\n",
    "df_dilma = df_dilma.withColumn(\"content_clean\", remove_punctuation_udf(col(\"content\")))\n",
    "\n",
    "display(df_dilma.head(20))"
   ],
   "metadata": {
    "collapsed": false,
    "ExecuteTime": {
     "end_time": "2024-06-05T16:24:26.319447300Z",
     "start_time": "2024-06-05T16:24:24.592740300Z"
    }
   },
   "id": "5a7949f4c988c426"
  },
  {
   "cell_type": "code",
   "execution_count": 8,
   "outputs": [
    {
     "data": {
      "text/plain": "[Row(id='522394534773538816', content='\"\"\"@marinaecologia: Dilma não arruma nem os dentes, imagina o país.\"\"\"', content_clean='    marinaecologia  Dilma não arruma nem os dentes  imagina o país    ', words=['', '', '', '', 'marinaecologia', '', 'dilma', 'não', 'arruma', 'nem', 'os', 'dentes', '', 'imagina', 'o', 'país']),\n Row(id='522394590671020032', content='Pensando seriamente em chamar o manicômio pra quem quer votar na Dilma', content_clean='Pensando seriamente em chamar o manicômio pra quem quer votar na Dilma', words=['pensando', 'seriamente', 'em', 'chamar', 'o', 'manicômio', 'pra', 'quem', 'quer', 'votar', 'na', 'dilma']),\n Row(id='522394744463577088', content='O gigante acordou tanto que vão votar na Dilma de novo 😂😂😂', content_clean='O gigante acordou tanto que vão votar na Dilma de novo    ', words=['o', 'gigante', 'acordou', 'tanto', 'que', 'vão', 'votar', 'na', 'dilma', 'de', 'novo']),\n Row(id='522394798914015233', content='@KennedyAncar @Drimone @jornaldaREALMENTE DILMA CAGUEJOU,ESTAVA NERVOSA,SEM PREPARO,MUITO REPETITIVA VOLTA MUITO NO PASSADO,AÉCIO FOI MELHOR', content_clean=' KennedyAncar  Drimone  jornaldaREALMENTE DILMA CAGUEJOU ESTAVA NERVOSA SEM PREPARO MUITO REPETITIVA VOLTA MUITO NO PASSADO AÉCIO FOI MELHOR', words=['', 'kennedyancar', '', 'drimone', '', 'jornaldarealmente', 'dilma', 'caguejou', 'estava', 'nervosa', 'sem', 'preparo', 'muito', 'repetitiva', 'volta', 'muito', 'no', 'passado', 'aécio', 'foi', 'melhor']),\n Row(id='522394887472562176', content='Quem vota na Dilma merece apanhar por que pqp hein', content_clean='Quem vota na Dilma merece apanhar por que pqp hein', words=['quem', 'vota', 'na', 'dilma', 'merece', 'apanhar', 'por', 'que', 'pqp', 'hein']),\n Row(id='522395038056058880', content='OLHA DILMA MINHA FILHA ENTENDA FILHINHA VOCÊ JÁ ERA NÃO RESISTE TOMA MEU LENÇO: #45Confirma ! !!! !!! !!!', content_clean='OLHA DILMA MINHA FILHA ENTENDA FILHINHA VOCÊ JÁ ERA NÃO RESISTE TOMA MEU LENÇO   45Confirma              ', words=['olha', 'dilma', 'minha', 'filha', 'entenda', 'filhinha', 'você', 'já', 'era', 'não', 'resiste', 'toma', 'meu', 'lenço', '', '', '45confirma']),\n Row(id='522395096290185216', content='@BLOGdoPEPE mas Noblat reconhece superioridade de Dilma.', content_clean=' BLOGdoPEPE mas Noblat reconhece superioridade de Dilma ', words=['', 'blogdopepe', 'mas', 'noblat', 'reconhece', 'superioridade', 'de', 'dilma']),\n Row(id='522395241828323328', content='\"Dilma, viado, continua que tá bonito! \"\"Não, não me abandone. Não me desespere, porque eu não posso ficar sem você ♪\"\"\"', content_clean=' Dilma  viado  continua que tá bonito    Não  não me abandone  Não me desespere  porque eu não posso ficar sem você     ', words=['', 'dilma', '', 'viado', '', 'continua', 'que', 'tá', 'bonito', '', '', '', 'não', '', 'não', 'me', 'abandone', '', 'não', 'me', 'desespere', '', 'porque', 'eu', 'não', 'posso', 'ficar', 'sem', 'você']),\n Row(id='522395257003311104', content='\"\"\"@MirandaSa_: KKKKK RT @CellyMattosI: http://t.co/pbrHKaHYq0\"\" kkkkkk...olha ai Dilma\"', content_clean='    MirandaSa_  KKKKK RT  CellyMattosI  http   t co pbrHKaHYq0   kkkkkk   olha ai Dilma ', words=['', '', '', '', 'mirandasa_', '', 'kkkkk', 'rt', '', 'cellymattosi', '', 'http', '', '', 't', 'co', 'pbrhkahyq0', '', '', 'kkkkkk', '', '', 'olha', 'ai', 'dilma']),\n Row(id='522395279061155840', content='Aprendi com a Dilma que 13-4=7', content_clean='Aprendi com a Dilma que 13 4 7', words=['aprendi', 'com', 'a', 'dilma', 'que', '13', '4', '7']),\n Row(id='522395368555020290', content='Dilma funciona com internet discada.', content_clean='Dilma funciona com internet discada ', words=['dilma', 'funciona', 'com', 'internet', 'discada']),\n Row(id='522395379372158976', content='\"\"\"@emirsader: \"\"Meu voto é a favor do Brasil, meu voto é Dilma\"\", diz Emicida http://t.co/k54fv7RIcW\"\"@emicida #orgulhodevocêgaroto\"', content_clean='    emirsader    Meu voto é a favor do Brasil  meu voto é Dilma    diz Emicida http   t co k54fv7RIcW   emicida  orgulhodevocêgaroto ', words=['', '', '', '', 'emirsader', '', '', '', 'meu', 'voto', 'é', 'a', 'favor', 'do', 'brasil', '', 'meu', 'voto', 'é', 'dilma', '', '', '', 'diz', 'emicida', 'http', '', '', 't', 'co', 'k54fv7ricw', '', '', 'emicida', '', 'orgulhodevocêgaroto']),\n Row(id='522395729323896832', content='Lembrar dos 13,00 reais, lembrem Dilma 13, 13,00 reais', content_clean='Lembrar dos 13 00 reais  lembrem Dilma 13  13 00 reais', words=['lembrar', 'dos', '13', '00', 'reais', '', 'lembrem', 'dilma', '13', '', '13', '00', 'reais']),\n Row(id='522395742145904641', content='@LordePagao pedimos alegando que não iam mandar mais porque a Dilma não ganhou aqui no Sul.', content_clean=' LordePagao pedimos alegando que não iam mandar mais porque a Dilma não ganhou aqui no Sul ', words=['', 'lordepagao', 'pedimos', 'alegando', 'que', 'não', 'iam', 'mandar', 'mais', 'porque', 'a', 'dilma', 'não', 'ganhou', 'aqui', 'no', 'sul']),\n Row(id='522395969577832448', content='Só eu acho qe o Aécio sambou na cara da Dilma ontem ? #DebateDaBand', content_clean='Só eu acho qe o Aécio sambou na cara da Dilma ontem    DebateDaBand', words=['só', 'eu', 'acho', 'qe', 'o', 'aécio', 'sambou', 'na', 'cara', 'da', 'dilma', 'ontem', '', '', '', 'debatedaband']),\n Row(id='522396000724746240', content='@paulaingridd querem reeleger a Dilma, po. :( por isso digo, não duvido que em 2016 queiram reeleger o bonitinho tb', content_clean=' paulaingridd querem reeleger a Dilma  po     por isso digo  não duvido que em 2016 queiram reeleger o bonitinho tb', words=['', 'paulaingridd', 'querem', 'reeleger', 'a', 'dilma', '', 'po', '', '', '', '', 'por', 'isso', 'digo', '', 'não', 'duvido', 'que', 'em', '2016', 'queiram', 'reeleger', 'o', 'bonitinho', 'tb']),\n Row(id='522396040490917889', content='e falam q nao vao votar na dilma pq querem mudança com tanta ctz q ate parece q o aecio vai melhorar mta coisa', content_clean='e falam q nao vao votar na dilma pq querem mudança com tanta ctz q ate parece q o aecio vai melhorar mta coisa', words=['e', 'falam', 'q', 'nao', 'vao', 'votar', 'na', 'dilma', 'pq', 'querem', 'mudança', 'com', 'tanta', 'ctz', 'q', 'ate', 'parece', 'q', 'o', 'aecio', 'vai', 'melhorar', 'mta', 'coisa']),\n Row(id='522396138939641856', content='#AecioPelaMudanca #dilmaleviana, políticos não são grandes coisas, mas se Dilma ganhar , desilusão total', content_clean=' AecioPelaMudanca  dilmaleviana  políticos não são grandes coisas  mas se Dilma ganhar   desilusão total', words=['', 'aeciopelamudanca', '', 'dilmaleviana', '', 'políticos', 'não', 'são', 'grandes', 'coisas', '', 'mas', 'se', 'dilma', 'ganhar', '', '', 'desilusão', 'total']),\n Row(id='522396298423844864', content='Bora pensar Dilma.. http://t.co/qFVIjHdUqz', content_clean='Bora pensar Dilma   http   t co qFVIjHdUqz', words=['bora', 'pensar', 'dilma', '', '', 'http', '', '', 't', 'co', 'qfvijhduqz']),\n Row(id='522396429353246720', content='Acho que o pessoal de Aécio e Dilma assistiram um debate diferente do que eu, pq sinceramente não vi superioridade de nenhum dos dois.', content_clean='Acho que o pessoal de Aécio e Dilma assistiram um debate diferente do que eu  pq sinceramente não vi superioridade de nenhum dos dois ', words=['acho', 'que', 'o', 'pessoal', 'de', 'aécio', 'e', 'dilma', 'assistiram', 'um', 'debate', 'diferente', 'do', 'que', 'eu', '', 'pq', 'sinceramente', 'não', 'vi', 'superioridade', 'de', 'nenhum', 'dos', 'dois'])]"
     },
     "metadata": {},
     "output_type": "display_data"
    }
   ],
   "source": [
    "tokenizer = Tokenizer(inputCol=\"content_clean\", outputCol=\"words\")\n",
    "df_dilma = tokenizer.transform(df_dilma)\n",
    "\n",
    "display(df_dilma.head(20))"
   ],
   "metadata": {
    "collapsed": false,
    "ExecuteTime": {
     "end_time": "2024-06-05T16:24:28.173835700Z",
     "start_time": "2024-06-05T16:24:26.317449600Z"
    }
   },
   "id": "3d154a35a77cd1df"
  },
  {
   "cell_type": "code",
   "execution_count": 9,
   "outputs": [],
   "source": [
    "def remove_tokens(tokens):\n",
    "    return [token for token in tokens if len(token) >= 3]"
   ],
   "metadata": {
    "collapsed": false,
    "ExecuteTime": {
     "end_time": "2024-06-05T16:24:28.233357100Z",
     "start_time": "2024-06-05T16:24:28.176838300Z"
    }
   },
   "id": "e720aacfa1d3f960"
  },
  {
   "cell_type": "code",
   "execution_count": 10,
   "outputs": [
    {
     "data": {
      "text/plain": "[Row(id='522394534773538816', content='\"\"\"@marinaecologia: Dilma não arruma nem os dentes, imagina o país.\"\"\"', content_clean='    marinaecologia  Dilma não arruma nem os dentes  imagina o país    ', words=['', '', '', '', 'marinaecologia', '', 'dilma', 'não', 'arruma', 'nem', 'os', 'dentes', '', 'imagina', 'o', 'país'], filtered=['marinaecologia', 'dilma', 'arruma', 'dentes', 'imagina', 'país']),\n Row(id='522394590671020032', content='Pensando seriamente em chamar o manicômio pra quem quer votar na Dilma', content_clean='Pensando seriamente em chamar o manicômio pra quem quer votar na Dilma', words=['pensando', 'seriamente', 'em', 'chamar', 'o', 'manicômio', 'pra', 'quem', 'quer', 'votar', 'na', 'dilma'], filtered=['pensando', 'seriamente', 'chamar', 'manicômio', 'pra', 'quer', 'votar', 'dilma']),\n Row(id='522394744463577088', content='O gigante acordou tanto que vão votar na Dilma de novo 😂😂😂', content_clean='O gigante acordou tanto que vão votar na Dilma de novo    ', words=['o', 'gigante', 'acordou', 'tanto', 'que', 'vão', 'votar', 'na', 'dilma', 'de', 'novo'], filtered=['gigante', 'acordou', 'tanto', 'vão', 'votar', 'dilma', 'novo']),\n Row(id='522394798914015233', content='@KennedyAncar @Drimone @jornaldaREALMENTE DILMA CAGUEJOU,ESTAVA NERVOSA,SEM PREPARO,MUITO REPETITIVA VOLTA MUITO NO PASSADO,AÉCIO FOI MELHOR', content_clean=' KennedyAncar  Drimone  jornaldaREALMENTE DILMA CAGUEJOU ESTAVA NERVOSA SEM PREPARO MUITO REPETITIVA VOLTA MUITO NO PASSADO AÉCIO FOI MELHOR', words=['', 'kennedyancar', '', 'drimone', '', 'jornaldarealmente', 'dilma', 'caguejou', 'estava', 'nervosa', 'sem', 'preparo', 'muito', 'repetitiva', 'volta', 'muito', 'no', 'passado', 'aécio', 'foi', 'melhor'], filtered=['kennedyancar', 'drimone', 'jornaldarealmente', 'dilma', 'caguejou', 'nervosa', 'preparo', 'repetitiva', 'volta', 'passado', 'aécio', 'melhor']),\n Row(id='522394887472562176', content='Quem vota na Dilma merece apanhar por que pqp hein', content_clean='Quem vota na Dilma merece apanhar por que pqp hein', words=['quem', 'vota', 'na', 'dilma', 'merece', 'apanhar', 'por', 'que', 'pqp', 'hein'], filtered=['vota', 'dilma', 'merece', 'apanhar', 'pqp', 'hein']),\n Row(id='522395038056058880', content='OLHA DILMA MINHA FILHA ENTENDA FILHINHA VOCÊ JÁ ERA NÃO RESISTE TOMA MEU LENÇO: #45Confirma ! !!! !!! !!!', content_clean='OLHA DILMA MINHA FILHA ENTENDA FILHINHA VOCÊ JÁ ERA NÃO RESISTE TOMA MEU LENÇO   45Confirma              ', words=['olha', 'dilma', 'minha', 'filha', 'entenda', 'filhinha', 'você', 'já', 'era', 'não', 'resiste', 'toma', 'meu', 'lenço', '', '', '45confirma'], filtered=['olha', 'dilma', 'filha', 'entenda', 'filhinha', 'resiste', 'toma', 'lenço', '45confirma']),\n Row(id='522395096290185216', content='@BLOGdoPEPE mas Noblat reconhece superioridade de Dilma.', content_clean=' BLOGdoPEPE mas Noblat reconhece superioridade de Dilma ', words=['', 'blogdopepe', 'mas', 'noblat', 'reconhece', 'superioridade', 'de', 'dilma'], filtered=['blogdopepe', 'noblat', 'reconhece', 'superioridade', 'dilma']),\n Row(id='522395241828323328', content='\"Dilma, viado, continua que tá bonito! \"\"Não, não me abandone. Não me desespere, porque eu não posso ficar sem você ♪\"\"\"', content_clean=' Dilma  viado  continua que tá bonito    Não  não me abandone  Não me desespere  porque eu não posso ficar sem você     ', words=['', 'dilma', '', 'viado', '', 'continua', 'que', 'tá', 'bonito', '', '', '', 'não', '', 'não', 'me', 'abandone', '', 'não', 'me', 'desespere', '', 'porque', 'eu', 'não', 'posso', 'ficar', 'sem', 'você'], filtered=['dilma', 'viado', 'continua', 'bonito', 'abandone', 'desespere', 'porque', 'posso', 'ficar']),\n Row(id='522395257003311104', content='\"\"\"@MirandaSa_: KKKKK RT @CellyMattosI: http://t.co/pbrHKaHYq0\"\" kkkkkk...olha ai Dilma\"', content_clean='    MirandaSa_  KKKKK RT  CellyMattosI  http   t co pbrHKaHYq0   kkkkkk   olha ai Dilma ', words=['', '', '', '', 'mirandasa_', '', 'kkkkk', 'rt', '', 'cellymattosi', '', 'http', '', '', 't', 'co', 'pbrhkahyq0', '', '', 'kkkkkk', '', '', 'olha', 'ai', 'dilma'], filtered=['mirandasa_', 'kkkkk', 'cellymattosi', 'http', 'pbrhkahyq0', 'kkkkkk', 'olha', 'dilma']),\n Row(id='522395279061155840', content='Aprendi com a Dilma que 13-4=7', content_clean='Aprendi com a Dilma que 13 4 7', words=['aprendi', 'com', 'a', 'dilma', 'que', '13', '4', '7'], filtered=['aprendi', 'dilma']),\n Row(id='522395368555020290', content='Dilma funciona com internet discada.', content_clean='Dilma funciona com internet discada ', words=['dilma', 'funciona', 'com', 'internet', 'discada'], filtered=['dilma', 'funciona', 'internet', 'discada']),\n Row(id='522395379372158976', content='\"\"\"@emirsader: \"\"Meu voto é a favor do Brasil, meu voto é Dilma\"\", diz Emicida http://t.co/k54fv7RIcW\"\"@emicida #orgulhodevocêgaroto\"', content_clean='    emirsader    Meu voto é a favor do Brasil  meu voto é Dilma    diz Emicida http   t co k54fv7RIcW   emicida  orgulhodevocêgaroto ', words=['', '', '', '', 'emirsader', '', '', '', 'meu', 'voto', 'é', 'a', 'favor', 'do', 'brasil', '', 'meu', 'voto', 'é', 'dilma', '', '', '', 'diz', 'emicida', 'http', '', '', 't', 'co', 'k54fv7ricw', '', '', 'emicida', '', 'orgulhodevocêgaroto'], filtered=['emirsader', 'voto', 'favor', 'brasil', 'voto', 'dilma', 'diz', 'emicida', 'http', 'k54fv7ricw', 'emicida', 'orgulhodevocêgaroto']),\n Row(id='522395729323896832', content='Lembrar dos 13,00 reais, lembrem Dilma 13, 13,00 reais', content_clean='Lembrar dos 13 00 reais  lembrem Dilma 13  13 00 reais', words=['lembrar', 'dos', '13', '00', 'reais', '', 'lembrem', 'dilma', '13', '', '13', '00', 'reais'], filtered=['lembrar', 'reais', 'lembrem', 'dilma', 'reais']),\n Row(id='522395742145904641', content='@LordePagao pedimos alegando que não iam mandar mais porque a Dilma não ganhou aqui no Sul.', content_clean=' LordePagao pedimos alegando que não iam mandar mais porque a Dilma não ganhou aqui no Sul ', words=['', 'lordepagao', 'pedimos', 'alegando', 'que', 'não', 'iam', 'mandar', 'mais', 'porque', 'a', 'dilma', 'não', 'ganhou', 'aqui', 'no', 'sul'], filtered=['lordepagao', 'pedimos', 'alegando', 'iam', 'mandar', 'porque', 'dilma', 'ganhou', 'aqui', 'sul']),\n Row(id='522395969577832448', content='Só eu acho qe o Aécio sambou na cara da Dilma ontem ? #DebateDaBand', content_clean='Só eu acho qe o Aécio sambou na cara da Dilma ontem    DebateDaBand', words=['só', 'eu', 'acho', 'qe', 'o', 'aécio', 'sambou', 'na', 'cara', 'da', 'dilma', 'ontem', '', '', '', 'debatedaband'], filtered=['acho', 'aécio', 'sambou', 'cara', 'dilma', 'ontem', 'debatedaband']),\n Row(id='522396000724746240', content='@paulaingridd querem reeleger a Dilma, po. :( por isso digo, não duvido que em 2016 queiram reeleger o bonitinho tb', content_clean=' paulaingridd querem reeleger a Dilma  po     por isso digo  não duvido que em 2016 queiram reeleger o bonitinho tb', words=['', 'paulaingridd', 'querem', 'reeleger', 'a', 'dilma', '', 'po', '', '', '', '', 'por', 'isso', 'digo', '', 'não', 'duvido', 'que', 'em', '2016', 'queiram', 'reeleger', 'o', 'bonitinho', 'tb'], filtered=['paulaingridd', 'querem', 'reeleger', 'dilma', 'digo', 'duvido', '2016', 'queiram', 'reeleger', 'bonitinho']),\n Row(id='522396040490917889', content='e falam q nao vao votar na dilma pq querem mudança com tanta ctz q ate parece q o aecio vai melhorar mta coisa', content_clean='e falam q nao vao votar na dilma pq querem mudança com tanta ctz q ate parece q o aecio vai melhorar mta coisa', words=['e', 'falam', 'q', 'nao', 'vao', 'votar', 'na', 'dilma', 'pq', 'querem', 'mudança', 'com', 'tanta', 'ctz', 'q', 'ate', 'parece', 'q', 'o', 'aecio', 'vai', 'melhorar', 'mta', 'coisa'], filtered=['falam', 'nao', 'vao', 'votar', 'dilma', 'querem', 'mudança', 'tanta', 'ctz', 'ate', 'parece', 'aecio', 'vai', 'melhorar', 'mta', 'coisa']),\n Row(id='522396138939641856', content='#AecioPelaMudanca #dilmaleviana, políticos não são grandes coisas, mas se Dilma ganhar , desilusão total', content_clean=' AecioPelaMudanca  dilmaleviana  políticos não são grandes coisas  mas se Dilma ganhar   desilusão total', words=['', 'aeciopelamudanca', '', 'dilmaleviana', '', 'políticos', 'não', 'são', 'grandes', 'coisas', '', 'mas', 'se', 'dilma', 'ganhar', '', '', 'desilusão', 'total'], filtered=['aeciopelamudanca', 'dilmaleviana', 'políticos', 'grandes', 'coisas', 'dilma', 'ganhar', 'desilusão', 'total']),\n Row(id='522396298423844864', content='Bora pensar Dilma.. http://t.co/qFVIjHdUqz', content_clean='Bora pensar Dilma   http   t co qFVIjHdUqz', words=['bora', 'pensar', 'dilma', '', '', 'http', '', '', 't', 'co', 'qfvijhduqz'], filtered=['bora', 'pensar', 'dilma', 'http', 'qfvijhduqz']),\n Row(id='522396429353246720', content='Acho que o pessoal de Aécio e Dilma assistiram um debate diferente do que eu, pq sinceramente não vi superioridade de nenhum dos dois.', content_clean='Acho que o pessoal de Aécio e Dilma assistiram um debate diferente do que eu  pq sinceramente não vi superioridade de nenhum dos dois ', words=['acho', 'que', 'o', 'pessoal', 'de', 'aécio', 'e', 'dilma', 'assistiram', 'um', 'debate', 'diferente', 'do', 'que', 'eu', '', 'pq', 'sinceramente', 'não', 'vi', 'superioridade', 'de', 'nenhum', 'dos', 'dois'], filtered=['acho', 'pessoal', 'aécio', 'dilma', 'assistiram', 'debate', 'diferente', 'sinceramente', 'superioridade', 'nenhum', 'dois'])]"
     },
     "metadata": {},
     "output_type": "display_data"
    }
   ],
   "source": [
    "stopwordList = nltk.corpus.stopwords.words('portuguese')\n",
    "\n",
    "remover = StopWordsRemover(inputCol=\"words\", outputCol=\"filtered\", stopWords = stopwordList)\n",
    "df_dilma = remover.transform(df_dilma)\n",
    "\n",
    "remove_tokens_udf = udf(remove_tokens, ArrayType(StringType()))\n",
    "\n",
    "df_dilma = df_dilma.withColumn(\"filtered\", remove_tokens_udf(col(\"filtered\")))\n",
    "\n",
    "display(df_dilma.head(20))"
   ],
   "metadata": {
    "collapsed": false,
    "ExecuteTime": {
     "end_time": "2024-06-05T16:24:31.134945500Z",
     "start_time": "2024-06-05T16:24:28.195359900Z"
    }
   },
   "id": "44ae158914597b67"
  },
  {
   "cell_type": "code",
   "execution_count": 11,
   "outputs": [],
   "source": [
    "def generate_ngrams(wordsData, ngram_range):\n",
    "    ngrams_data = []\n",
    "    for n in range(ngram_range[0], ngram_range[1] + 1):\n",
    "        ngram = NGram(n=n, inputCol=\"filtered\", outputCol=\"ngram\")\n",
    "        ngram_data = ngram.transform(wordsData)\n",
    "        ngrams_data.append(ngram_data)\n",
    "    return reduce(lambda df1, df2: df1.union(df2), ngrams_data)"
   ],
   "metadata": {
    "collapsed": false,
    "ExecuteTime": {
     "end_time": "2024-06-05T16:24:31.175943900Z",
     "start_time": "2024-06-05T16:24:31.137945600Z"
    }
   },
   "id": "54f1c189a973fa67"
  },
  {
   "cell_type": "code",
   "execution_count": 12,
   "outputs": [
    {
     "name": "stdout",
     "output_type": "stream",
     "text": [
      "+------------------+--------------------+--------------------+--------------------+--------------------+--------------------+\n",
      "|                id|             content|       content_clean|               words|            filtered|               ngram|\n",
      "+------------------+--------------------+--------------------+--------------------+--------------------+--------------------+\n",
      "|522394534773538816|\"\"\"@marinaecologi...|    marinaecologi...|[, , , , marinaec...|[marinaecologia, ...|[marinaecologia d...|\n",
      "|522394590671020032|Pensando seriamen...|Pensando seriamen...|[pensando, seriam...|[pensando, seriam...|[pensando seriame...|\n",
      "|522394744463577088|O gigante acordou...|O gigante acordou...|[o, gigante, acor...|[gigante, acordou...|[gigante acordou ...|\n",
      "|522394798914015233|@KennedyAncar @Dr...| KennedyAncar  Dr...|[, kennedyancar, ...|[kennedyancar, dr...|[kennedyancar dri...|\n",
      "|522394887472562176|Quem vota na Dilm...|Quem vota na Dilm...|[quem, vota, na, ...|[vota, dilma, mer...|[vota dilma merec...|\n",
      "|522395038056058880|OLHA DILMA MINHA ...|OLHA DILMA MINHA ...|[olha, dilma, min...|[olha, dilma, fil...|[olha dilma filha...|\n",
      "|522395096290185216|@BLOGdoPEPE mas N...| BLOGdoPEPE mas N...|[, blogdopepe, ma...|[blogdopepe, nobl...|[blogdopepe nobla...|\n",
      "|522395241828323328|\"Dilma, viado, co...| Dilma  viado  co...|[, dilma, , viado...|[dilma, viado, co...|[dilma viado cont...|\n",
      "|522395257003311104|\"\"\"@MirandaSa_: K...|    MirandaSa_  K...|[, , , , mirandas...|[mirandasa_, kkkk...|[mirandasa_ kkkkk...|\n",
      "|522395279061155840|Aprendi com a Dil...|Aprendi com a Dil...|[aprendi, com, a,...|    [aprendi, dilma]|                  []|\n",
      "|522395368555020290|Dilma funciona co...|Dilma funciona co...|[dilma, funciona,...|[dilma, funciona,...|[dilma funciona i...|\n",
      "|522395379372158976|\"\"\"@emirsader: \"\"...|    emirsader    ...|[, , , , emirsade...|[emirsader, voto,...|[emirsader voto f...|\n",
      "|522395729323896832|Lembrar dos 13,00...|Lembrar dos 13 00...|[lembrar, dos, 13...|[lembrar, reais, ...|[lembrar reais le...|\n",
      "|522395742145904641|@LordePagao pedim...| LordePagao pedim...|[, lordepagao, pe...|[lordepagao, pedi...|[lordepagao pedim...|\n",
      "|522395969577832448|Só eu acho qe o A...|Só eu acho qe o A...|[só, eu, acho, qe...|[acho, aécio, sam...|[acho aécio sambo...|\n",
      "|522396000724746240|@paulaingridd que...| paulaingridd que...|[, paulaingridd, ...|[paulaingridd, qu...|[paulaingridd que...|\n",
      "|522396040490917889|e falam q nao vao...|e falam q nao vao...|[e, falam, q, nao...|[falam, nao, vao,...|[falam nao vao, n...|\n",
      "|522396138939641856|#AecioPelaMudanca...| AecioPelaMudanca...|[, aeciopelamudan...|[aeciopelamudanca...|[aeciopelamudanca...|\n",
      "|522396298423844864|Bora pensar Dilma...|Bora pensar Dilma...|[bora, pensar, di...|[bora, pensar, di...|[bora pensar dilm...|\n",
      "|522396429353246720|Acho que o pessoa...|Acho que o pessoa...|[acho, que, o, pe...|[acho, pessoal, a...|[acho pessoal aéc...|\n",
      "+------------------+--------------------+--------------------+--------------------+--------------------+--------------------+\n"
     ]
    }
   ],
   "source": [
    "# ngram_range = (3, 5)\n",
    "# df_dilma = generate_ngrams(df_dilma, ngram_range)\n",
    "\n",
    "ngram = NGram(n = 3, inputCol = \"filtered\", outputCol=\"ngram\")\n",
    "df_dilma = ngram.transform(df_dilma)\n",
    "\n",
    "df_dilma.show() # OK"
   ],
   "metadata": {
    "collapsed": false,
    "ExecuteTime": {
     "end_time": "2024-06-05T16:24:33.677889200Z",
     "start_time": "2024-06-05T16:24:31.150949100Z"
    }
   },
   "id": "b4fe81e74fac7204"
  },
  {
   "cell_type": "code",
   "execution_count": 13,
   "outputs": [],
   "source": [
    "ngrams = df_dilma.select(\"ngram\")\n",
    "ngrams = ngrams.withColumn(\"sentences\", explode(\"ngram\")).select(\"sentences\")\n",
    "top_results = ngrams.groupBy(\"sentences\").count().orderBy(col(\"count\").desc()).limit(100)"
   ],
   "metadata": {
    "collapsed": false,
    "ExecuteTime": {
     "end_time": "2024-06-05T16:24:33.839930700Z",
     "start_time": "2024-06-05T16:24:33.675890200Z"
    }
   },
   "id": "af747e1b7187941a"
  },
  {
   "cell_type": "code",
   "execution_count": 14,
   "outputs": [],
   "source": [
    "#important_sentences_df.show()"
   ],
   "metadata": {
    "collapsed": false,
    "ExecuteTime": {
     "end_time": "2024-06-05T16:24:33.841930400Z",
     "start_time": "2024-06-05T16:24:33.795416700Z"
    }
   },
   "id": "adfdd1f62a13a7b6"
  },
  {
   "cell_type": "code",
   "execution_count": 15,
   "outputs": [],
   "source": [
    "dataframe_pd = top_results.toPandas()\n",
    "\n",
    "dataframe_pd.to_csv('./outcome/Q1/result_sentences_dilma.csv', index=False)"
   ],
   "metadata": {
    "collapsed": false,
    "ExecuteTime": {
     "end_time": "2024-06-05T16:25:38.349404800Z",
     "start_time": "2024-06-05T16:24:33.809931400Z"
    }
   },
   "id": "b53a51ebc93af1ea"
  },
  {
   "cell_type": "code",
   "execution_count": 16,
   "outputs": [],
   "source": [
    "spark.stop()"
   ],
   "metadata": {
    "collapsed": false,
    "ExecuteTime": {
     "end_time": "2024-06-05T16:25:39.352642700Z",
     "start_time": "2024-06-05T16:25:38.351408400Z"
    }
   },
   "id": "cf01217bab011ee2"
  },
  {
   "cell_type": "code",
   "execution_count": 17,
   "outputs": [],
   "source": [
    "# REDUZIR NUMERO DE FEATURES\n",
    "# CHECAR MOSTRAR O RESUTLADO SEM TER A FINAL_FEATURES E PRONTO"
   ],
   "metadata": {
    "collapsed": false,
    "ExecuteTime": {
     "end_time": "2024-06-05T16:25:39.369647800Z",
     "start_time": "2024-06-05T16:25:39.354644100Z"
    }
   },
   "id": "83554208c50f571c"
  },
  {
   "cell_type": "code",
   "execution_count": 18,
   "outputs": [],
   "source": [
    "# VOU AGORA PEGAR EXPLODIR NGRAM E FAZER AS MAIS FREQUENTES\n",
    "# MELHORAR ESSE COUNT PARA ESSE NÃO SER TÃO SIMPLES E TENTAR FAZER ALGO COMO SOMA DAS SEMELHANÇAS"
   ],
   "metadata": {
    "collapsed": false,
    "ExecuteTime": {
     "end_time": "2024-06-05T16:25:39.395729500Z",
     "start_time": "2024-06-05T16:25:39.371644400Z"
    }
   },
   "id": "3164ab0af091c8bc"
  }
 ],
 "metadata": {
  "kernelspec": {
   "display_name": "Python 3",
   "language": "python",
   "name": "python3"
  },
  "language_info": {
   "codemirror_mode": {
    "name": "ipython",
    "version": 2
   },
   "file_extension": ".py",
   "mimetype": "text/x-python",
   "name": "python",
   "nbconvert_exporter": "python",
   "pygments_lexer": "ipython2",
   "version": "2.7.6"
  }
 },
 "nbformat": 4,
 "nbformat_minor": 5
}
