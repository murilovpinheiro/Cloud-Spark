{
 "cells": [
  {
   "cell_type": "code",
   "execution_count": 193,
   "id": "initial_id",
   "metadata": {
    "collapsed": true,
    "ExecuteTime": {
     "end_time": "2024-05-30T06:09:19.466713900Z",
     "start_time": "2024-05-30T06:09:19.302250700Z"
    }
   },
   "outputs": [],
   "source": [
    "from pyspark.sql import SparkSession\n",
    "from pyspark.sql.functions import col, udf, size\n",
    "from pyspark.sql.types import BooleanType, IntegerType, ArrayType, StringType\n",
    "from pyspark.ml.feature import Tokenizer, StopWordsRemover, CountVectorizer\n",
    "from pyspark.ml.clustering import LDA\n",
    "from nltk.stem import RSLPStemmer\n",
    "\n",
    "import re\n",
    "import nltk\n",
    "import spacy\n",
    "import numpy as np"
   ]
  },
  {
   "cell_type": "code",
   "execution_count": 194,
   "outputs": [],
   "source": [
    "spark = SparkSession.builder \\\n",
    "    .appName(\"SPARK TRAB - QUESTION 1 D\") \\\n",
    "    .getOrCreate()"
   ],
   "metadata": {
    "collapsed": false,
    "ExecuteTime": {
     "end_time": "2024-05-30T06:09:19.467219400Z",
     "start_time": "2024-05-30T06:09:19.324329500Z"
    }
   },
   "id": "8ea4c4cb498ce60e"
  },
  {
   "cell_type": "code",
   "execution_count": 195,
   "outputs": [],
   "source": [
    "df_orig = spark.read.option(\"header\", \"false\").option(\"delimiter\", \"\\t\").csv(\"./data/debate-tweets.tsv\")"
   ],
   "metadata": {
    "collapsed": false,
    "ExecuteTime": {
     "end_time": "2024-05-30T06:09:19.468235100Z",
     "start_time": "2024-05-30T06:09:19.339758300Z"
    }
   },
   "id": "f761b8d6538f3d75"
  },
  {
   "cell_type": "markdown",
   "source": [
    "## Objetivo"
   ],
   "metadata": {
    "collapsed": false
   },
   "id": "23ec9becce8c5245"
  },
  {
   "cell_type": "code",
   "execution_count": 196,
   "outputs": [
    {
     "name": "stdout",
     "output_type": "stream",
     "text": [
      "+------------------+--------------------+\n",
      "|                id|             content|\n",
      "+------------------+--------------------+\n",
      "|522394422710136832|@anacddd verdade,...|\n",
      "|522394422806581248|              Que ñ*|\n",
      "|522394422731100160| Vou quebrar a Bruna|\n",
      "|522394422810783745|agora vou p segun...|\n",
      "|522394423137943553|Me sinto tão bem ...|\n",
      "|522394423188271104|Eu estou aqui, de...|\n",
      "|522394423238606848|Quando vai embora...|\n",
      "|522394423528022016|@paynecaralhudo k...|\n",
      "|522394423632875521|Conceição da Barr...|\n",
      "|522394424010362881| @Maniavato te amo ♥|\n",
      "|522394424048091138|Alg me curtindo rs ♡|\n",
      "|522394424010358784|@MiiluAA No, porq...|\n",
      "|522394423741906944|#EMABiggestFansJu...|\n",
      "|522394424568213505|@raizabatista dev...|\n",
      "|522394424920506368|Me senti ate d fe...|\n",
      "|522394424811458560|qual o sentido de...|\n",
      "|522394425029574656|I'm at Lava Rápid...|\n",
      "|522394425121841153|Fica comentando m...|\n",
      "|522394425461579777|\"odeio que me man...|\n",
      "|522394425960701952|CAMAMTEBABILONFRA...|\n",
      "+------------------+--------------------+\n"
     ]
    }
   ],
   "source": [
    "df = df_orig.select(\"_c0\", \"_c1\")\n",
    "\n",
    "df = df.withColumnRenamed(\"_c0\", \"id\") \\\n",
    "                     .withColumnRenamed(\"_c1\", \"content\")\n",
    "\n",
    "df.show()"
   ],
   "metadata": {
    "collapsed": false,
    "ExecuteTime": {
     "end_time": "2024-05-30T06:09:19.522919600Z",
     "start_time": "2024-05-30T06:09:19.461713Z"
    }
   },
   "id": "cfb9b2b167461b39"
  },
  {
   "cell_type": "code",
   "execution_count": 197,
   "outputs": [],
   "source": [
    "def extract_dilma(text):\n",
    "    if re.search(r'\\bDilma\\b', text, re.IGNORECASE):\n",
    "        return True\n",
    "    else:\n",
    "        return False\n",
    "    \n",
    "def remove_punctuation(text):\n",
    "    return re.sub(r'[^\\w\\s]', '', text)"
   ],
   "metadata": {
    "collapsed": false,
    "ExecuteTime": {
     "end_time": "2024-05-30T06:09:19.544976700Z",
     "start_time": "2024-05-30T06:09:19.523934200Z"
    }
   },
   "id": "d9af9f2c6f1843f5"
  },
  {
   "cell_type": "code",
   "execution_count": 198,
   "outputs": [
    {
     "name": "stdout",
     "output_type": "stream",
     "text": [
      "+--------------------+\n",
      "|             content|\n",
      "+--------------------+\n",
      "|\"\"\"@marinaecologi...|\n",
      "|Pensando seriamen...|\n",
      "|O gigante acordou...|\n",
      "|@KennedyAncar @Dr...|\n",
      "|Quem vota na Dilm...|\n",
      "|OLHA DILMA MINHA ...|\n",
      "|@BLOGdoPEPE mas N...|\n",
      "|\"Dilma, viado, co...|\n",
      "|\"\"\"@MirandaSa_: K...|\n",
      "|Aprendi com a Dil...|\n",
      "|Dilma funciona co...|\n",
      "|\"\"\"@emirsader: \"\"...|\n",
      "|Lembrar dos 13,00...|\n",
      "|@LordePagao pedim...|\n",
      "|Só eu acho qe o A...|\n",
      "|@paulaingridd que...|\n",
      "|e falam q nao vao...|\n",
      "|#AecioPelaMudanca...|\n",
      "|Bora pensar Dilma...|\n",
      "|Acho que o pessoa...|\n",
      "+--------------------+\n"
     ]
    }
   ],
   "source": [
    "extract_dilma_udf = udf(extract_dilma, BooleanType())\n",
    "\n",
    "df = df.withColumn(\"hasDilma\", extract_dilma_udf(df[\"content\"]))\n",
    "\n",
    "df_dilma = df.filter(col(\"hasDilma\")).select(\"content\")\n",
    "\n",
    "df_dilma.show()"
   ],
   "metadata": {
    "collapsed": false,
    "ExecuteTime": {
     "end_time": "2024-05-30T06:09:20.828232Z",
     "start_time": "2024-05-30T06:09:19.539978400Z"
    }
   },
   "id": "f70c65724ff5dbe0"
  },
  {
   "cell_type": "code",
   "execution_count": 199,
   "outputs": [
    {
     "name": "stdout",
     "output_type": "stream",
     "text": [
      "+--------------------+--------------------+\n",
      "|             content|       content_clean|\n",
      "+--------------------+--------------------+\n",
      "|\"\"\"@marinaecologi...|marinaecologia Di...|\n",
      "|Pensando seriamen...|Pensando seriamen...|\n",
      "|O gigante acordou...|O gigante acordou...|\n",
      "|@KennedyAncar @Dr...|KennedyAncar Drim...|\n",
      "|Quem vota na Dilm...|Quem vota na Dilm...|\n",
      "|OLHA DILMA MINHA ...|OLHA DILMA MINHA ...|\n",
      "|@BLOGdoPEPE mas N...|BLOGdoPEPE mas No...|\n",
      "|\"Dilma, viado, co...|Dilma viado conti...|\n",
      "|\"\"\"@MirandaSa_: K...|MirandaSa_ KKKKK ...|\n",
      "|Aprendi com a Dil...|Aprendi com a Dil...|\n",
      "|Dilma funciona co...|Dilma funciona co...|\n",
      "|\"\"\"@emirsader: \"\"...|emirsader Meu vot...|\n",
      "|Lembrar dos 13,00...|Lembrar dos 1300 ...|\n",
      "|@LordePagao pedim...|LordePagao pedimo...|\n",
      "|Só eu acho qe o A...|Só eu acho qe o A...|\n",
      "|@paulaingridd que...|paulaingridd quer...|\n",
      "|e falam q nao vao...|e falam q nao vao...|\n",
      "|#AecioPelaMudanca...|AecioPelaMudanca ...|\n",
      "|Bora pensar Dilma...|Bora pensar Dilma...|\n",
      "|Acho que o pessoa...|Acho que o pessoa...|\n",
      "+--------------------+--------------------+\n"
     ]
    }
   ],
   "source": [
    "remove_punctuation_udf = udf(remove_punctuation, StringType())\n",
    "\n",
    "df_dilma = df_dilma.withColumn(\"content_clean\", remove_punctuation_udf(col(\"content\")))\n",
    "\n",
    "df_dilma.show()"
   ],
   "metadata": {
    "collapsed": false,
    "ExecuteTime": {
     "end_time": "2024-05-30T06:09:22.789009600Z",
     "start_time": "2024-05-30T06:09:20.805669900Z"
    }
   },
   "id": "5a7949f4c988c426"
  },
  {
   "cell_type": "code",
   "execution_count": 200,
   "outputs": [
    {
     "name": "stdout",
     "output_type": "stream",
     "text": [
      "+--------------------+--------------------+--------------------+\n",
      "|             content|       content_clean|               words|\n",
      "+--------------------+--------------------+--------------------+\n",
      "|\"\"\"@marinaecologi...|marinaecologia Di...|[marinaecologia, ...|\n",
      "|Pensando seriamen...|Pensando seriamen...|[pensando, seriam...|\n",
      "|O gigante acordou...|O gigante acordou...|[o, gigante, acor...|\n",
      "|@KennedyAncar @Dr...|KennedyAncar Drim...|[kennedyancar, dr...|\n",
      "|Quem vota na Dilm...|Quem vota na Dilm...|[quem, vota, na, ...|\n",
      "|OLHA DILMA MINHA ...|OLHA DILMA MINHA ...|[olha, dilma, min...|\n",
      "|@BLOGdoPEPE mas N...|BLOGdoPEPE mas No...|[blogdopepe, mas,...|\n",
      "|\"Dilma, viado, co...|Dilma viado conti...|[dilma, viado, co...|\n",
      "|\"\"\"@MirandaSa_: K...|MirandaSa_ KKKKK ...|[mirandasa_, kkkk...|\n",
      "|Aprendi com a Dil...|Aprendi com a Dil...|[aprendi, com, a,...|\n",
      "|Dilma funciona co...|Dilma funciona co...|[dilma, funciona,...|\n",
      "|\"\"\"@emirsader: \"\"...|emirsader Meu vot...|[emirsader, meu, ...|\n",
      "|Lembrar dos 13,00...|Lembrar dos 1300 ...|[lembrar, dos, 13...|\n",
      "|@LordePagao pedim...|LordePagao pedimo...|[lordepagao, pedi...|\n",
      "|Só eu acho qe o A...|Só eu acho qe o A...|[só, eu, acho, qe...|\n",
      "|@paulaingridd que...|paulaingridd quer...|[paulaingridd, qu...|\n",
      "|e falam q nao vao...|e falam q nao vao...|[e, falam, q, nao...|\n",
      "|#AecioPelaMudanca...|AecioPelaMudanca ...|[aeciopelamudanca...|\n",
      "|Bora pensar Dilma...|Bora pensar Dilma...|[bora, pensar, di...|\n",
      "|Acho que o pessoa...|Acho que o pessoa...|[acho, que, o, pe...|\n",
      "+--------------------+--------------------+--------------------+\n"
     ]
    }
   ],
   "source": [
    "tokenizer = Tokenizer(inputCol=\"content_clean\", outputCol=\"words\")\n",
    "df_tokens = tokenizer.transform(df_dilma)\n",
    "\n",
    "df_tokens.show()"
   ],
   "metadata": {
    "collapsed": false,
    "ExecuteTime": {
     "end_time": "2024-05-30T06:09:24.542324500Z",
     "start_time": "2024-05-30T06:09:22.789009600Z"
    }
   },
   "id": "3d154a35a77cd1df"
  },
  {
   "cell_type": "code",
   "execution_count": 201,
   "outputs": [
    {
     "name": "stdout",
     "output_type": "stream",
     "text": [
      "+--------------------+--------------------+--------------------+--------------------+\n",
      "|             content|       content_clean|               words|            filtered|\n",
      "+--------------------+--------------------+--------------------+--------------------+\n",
      "|\"\"\"@marinaecologi...|marinaecologia Di...|[marinaecologia, ...|[marinaecologia, ...|\n",
      "|Pensando seriamen...|Pensando seriamen...|[pensando, seriam...|[pensando, seriam...|\n",
      "|O gigante acordou...|O gigante acordou...|[o, gigante, acor...|[gigante, acordou...|\n",
      "|@KennedyAncar @Dr...|KennedyAncar Drim...|[kennedyancar, dr...|[kennedyancar, dr...|\n",
      "|Quem vota na Dilm...|Quem vota na Dilm...|[quem, vota, na, ...|[vota, dilma, mer...|\n",
      "|OLHA DILMA MINHA ...|OLHA DILMA MINHA ...|[olha, dilma, min...|[olha, dilma, fil...|\n",
      "|@BLOGdoPEPE mas N...|BLOGdoPEPE mas No...|[blogdopepe, mas,...|[blogdopepe, nobl...|\n",
      "|\"Dilma, viado, co...|Dilma viado conti...|[dilma, viado, co...|[dilma, viado, co...|\n",
      "|\"\"\"@MirandaSa_: K...|MirandaSa_ KKKKK ...|[mirandasa_, kkkk...|[mirandasa_, kkkk...|\n",
      "|Aprendi com a Dil...|Aprendi com a Dil...|[aprendi, com, a,...|[aprendi, dilma, ...|\n",
      "|Dilma funciona co...|Dilma funciona co...|[dilma, funciona,...|[dilma, funciona,...|\n",
      "|\"\"\"@emirsader: \"\"...|emirsader Meu vot...|[emirsader, meu, ...|[emirsader, voto,...|\n",
      "|Lembrar dos 13,00...|Lembrar dos 1300 ...|[lembrar, dos, 13...|[lembrar, 1300, r...|\n",
      "|@LordePagao pedim...|LordePagao pedimo...|[lordepagao, pedi...|[lordepagao, pedi...|\n",
      "|Só eu acho qe o A...|Só eu acho qe o A...|[só, eu, acho, qe...|[acho, qe, aécio,...|\n",
      "|@paulaingridd que...|paulaingridd quer...|[paulaingridd, qu...|[paulaingridd, qu...|\n",
      "|e falam q nao vao...|e falam q nao vao...|[e, falam, q, nao...|[falam, q, nao, v...|\n",
      "|#AecioPelaMudanca...|AecioPelaMudanca ...|[aeciopelamudanca...|[aeciopelamudanca...|\n",
      "|Bora pensar Dilma...|Bora pensar Dilma...|[bora, pensar, di...|[bora, pensar, di...|\n",
      "|Acho que o pessoa...|Acho que o pessoa...|[acho, que, o, pe...|[acho, pessoal, a...|\n",
      "+--------------------+--------------------+--------------------+--------------------+\n"
     ]
    }
   ],
   "source": [
    "stopwordList = nltk.corpus.stopwords.words('portuguese')\n",
    "\n",
    "remover = StopWordsRemover(inputCol=\"words\", outputCol=\"filtered\", stopWords = stopwordList)\n",
    "df_filtered_tokens = remover.transform(df_tokens)\n",
    "\n",
    "df_filtered_tokens.show()"
   ],
   "metadata": {
    "collapsed": false,
    "ExecuteTime": {
     "end_time": "2024-05-30T06:09:27.033732900Z",
     "start_time": "2024-05-30T06:09:24.546323Z"
    }
   },
   "id": "44ae158914597b67"
  },
  {
   "cell_type": "code",
   "execution_count": 202,
   "outputs": [],
   "source": [
    "vectorizer = CountVectorizer(inputCol=\"filtered\", outputCol=\"features\")\n",
    "vectorizer_model = vectorizer.fit(df_filtered_tokens)\n",
    "\n",
    "df_features = vectorizer_model.transform(df_filtered_tokens)"
   ],
   "metadata": {
    "collapsed": false,
    "ExecuteTime": {
     "end_time": "2024-05-30T06:10:01.664071900Z",
     "start_time": "2024-05-30T06:09:27.034732300Z"
    }
   },
   "id": "653240b9acce211"
  },
  {
   "cell_type": "code",
   "execution_count": 203,
   "outputs": [],
   "source": [
    "lda = LDA(k=5, maxIter=10, featuresCol=\"features\")\n",
    "lda_model = lda.fit(df_features)\n",
    "\n",
    "# Tópicos identificados pelo LDA\n",
    "topics = lda_model.describeTopics()\n",
    "vocab = vectorizer_model.vocabulary"
   ],
   "metadata": {
    "collapsed": false,
    "ExecuteTime": {
     "end_time": "2024-05-30T06:10:38.324333500Z",
     "start_time": "2024-05-30T06:10:01.665074700Z"
    }
   },
   "id": "cbe509a0ccad924c"
  },
  {
   "cell_type": "code",
   "execution_count": 204,
   "outputs": [],
   "source": [
    "def topic_words(topic, vocab):\n",
    "    return [vocab[idx] for idx in topic.termIndices]"
   ],
   "metadata": {
    "collapsed": false,
    "ExecuteTime": {
     "end_time": "2024-05-30T06:10:38.339334100Z",
     "start_time": "2024-05-30T06:10:38.325329500Z"
    }
   },
   "id": "e64072809cb5c3ad"
  },
  {
   "cell_type": "code",
   "execution_count": 205,
   "outputs": [
    {
     "name": "stdout",
     "output_type": "stream",
     "text": [
      "Topic 0: dilma, aécio, debatenosbt, ta, brasil, falando, n, pra, p, debate\n",
      "Topic 1: dilma, cara, debate, aécio, , chorar, pra, bloco, mal, debatenosbt\n",
      "Topic 2: dilma, aécio, debatenarecord, ta, , debate, pra, faz, cara, agora\n",
      "Topic 3: dilma, , aécio, pra, vai, q, debate, aecio, cara, ta\n",
      "Topic 4: dilma, q, , pra, ta, governo, falar, sbt, aécio, pq\n"
     ]
    }
   ],
   "source": [
    "topics_rdd = topics.rdd.map(lambda row: topic_words(row, vocab))\n",
    "topics_words = topics_rdd.collect()\n",
    "\n",
    "for idx, topic in enumerate(topics_words):\n",
    "    print(f\"Topic {idx}: {', '.join(topic)}\")"
   ],
   "metadata": {
    "collapsed": false,
    "ExecuteTime": {
     "end_time": "2024-05-30T06:10:41.777606800Z",
     "start_time": "2024-05-30T06:10:38.341329500Z"
    }
   },
   "id": "24fbc907ce61ac87"
  },
  {
   "cell_type": "code",
   "execution_count": 206,
   "outputs": [],
   "source": [
    "def get_main_topic_udf(topicDist):\n",
    "    return int(np.argmax(topicDist))"
   ],
   "metadata": {
    "collapsed": false,
    "ExecuteTime": {
     "end_time": "2024-05-30T06:10:41.821842700Z",
     "start_time": "2024-05-30T06:10:41.780606Z"
    }
   },
   "id": "61ab5fbf2062bee4"
  },
  {
   "cell_type": "code",
   "execution_count": 207,
   "outputs": [],
   "source": [
    "get_main_topic = udf(get_main_topic_udf, IntegerType())\n",
    "transformed = lda_model.transform(df_features).withColumn(\"mainTopic\", get_main_topic(col(\"topicDistribution\")))"
   ],
   "metadata": {
    "collapsed": false,
    "ExecuteTime": {
     "end_time": "2024-05-30T06:10:41.869356800Z",
     "start_time": "2024-05-30T06:10:41.794616100Z"
    }
   },
   "id": "9e67f7d5dac21edd"
  },
  {
   "cell_type": "code",
   "execution_count": 208,
   "outputs": [
    {
     "name": "stdout",
     "output_type": "stream",
     "text": [
      "Sentenças Principais do Tópico 0 Relacionadas à Palavra 'Dilma':\n",
      "1: Entre Dilma e Aécio, prefiro entregar o Brasil pros índios e pedir desculpas 👌\n",
      "2: Votei na enquete: Dilma jantou Aécio no #DebatenaBand #MelhorcomDilma13 RT @UOL http://t.co/NnOv0UY3r0 #Eleições2014 http://t.co/8eQNdd5OeI\"\"\n",
      "3: Dilma ou Aécio? #mudabrasil #vamosfazeradiferenca #vempraurna #todomundo #selfieservico #issomudaojogo… http://t.co/xAGdk2z2u7\n",
      "4: Entre Dilma e Aecio eu prefiro devolver o Brasil pros índios e pedir desculpas.\n",
      "5: Entre a Dilma ou o Aécio, prefiro devolver o Brasil para os índios e pedir desculpas!!!--'\n",
      "6: Em São Leopoldo vencemos com @tarsogenro  e @dilma. Seguimos dialogando com a população para ampliar o apoio! http://t.co/O5YfgOKWn2\n",
      "7: \"\"\"@leandrofortes: TCE retirou contas do site citado por Dilma, denuncia Minas Sem Censura https://t.co/YKOu6kZ3pG\"\"\"\n",
      "8: Ataques Dilma×Aécio   😂😂😂😂😂\n",
      "9: Eleitorado decidido: Aécio 42%, Dilma 42%.\n",
      "10: “@leandrofortes: TCE retirou contas do site citado por Dilma, denuncia Minas Sem Censura https://t.co/QRcKR67iDW” Se verdade, GRAVE!\n"
     ]
    }
   ],
   "source": [
    "# Mostra as primeiras 10 sentenças do primeiro tópico (por exemplo)\n",
    "top_sentences = transformed.filter(col(\"mainTopic\") == 0).select(\"content\").take(10)\n",
    "\n",
    "print(\"Sentenças Principais do Tópico 0 Relacionadas à Palavra 'Dilma':\")\n",
    "for i, sentence in enumerate(top_sentences):\n",
    "    print(f\"{i+1}: {sentence['content']}\")"
   ],
   "metadata": {
    "collapsed": false,
    "ExecuteTime": {
     "end_time": "2024-05-30T06:10:52.702288400Z",
     "start_time": "2024-05-30T06:10:41.871357700Z"
    }
   },
   "id": "4f683803f6efcdf"
  },
  {
   "cell_type": "code",
   "execution_count": 209,
   "outputs": [
    {
     "name": "stdout",
     "output_type": "stream",
     "text": [
      "Sentenças Principais do Tópico 1 Relacionadas à Palavra 'Dilma':\n",
      "1: \"\"\"@MirandaSa_: KKKKK RT @CellyMattosI: http://t.co/pbrHKaHYq0\"\" kkkkkk...olha ai Dilma\"\n",
      "2: Aprendi com a Dilma que 13-4=7\n",
      "3: #UnaFinalMuyReñida: El duelo final entre Dilma y Aécio http://t.co/oJG8FegobN vía @el_pais\n",
      "4: IBOPE en las ultimas semanas había pronosticado que Dilma perdía en ballotage con M. Silva (la cual salió 3ra). Son un jugador político mas\n",
      "5: @elizondogabriel endorsements in Brazil have little value. Exceptions: Lula-Dilma and Aecio-Anastasia in Minas.\n",
      "6: \"\"\"@Carlosmperalta: El duelo final entre Dilma y Aécio http://t.co/inGtu84cc0 vía @el_pais\"\" /muy revelador de la contienda electoral.\"\n",
      "7: \"??????????----&gt;\"\"@UOL: Aprovação do governo Dilma sobe e atinge 40%, indica pesquisa http://t.co/JzzqJoXWD1 @UOL\"\"\"\n",
      "8: Luego de nuestro triunfo, estamos en vigilia del de #Dilma en #Brasil. Les dejo una nota que me hicieron @comunicasul http://t.co/SsjfNWX75I\n",
      "9: MAH OÊ! RT @paaahlu: @Ocharadista Me manda o video da dilma\n",
      "10: eu e dilma bolados na madruga. #nightshift @ Grupo Bandeirantes De Comunicacao http://t.co/YnUQoTkQRs\n"
     ]
    }
   ],
   "source": [
    "# Mostra as primeiras 10 sentenças do primeiro tópico (por exemplo)\n",
    "top_sentences = transformed.filter(col(\"mainTopic\") == 1).select(\"content\").take(10)\n",
    "\n",
    "print(\"Sentenças Principais do Tópico 1 Relacionadas à Palavra 'Dilma':\")\n",
    "for i, sentence in enumerate(top_sentences):\n",
    "    print(f\"{i+1}: {sentence['content']}\")"
   ],
   "metadata": {
    "collapsed": false,
    "ExecuteTime": {
     "end_time": "2024-05-30T06:11:06.699662100Z",
     "start_time": "2024-05-30T06:10:52.703288200Z"
    }
   },
   "id": "1a983d2c081d316"
  },
  {
   "cell_type": "code",
   "execution_count": 210,
   "outputs": [
    {
     "name": "stdout",
     "output_type": "stream",
     "text": [
      "Sentenças Principais do Tópico 2 Relacionadas à Palavra 'Dilma':\n",
      "1: @KennedyAncar @Drimone @jornaldaREALMENTE DILMA CAGUEJOU,ESTAVA NERVOSA,SEM PREPARO,MUITO REPETITIVA VOLTA MUITO NO PASSADO,AÉCIO FOI MELHOR\n",
      "2: OLHA DILMA MINHA FILHA ENTENDA FILHINHA VOCÊ JÁ ERA NÃO RESISTE TOMA MEU LENÇO: #45Confirma ! !!! !!! !!!\n",
      "3: @BLOGdoPEPE mas Noblat reconhece superioridade de Dilma.\n",
      "4: @renatorabelobr @Dra_SimoneQUE PROPOSTA,DILMA SÓ ATACOU E MUITA REPETITIVA  BOLTS DO PASSADO\n",
      "5: Até você reconhece que Dilma e um desastre\n",
      "6: \"@Danilo_Figueira @carlosmaltz O processamento mental de Dilma é em cima da decoreba passada pelo \"\"maqueteiro\"\" da campanha\"\n",
      "7: Kkkkkkk vejam Dilma vs Aécio no parafernalha kkkkkkkkk\n",
      "8: @Marconi45Aecio @teresinhalopes @MadameWilde @Melloalmeida45 @BlogOlhoNaMira Ponto eletrônico disfarçado de brinco foi única inovação Dilma\n",
      "9: Para quem está criticando a oratória da Dilma, informo que Hitler falava muito, muito bem. ;)\n",
      "10: Vereador Nabil, eu retifico seu entendimento sobre gestão de escassez hídrica, afirma Dilma Pena em CPI. http://t.co/HiQCUElbKX\n"
     ]
    }
   ],
   "source": [
    "# Mostra as primeiras 10 sentenças do primeiro tópico (por exemplo)\n",
    "top_sentences = transformed.filter(col(\"mainTopic\") == 2).select(\"content\").take(10)\n",
    "\n",
    "print(\"Sentenças Principais do Tópico 2 Relacionadas à Palavra 'Dilma':\")\n",
    "for i, sentence in enumerate(top_sentences):\n",
    "    print(f\"{i+1}: {sentence['content']}\")"
   ],
   "metadata": {
    "collapsed": false,
    "ExecuteTime": {
     "end_time": "2024-05-30T06:11:11.210440Z",
     "start_time": "2024-05-30T06:11:06.702663200Z"
    }
   },
   "id": "a9e54b9a1b9715a4"
  },
  {
   "cell_type": "code",
   "execution_count": 211,
   "outputs": [
    {
     "name": "stdout",
     "output_type": "stream",
     "text": [
      "Sentenças Principais do Tópico 3 Relacionadas à Palavra 'Dilma':\n",
      "1: \"\"\"@marinaecologia: Dilma não arruma nem os dentes, imagina o país.\"\"\"\n",
      "2: Pensando seriamente em chamar o manicômio pra quem quer votar na Dilma\n",
      "3: O gigante acordou tanto que vão votar na Dilma de novo 😂😂😂\n",
      "4: Quem vota na Dilma merece apanhar por que pqp hein\n",
      "5: \"Dilma, viado, continua que tá bonito! \"\"Não, não me abandone. Não me desespere, porque eu não posso ficar sem você ♪\"\"\"\n",
      "6: Dilma funciona com internet discada.\n",
      "7: \"\"\"@emirsader: \"\"Meu voto é a favor do Brasil, meu voto é Dilma\"\", diz Emicida http://t.co/k54fv7RIcW\"\"@emicida #orgulhodevocêgaroto\"\n",
      "8: Lembrar dos 13,00 reais, lembrem Dilma 13, 13,00 reais\n",
      "9: @LordePagao pedimos alegando que não iam mandar mais porque a Dilma não ganhou aqui no Sul.\n",
      "10: Só eu acho qe o Aécio sambou na cara da Dilma ontem ? #DebateDaBand\n"
     ]
    }
   ],
   "source": [
    "# Mostra as primeiras 10 sentenças do primeiro tópico (por exemplo)\n",
    "top_sentences = transformed.filter(col(\"mainTopic\") == 3).select(\"content\").take(10)\n",
    "\n",
    "print(\"Sentenças Principais do Tópico 3 Relacionadas à Palavra 'Dilma':\")\n",
    "for i, sentence in enumerate(top_sentences):\n",
    "    print(f\"{i+1}: {sentence['content']}\")"
   ],
   "metadata": {
    "collapsed": false,
    "ExecuteTime": {
     "end_time": "2024-05-30T06:11:15.477289900Z",
     "start_time": "2024-05-30T06:11:11.212438800Z"
    }
   },
   "id": "41f243357a151106"
  },
  {
   "cell_type": "code",
   "execution_count": 212,
   "outputs": [
    {
     "name": "stdout",
     "output_type": "stream",
     "text": [
      "Sentenças Principais do Tópico 4 Relacionadas à Palavra 'Dilma':\n",
      "1: SOU MELO SOU AMAZONENSE SOU 90. A HUMILDADE VENCE A ARROGÂNCIA E PREPOTÊNCIA A DILMA E O EDUARDO SÃO MUITO PARECIDOS (MENTEM)\n",
      "2: \"todos concordamos com a Dilma,né? Ela mesmo disse '' precisamos mudar'', portanto, #aeciopelamudança\"\" @Gusttavo_lima #Goiânia!\"\"\"\n",
      "3: \"\"\"@giworldfacts: @DaniloGentili DERROTAS DE DILMA em São Paulo http://t.co/wIteYs7Tgi\"\"\"\n",
      "4: @fecorreianv tentativa fail de se sobressair, Dilma suja.\n",
      "5: Tico Santa Cruz &gt;&gt;&gt;&gt;&gt;&gt;&gt;&gt;&gt;&gt;Dilma e Aécio http://t.co/d8uP9ClOYF\n",
      "6: Brilha Dilma. Reaças piram http://t.co/lJrjNcFpMI\n",
      "7: @DaniContin Menas Dilma, menas !\n",
      "8: @Emiliano_Jose @lopesfernandeEU VI UMA DILMA,DESCONTROLADA,MUITO NERVOSA,DESPREPARADA,GAGUEJANDO REPETITIVA,E VOLTANDO SEMPRE EM 2000.!!!!!!\n",
      "9: @_dacor @dannixiu @michele_gsantos @camargonatty @CaGomees alo, Dilma? Pedeu a hora hoje? 👂☎\n",
      "10: Estamos pendientes de la defensa de la integración regional antiimperialista #Dilma. Aquí la nota que me hicieron http://t.co/yIlRfHjl9H\n"
     ]
    }
   ],
   "source": [
    "# Mostra as primeiras 10 sentenças do primeiro tópico (por exemplo)\n",
    "top_sentences = transformed.filter(col(\"mainTopic\") == 4).select(\"content\").take(10)\n",
    "\n",
    "print(\"Sentenças Principais do Tópico 4 Relacionadas à Palavra 'Dilma':\")\n",
    "for i, sentence in enumerate(top_sentences):\n",
    "    print(f\"{i+1}: {sentence['content']}\")"
   ],
   "metadata": {
    "collapsed": false,
    "ExecuteTime": {
     "end_time": "2024-05-30T06:11:28.115412Z",
     "start_time": "2024-05-30T06:11:15.480295300Z"
    }
   },
   "id": "434b54b9246f2cc"
  },
  {
   "cell_type": "code",
   "execution_count": 213,
   "outputs": [],
   "source": [
    "# tive um resultado, mas não sei se foi interessante, por enquanto vou manter assim\n",
    "# lemmatizer deu resultado pior q o esperado, então resolvi remover e deixar sem"
   ],
   "metadata": {
    "collapsed": false,
    "ExecuteTime": {
     "end_time": "2024-05-30T06:11:28.115412Z",
     "start_time": "2024-05-30T06:11:28.086333Z"
    }
   },
   "id": "db47e378750bd7a0"
  }
 ],
 "metadata": {
  "kernelspec": {
   "display_name": "Python 3",
   "language": "python",
   "name": "python3"
  },
  "language_info": {
   "codemirror_mode": {
    "name": "ipython",
    "version": 2
   },
   "file_extension": ".py",
   "mimetype": "text/x-python",
   "name": "python",
   "nbconvert_exporter": "python",
   "pygments_lexer": "ipython2",
   "version": "2.7.6"
  }
 },
 "nbformat": 4,
 "nbformat_minor": 5
}
