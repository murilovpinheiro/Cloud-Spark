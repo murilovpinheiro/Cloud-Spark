{
 "cells": [
  {
   "cell_type": "code",
   "execution_count": 24,
   "id": "initial_id",
   "metadata": {
    "collapsed": true,
    "ExecuteTime": {
     "end_time": "2024-06-01T01:18:16.185839600Z",
     "start_time": "2024-06-01T01:18:16.089264900Z"
    }
   },
   "outputs": [],
   "source": [
    "from pyspark.sql import SparkSession\n",
    "from pyspark.sql.functions import col, udf, explode\n",
    "from pyspark.sql.types import BooleanType, ArrayType, StringType, DoubleType\n",
    "from pyspark.ml.feature import Tokenizer, StopWordsRemover, HashingTF, IDF, NGram\n",
    "from pyspark.ml.linalg import Vectors\n",
    "\n",
    "import pandas as pd\n",
    "import re\n",
    "import nltk"
   ]
  },
  {
   "cell_type": "code",
   "execution_count": 25,
   "outputs": [],
   "source": [
    "spark = (SparkSession.builder \\\n",
    "    .appName(\"SPARK TRAB - QUESTION 1 D\").getOrCreate())"
   ],
   "metadata": {
    "collapsed": false,
    "ExecuteTime": {
     "end_time": "2024-06-01T01:18:16.312677100Z",
     "start_time": "2024-06-01T01:18:16.100772300Z"
    }
   },
   "id": "8ea4c4cb498ce60e"
  },
  {
   "cell_type": "code",
   "execution_count": 26,
   "outputs": [],
   "source": [
    "df_orig = spark.read.option(\"header\", \"false\").option(\"delimiter\", \"\\t\").csv(\"./data/debate-tweets.tsv\")"
   ],
   "metadata": {
    "collapsed": false,
    "ExecuteTime": {
     "end_time": "2024-06-01T01:18:16.467715300Z",
     "start_time": "2024-06-01T01:18:16.315271200Z"
    }
   },
   "id": "f761b8d6538f3d75"
  },
  {
   "cell_type": "markdown",
   "source": [
    "## Objetivo"
   ],
   "metadata": {
    "collapsed": false
   },
   "id": "23ec9becce8c5245"
  },
  {
   "cell_type": "code",
   "execution_count": 27,
   "outputs": [
    {
     "name": "stdout",
     "output_type": "stream",
     "text": [
      "+------------------+--------------------+\n",
      "|                id|             content|\n",
      "+------------------+--------------------+\n",
      "|522394422710136832|@anacddd verdade,...|\n",
      "|522394422806581248|              Que ñ*|\n",
      "|522394422731100160| Vou quebrar a Bruna|\n",
      "|522394422810783745|agora vou p segun...|\n",
      "|522394423137943553|Me sinto tão bem ...|\n",
      "|522394423188271104|Eu estou aqui, de...|\n",
      "|522394423238606848|Quando vai embora...|\n",
      "|522394423528022016|@paynecaralhudo k...|\n",
      "|522394423632875521|Conceição da Barr...|\n",
      "|522394424010362881| @Maniavato te amo ♥|\n",
      "|522394424048091138|Alg me curtindo rs ♡|\n",
      "|522394424010358784|@MiiluAA No, porq...|\n",
      "|522394423741906944|#EMABiggestFansJu...|\n",
      "|522394424568213505|@raizabatista dev...|\n",
      "|522394424920506368|Me senti ate d fe...|\n",
      "|522394424811458560|qual o sentido de...|\n",
      "|522394425029574656|I'm at Lava Rápid...|\n",
      "|522394425121841153|Fica comentando m...|\n",
      "|522394425461579777|\"odeio que me man...|\n",
      "|522394425960701952|CAMAMTEBABILONFRA...|\n",
      "+------------------+--------------------+\n"
     ]
    }
   ],
   "source": [
    "df = df_orig.select(\"_c0\", \"_c1\")\n",
    "\n",
    "df = df.withColumnRenamed(\"_c0\", \"id\") \\\n",
    "                     .withColumnRenamed(\"_c1\", \"content\")\n",
    "\n",
    "df.show()"
   ],
   "metadata": {
    "collapsed": false,
    "ExecuteTime": {
     "end_time": "2024-06-01T01:18:16.559837800Z",
     "start_time": "2024-06-01T01:18:16.470710500Z"
    }
   },
   "id": "cfb9b2b167461b39"
  },
  {
   "cell_type": "code",
   "execution_count": 28,
   "outputs": [],
   "source": [
    "def extract_dilma(text):\n",
    "    if re.search(r'\\bDilma\\b', text, re.IGNORECASE):\n",
    "        return True\n",
    "    else:\n",
    "        return False\n",
    "    \n",
    "def remove_punctuation(text):\n",
    "    return re.sub(r'[^\\w\\s]', '', text)"
   ],
   "metadata": {
    "collapsed": false,
    "ExecuteTime": {
     "end_time": "2024-06-01T01:18:16.582246500Z",
     "start_time": "2024-06-01T01:18:16.562818800Z"
    }
   },
   "id": "d9af9f2c6f1843f5"
  },
  {
   "cell_type": "code",
   "execution_count": 29,
   "outputs": [
    {
     "data": {
      "text/plain": "[Row(id='522394534773538816', content='\"\"\"@marinaecologia: Dilma não arruma nem os dentes, imagina o país.\"\"\"'),\n Row(id='522394590671020032', content='Pensando seriamente em chamar o manicômio pra quem quer votar na Dilma'),\n Row(id='522394744463577088', content='O gigante acordou tanto que vão votar na Dilma de novo 😂😂😂'),\n Row(id='522394798914015233', content='@KennedyAncar @Drimone @jornaldaREALMENTE DILMA CAGUEJOU,ESTAVA NERVOSA,SEM PREPARO,MUITO REPETITIVA VOLTA MUITO NO PASSADO,AÉCIO FOI MELHOR'),\n Row(id='522394887472562176', content='Quem vota na Dilma merece apanhar por que pqp hein'),\n Row(id='522395038056058880', content='OLHA DILMA MINHA FILHA ENTENDA FILHINHA VOCÊ JÁ ERA NÃO RESISTE TOMA MEU LENÇO: #45Confirma ! !!! !!! !!!'),\n Row(id='522395096290185216', content='@BLOGdoPEPE mas Noblat reconhece superioridade de Dilma.'),\n Row(id='522395241828323328', content='\"Dilma, viado, continua que tá bonito! \"\"Não, não me abandone. Não me desespere, porque eu não posso ficar sem você ♪\"\"\"'),\n Row(id='522395257003311104', content='\"\"\"@MirandaSa_: KKKKK RT @CellyMattosI: http://t.co/pbrHKaHYq0\"\" kkkkkk...olha ai Dilma\"'),\n Row(id='522395279061155840', content='Aprendi com a Dilma que 13-4=7'),\n Row(id='522395368555020290', content='Dilma funciona com internet discada.'),\n Row(id='522395379372158976', content='\"\"\"@emirsader: \"\"Meu voto é a favor do Brasil, meu voto é Dilma\"\", diz Emicida http://t.co/k54fv7RIcW\"\"@emicida #orgulhodevocêgaroto\"'),\n Row(id='522395729323896832', content='Lembrar dos 13,00 reais, lembrem Dilma 13, 13,00 reais'),\n Row(id='522395742145904641', content='@LordePagao pedimos alegando que não iam mandar mais porque a Dilma não ganhou aqui no Sul.'),\n Row(id='522395969577832448', content='Só eu acho qe o Aécio sambou na cara da Dilma ontem ? #DebateDaBand'),\n Row(id='522396000724746240', content='@paulaingridd querem reeleger a Dilma, po. :( por isso digo, não duvido que em 2016 queiram reeleger o bonitinho tb'),\n Row(id='522396040490917889', content='e falam q nao vao votar na dilma pq querem mudança com tanta ctz q ate parece q o aecio vai melhorar mta coisa'),\n Row(id='522396138939641856', content='#AecioPelaMudanca #dilmaleviana, políticos não são grandes coisas, mas se Dilma ganhar , desilusão total'),\n Row(id='522396298423844864', content='Bora pensar Dilma.. http://t.co/qFVIjHdUqz'),\n Row(id='522396429353246720', content='Acho que o pessoal de Aécio e Dilma assistiram um debate diferente do que eu, pq sinceramente não vi superioridade de nenhum dos dois.')]"
     },
     "metadata": {},
     "output_type": "display_data"
    }
   ],
   "source": [
    "extract_dilma_udf = udf(extract_dilma, BooleanType())\n",
    "\n",
    "df = df.withColumn(\"hasDilma\", extract_dilma_udf(df[\"content\"]))\n",
    "\n",
    "df_dilma = df.filter(col(\"hasDilma\")).select(\"id\", \"content\")\n",
    "\n",
    "display(df_dilma.head(20))"
   ],
   "metadata": {
    "collapsed": false,
    "ExecuteTime": {
     "end_time": "2024-06-01T01:18:17.877789500Z",
     "start_time": "2024-06-01T01:18:16.578239900Z"
    }
   },
   "id": "f70c65724ff5dbe0"
  },
  {
   "cell_type": "code",
   "execution_count": 30,
   "outputs": [
    {
     "data": {
      "text/plain": "[Row(id='522394534773538816', content='\"\"\"@marinaecologia: Dilma não arruma nem os dentes, imagina o país.\"\"\"', content_clean='marinaecologia Dilma não arruma nem os dentes imagina o país'),\n Row(id='522394590671020032', content='Pensando seriamente em chamar o manicômio pra quem quer votar na Dilma', content_clean='Pensando seriamente em chamar o manicômio pra quem quer votar na Dilma'),\n Row(id='522394744463577088', content='O gigante acordou tanto que vão votar na Dilma de novo 😂😂😂', content_clean='O gigante acordou tanto que vão votar na Dilma de novo '),\n Row(id='522394798914015233', content='@KennedyAncar @Drimone @jornaldaREALMENTE DILMA CAGUEJOU,ESTAVA NERVOSA,SEM PREPARO,MUITO REPETITIVA VOLTA MUITO NO PASSADO,AÉCIO FOI MELHOR', content_clean='KennedyAncar Drimone jornaldaREALMENTE DILMA CAGUEJOUESTAVA NERVOSASEM PREPAROMUITO REPETITIVA VOLTA MUITO NO PASSADOAÉCIO FOI MELHOR'),\n Row(id='522394887472562176', content='Quem vota na Dilma merece apanhar por que pqp hein', content_clean='Quem vota na Dilma merece apanhar por que pqp hein'),\n Row(id='522395038056058880', content='OLHA DILMA MINHA FILHA ENTENDA FILHINHA VOCÊ JÁ ERA NÃO RESISTE TOMA MEU LENÇO: #45Confirma ! !!! !!! !!!', content_clean='OLHA DILMA MINHA FILHA ENTENDA FILHINHA VOCÊ JÁ ERA NÃO RESISTE TOMA MEU LENÇO 45Confirma    '),\n Row(id='522395096290185216', content='@BLOGdoPEPE mas Noblat reconhece superioridade de Dilma.', content_clean='BLOGdoPEPE mas Noblat reconhece superioridade de Dilma'),\n Row(id='522395241828323328', content='\"Dilma, viado, continua que tá bonito! \"\"Não, não me abandone. Não me desespere, porque eu não posso ficar sem você ♪\"\"\"', content_clean='Dilma viado continua que tá bonito Não não me abandone Não me desespere porque eu não posso ficar sem você '),\n Row(id='522395257003311104', content='\"\"\"@MirandaSa_: KKKKK RT @CellyMattosI: http://t.co/pbrHKaHYq0\"\" kkkkkk...olha ai Dilma\"', content_clean='MirandaSa_ KKKKK RT CellyMattosI httptcopbrHKaHYq0 kkkkkkolha ai Dilma'),\n Row(id='522395279061155840', content='Aprendi com a Dilma que 13-4=7', content_clean='Aprendi com a Dilma que 1347'),\n Row(id='522395368555020290', content='Dilma funciona com internet discada.', content_clean='Dilma funciona com internet discada'),\n Row(id='522395379372158976', content='\"\"\"@emirsader: \"\"Meu voto é a favor do Brasil, meu voto é Dilma\"\", diz Emicida http://t.co/k54fv7RIcW\"\"@emicida #orgulhodevocêgaroto\"', content_clean='emirsader Meu voto é a favor do Brasil meu voto é Dilma diz Emicida httptcok54fv7RIcWemicida orgulhodevocêgaroto'),\n Row(id='522395729323896832', content='Lembrar dos 13,00 reais, lembrem Dilma 13, 13,00 reais', content_clean='Lembrar dos 1300 reais lembrem Dilma 13 1300 reais'),\n Row(id='522395742145904641', content='@LordePagao pedimos alegando que não iam mandar mais porque a Dilma não ganhou aqui no Sul.', content_clean='LordePagao pedimos alegando que não iam mandar mais porque a Dilma não ganhou aqui no Sul'),\n Row(id='522395969577832448', content='Só eu acho qe o Aécio sambou na cara da Dilma ontem ? #DebateDaBand', content_clean='Só eu acho qe o Aécio sambou na cara da Dilma ontem  DebateDaBand'),\n Row(id='522396000724746240', content='@paulaingridd querem reeleger a Dilma, po. :( por isso digo, não duvido que em 2016 queiram reeleger o bonitinho tb', content_clean='paulaingridd querem reeleger a Dilma po  por isso digo não duvido que em 2016 queiram reeleger o bonitinho tb'),\n Row(id='522396040490917889', content='e falam q nao vao votar na dilma pq querem mudança com tanta ctz q ate parece q o aecio vai melhorar mta coisa', content_clean='e falam q nao vao votar na dilma pq querem mudança com tanta ctz q ate parece q o aecio vai melhorar mta coisa'),\n Row(id='522396138939641856', content='#AecioPelaMudanca #dilmaleviana, políticos não são grandes coisas, mas se Dilma ganhar , desilusão total', content_clean='AecioPelaMudanca dilmaleviana políticos não são grandes coisas mas se Dilma ganhar  desilusão total'),\n Row(id='522396298423844864', content='Bora pensar Dilma.. http://t.co/qFVIjHdUqz', content_clean='Bora pensar Dilma httptcoqFVIjHdUqz'),\n Row(id='522396429353246720', content='Acho que o pessoal de Aécio e Dilma assistiram um debate diferente do que eu, pq sinceramente não vi superioridade de nenhum dos dois.', content_clean='Acho que o pessoal de Aécio e Dilma assistiram um debate diferente do que eu pq sinceramente não vi superioridade de nenhum dos dois')]"
     },
     "metadata": {},
     "output_type": "display_data"
    }
   ],
   "source": [
    "remove_punctuation_udf = udf(remove_punctuation, StringType())\n",
    "\n",
    "df_dilma = df_dilma.withColumn(\"content_clean\", remove_punctuation_udf(col(\"content\")))\n",
    "\n",
    "display(df_dilma.head(20))"
   ],
   "metadata": {
    "collapsed": false,
    "ExecuteTime": {
     "end_time": "2024-06-01T01:18:19.530939Z",
     "start_time": "2024-06-01T01:18:17.874771Z"
    }
   },
   "id": "5a7949f4c988c426"
  },
  {
   "cell_type": "code",
   "execution_count": 31,
   "outputs": [
    {
     "data": {
      "text/plain": "[Row(id='522394534773538816', content='\"\"\"@marinaecologia: Dilma não arruma nem os dentes, imagina o país.\"\"\"', content_clean='marinaecologia Dilma não arruma nem os dentes imagina o país', words=['marinaecologia', 'dilma', 'não', 'arruma', 'nem', 'os', 'dentes', 'imagina', 'o', 'país']),\n Row(id='522394590671020032', content='Pensando seriamente em chamar o manicômio pra quem quer votar na Dilma', content_clean='Pensando seriamente em chamar o manicômio pra quem quer votar na Dilma', words=['pensando', 'seriamente', 'em', 'chamar', 'o', 'manicômio', 'pra', 'quem', 'quer', 'votar', 'na', 'dilma']),\n Row(id='522394744463577088', content='O gigante acordou tanto que vão votar na Dilma de novo 😂😂😂', content_clean='O gigante acordou tanto que vão votar na Dilma de novo ', words=['o', 'gigante', 'acordou', 'tanto', 'que', 'vão', 'votar', 'na', 'dilma', 'de', 'novo']),\n Row(id='522394798914015233', content='@KennedyAncar @Drimone @jornaldaREALMENTE DILMA CAGUEJOU,ESTAVA NERVOSA,SEM PREPARO,MUITO REPETITIVA VOLTA MUITO NO PASSADO,AÉCIO FOI MELHOR', content_clean='KennedyAncar Drimone jornaldaREALMENTE DILMA CAGUEJOUESTAVA NERVOSASEM PREPAROMUITO REPETITIVA VOLTA MUITO NO PASSADOAÉCIO FOI MELHOR', words=['kennedyancar', 'drimone', 'jornaldarealmente', 'dilma', 'caguejouestava', 'nervosasem', 'preparomuito', 'repetitiva', 'volta', 'muito', 'no', 'passadoaécio', 'foi', 'melhor']),\n Row(id='522394887472562176', content='Quem vota na Dilma merece apanhar por que pqp hein', content_clean='Quem vota na Dilma merece apanhar por que pqp hein', words=['quem', 'vota', 'na', 'dilma', 'merece', 'apanhar', 'por', 'que', 'pqp', 'hein']),\n Row(id='522395038056058880', content='OLHA DILMA MINHA FILHA ENTENDA FILHINHA VOCÊ JÁ ERA NÃO RESISTE TOMA MEU LENÇO: #45Confirma ! !!! !!! !!!', content_clean='OLHA DILMA MINHA FILHA ENTENDA FILHINHA VOCÊ JÁ ERA NÃO RESISTE TOMA MEU LENÇO 45Confirma    ', words=['olha', 'dilma', 'minha', 'filha', 'entenda', 'filhinha', 'você', 'já', 'era', 'não', 'resiste', 'toma', 'meu', 'lenço', '45confirma']),\n Row(id='522395096290185216', content='@BLOGdoPEPE mas Noblat reconhece superioridade de Dilma.', content_clean='BLOGdoPEPE mas Noblat reconhece superioridade de Dilma', words=['blogdopepe', 'mas', 'noblat', 'reconhece', 'superioridade', 'de', 'dilma']),\n Row(id='522395241828323328', content='\"Dilma, viado, continua que tá bonito! \"\"Não, não me abandone. Não me desespere, porque eu não posso ficar sem você ♪\"\"\"', content_clean='Dilma viado continua que tá bonito Não não me abandone Não me desespere porque eu não posso ficar sem você ', words=['dilma', 'viado', 'continua', 'que', 'tá', 'bonito', 'não', 'não', 'me', 'abandone', 'não', 'me', 'desespere', 'porque', 'eu', 'não', 'posso', 'ficar', 'sem', 'você']),\n Row(id='522395257003311104', content='\"\"\"@MirandaSa_: KKKKK RT @CellyMattosI: http://t.co/pbrHKaHYq0\"\" kkkkkk...olha ai Dilma\"', content_clean='MirandaSa_ KKKKK RT CellyMattosI httptcopbrHKaHYq0 kkkkkkolha ai Dilma', words=['mirandasa_', 'kkkkk', 'rt', 'cellymattosi', 'httptcopbrhkahyq0', 'kkkkkkolha', 'ai', 'dilma']),\n Row(id='522395279061155840', content='Aprendi com a Dilma que 13-4=7', content_clean='Aprendi com a Dilma que 1347', words=['aprendi', 'com', 'a', 'dilma', 'que', '1347']),\n Row(id='522395368555020290', content='Dilma funciona com internet discada.', content_clean='Dilma funciona com internet discada', words=['dilma', 'funciona', 'com', 'internet', 'discada']),\n Row(id='522395379372158976', content='\"\"\"@emirsader: \"\"Meu voto é a favor do Brasil, meu voto é Dilma\"\", diz Emicida http://t.co/k54fv7RIcW\"\"@emicida #orgulhodevocêgaroto\"', content_clean='emirsader Meu voto é a favor do Brasil meu voto é Dilma diz Emicida httptcok54fv7RIcWemicida orgulhodevocêgaroto', words=['emirsader', 'meu', 'voto', 'é', 'a', 'favor', 'do', 'brasil', 'meu', 'voto', 'é', 'dilma', 'diz', 'emicida', 'httptcok54fv7ricwemicida', 'orgulhodevocêgaroto']),\n Row(id='522395729323896832', content='Lembrar dos 13,00 reais, lembrem Dilma 13, 13,00 reais', content_clean='Lembrar dos 1300 reais lembrem Dilma 13 1300 reais', words=['lembrar', 'dos', '1300', 'reais', 'lembrem', 'dilma', '13', '1300', 'reais']),\n Row(id='522395742145904641', content='@LordePagao pedimos alegando que não iam mandar mais porque a Dilma não ganhou aqui no Sul.', content_clean='LordePagao pedimos alegando que não iam mandar mais porque a Dilma não ganhou aqui no Sul', words=['lordepagao', 'pedimos', 'alegando', 'que', 'não', 'iam', 'mandar', 'mais', 'porque', 'a', 'dilma', 'não', 'ganhou', 'aqui', 'no', 'sul']),\n Row(id='522395969577832448', content='Só eu acho qe o Aécio sambou na cara da Dilma ontem ? #DebateDaBand', content_clean='Só eu acho qe o Aécio sambou na cara da Dilma ontem  DebateDaBand', words=['só', 'eu', 'acho', 'qe', 'o', 'aécio', 'sambou', 'na', 'cara', 'da', 'dilma', 'ontem', '', 'debatedaband']),\n Row(id='522396000724746240', content='@paulaingridd querem reeleger a Dilma, po. :( por isso digo, não duvido que em 2016 queiram reeleger o bonitinho tb', content_clean='paulaingridd querem reeleger a Dilma po  por isso digo não duvido que em 2016 queiram reeleger o bonitinho tb', words=['paulaingridd', 'querem', 'reeleger', 'a', 'dilma', 'po', '', 'por', 'isso', 'digo', 'não', 'duvido', 'que', 'em', '2016', 'queiram', 'reeleger', 'o', 'bonitinho', 'tb']),\n Row(id='522396040490917889', content='e falam q nao vao votar na dilma pq querem mudança com tanta ctz q ate parece q o aecio vai melhorar mta coisa', content_clean='e falam q nao vao votar na dilma pq querem mudança com tanta ctz q ate parece q o aecio vai melhorar mta coisa', words=['e', 'falam', 'q', 'nao', 'vao', 'votar', 'na', 'dilma', 'pq', 'querem', 'mudança', 'com', 'tanta', 'ctz', 'q', 'ate', 'parece', 'q', 'o', 'aecio', 'vai', 'melhorar', 'mta', 'coisa']),\n Row(id='522396138939641856', content='#AecioPelaMudanca #dilmaleviana, políticos não são grandes coisas, mas se Dilma ganhar , desilusão total', content_clean='AecioPelaMudanca dilmaleviana políticos não são grandes coisas mas se Dilma ganhar  desilusão total', words=['aeciopelamudanca', 'dilmaleviana', 'políticos', 'não', 'são', 'grandes', 'coisas', 'mas', 'se', 'dilma', 'ganhar', '', 'desilusão', 'total']),\n Row(id='522396298423844864', content='Bora pensar Dilma.. http://t.co/qFVIjHdUqz', content_clean='Bora pensar Dilma httptcoqFVIjHdUqz', words=['bora', 'pensar', 'dilma', 'httptcoqfvijhduqz']),\n Row(id='522396429353246720', content='Acho que o pessoal de Aécio e Dilma assistiram um debate diferente do que eu, pq sinceramente não vi superioridade de nenhum dos dois.', content_clean='Acho que o pessoal de Aécio e Dilma assistiram um debate diferente do que eu pq sinceramente não vi superioridade de nenhum dos dois', words=['acho', 'que', 'o', 'pessoal', 'de', 'aécio', 'e', 'dilma', 'assistiram', 'um', 'debate', 'diferente', 'do', 'que', 'eu', 'pq', 'sinceramente', 'não', 'vi', 'superioridade', 'de', 'nenhum', 'dos', 'dois'])]"
     },
     "metadata": {},
     "output_type": "display_data"
    }
   ],
   "source": [
    "tokenizer = Tokenizer(inputCol=\"content_clean\", outputCol=\"words\")\n",
    "df_dilma = tokenizer.transform(df_dilma)\n",
    "\n",
    "display(df_dilma.head(20))"
   ],
   "metadata": {
    "collapsed": false,
    "ExecuteTime": {
     "end_time": "2024-06-01T01:18:21.104714200Z",
     "start_time": "2024-06-01T01:18:19.526939300Z"
    }
   },
   "id": "3d154a35a77cd1df"
  },
  {
   "cell_type": "code",
   "execution_count": 32,
   "outputs": [],
   "source": [
    "def remove_empty_tokens(tokens):\n",
    "    return [token for token in tokens if len(token) >= 3]"
   ],
   "metadata": {
    "collapsed": false,
    "ExecuteTime": {
     "end_time": "2024-06-01T01:18:21.148506300Z",
     "start_time": "2024-06-01T01:18:21.108739900Z"
    }
   },
   "id": "e720aacfa1d3f960"
  },
  {
   "cell_type": "code",
   "execution_count": 33,
   "outputs": [
    {
     "data": {
      "text/plain": "[Row(id='522394534773538816', content='\"\"\"@marinaecologia: Dilma não arruma nem os dentes, imagina o país.\"\"\"', content_clean='marinaecologia Dilma não arruma nem os dentes imagina o país', words=['marinaecologia', 'dilma', 'não', 'arruma', 'nem', 'os', 'dentes', 'imagina', 'o', 'país'], filtered=['marinaecologia', 'dilma', 'arruma', 'dentes', 'imagina', 'país']),\n Row(id='522394590671020032', content='Pensando seriamente em chamar o manicômio pra quem quer votar na Dilma', content_clean='Pensando seriamente em chamar o manicômio pra quem quer votar na Dilma', words=['pensando', 'seriamente', 'em', 'chamar', 'o', 'manicômio', 'pra', 'quem', 'quer', 'votar', 'na', 'dilma'], filtered=['pensando', 'seriamente', 'chamar', 'manicômio', 'pra', 'quer', 'votar', 'dilma']),\n Row(id='522394744463577088', content='O gigante acordou tanto que vão votar na Dilma de novo 😂😂😂', content_clean='O gigante acordou tanto que vão votar na Dilma de novo ', words=['o', 'gigante', 'acordou', 'tanto', 'que', 'vão', 'votar', 'na', 'dilma', 'de', 'novo'], filtered=['gigante', 'acordou', 'tanto', 'vão', 'votar', 'dilma', 'novo']),\n Row(id='522394798914015233', content='@KennedyAncar @Drimone @jornaldaREALMENTE DILMA CAGUEJOU,ESTAVA NERVOSA,SEM PREPARO,MUITO REPETITIVA VOLTA MUITO NO PASSADO,AÉCIO FOI MELHOR', content_clean='KennedyAncar Drimone jornaldaREALMENTE DILMA CAGUEJOUESTAVA NERVOSASEM PREPAROMUITO REPETITIVA VOLTA MUITO NO PASSADOAÉCIO FOI MELHOR', words=['kennedyancar', 'drimone', 'jornaldarealmente', 'dilma', 'caguejouestava', 'nervosasem', 'preparomuito', 'repetitiva', 'volta', 'muito', 'no', 'passadoaécio', 'foi', 'melhor'], filtered=['kennedyancar', 'drimone', 'jornaldarealmente', 'dilma', 'caguejouestava', 'nervosasem', 'preparomuito', 'repetitiva', 'volta', 'passadoaécio', 'melhor']),\n Row(id='522394887472562176', content='Quem vota na Dilma merece apanhar por que pqp hein', content_clean='Quem vota na Dilma merece apanhar por que pqp hein', words=['quem', 'vota', 'na', 'dilma', 'merece', 'apanhar', 'por', 'que', 'pqp', 'hein'], filtered=['vota', 'dilma', 'merece', 'apanhar', 'pqp', 'hein']),\n Row(id='522395038056058880', content='OLHA DILMA MINHA FILHA ENTENDA FILHINHA VOCÊ JÁ ERA NÃO RESISTE TOMA MEU LENÇO: #45Confirma ! !!! !!! !!!', content_clean='OLHA DILMA MINHA FILHA ENTENDA FILHINHA VOCÊ JÁ ERA NÃO RESISTE TOMA MEU LENÇO 45Confirma    ', words=['olha', 'dilma', 'minha', 'filha', 'entenda', 'filhinha', 'você', 'já', 'era', 'não', 'resiste', 'toma', 'meu', 'lenço', '45confirma'], filtered=['olha', 'dilma', 'filha', 'entenda', 'filhinha', 'resiste', 'toma', 'lenço', '45confirma']),\n Row(id='522395096290185216', content='@BLOGdoPEPE mas Noblat reconhece superioridade de Dilma.', content_clean='BLOGdoPEPE mas Noblat reconhece superioridade de Dilma', words=['blogdopepe', 'mas', 'noblat', 'reconhece', 'superioridade', 'de', 'dilma'], filtered=['blogdopepe', 'noblat', 'reconhece', 'superioridade', 'dilma']),\n Row(id='522395241828323328', content='\"Dilma, viado, continua que tá bonito! \"\"Não, não me abandone. Não me desespere, porque eu não posso ficar sem você ♪\"\"\"', content_clean='Dilma viado continua que tá bonito Não não me abandone Não me desespere porque eu não posso ficar sem você ', words=['dilma', 'viado', 'continua', 'que', 'tá', 'bonito', 'não', 'não', 'me', 'abandone', 'não', 'me', 'desespere', 'porque', 'eu', 'não', 'posso', 'ficar', 'sem', 'você'], filtered=['dilma', 'viado', 'continua', 'bonito', 'abandone', 'desespere', 'porque', 'posso', 'ficar']),\n Row(id='522395257003311104', content='\"\"\"@MirandaSa_: KKKKK RT @CellyMattosI: http://t.co/pbrHKaHYq0\"\" kkkkkk...olha ai Dilma\"', content_clean='MirandaSa_ KKKKK RT CellyMattosI httptcopbrHKaHYq0 kkkkkkolha ai Dilma', words=['mirandasa_', 'kkkkk', 'rt', 'cellymattosi', 'httptcopbrhkahyq0', 'kkkkkkolha', 'ai', 'dilma'], filtered=['mirandasa_', 'kkkkk', 'cellymattosi', 'httptcopbrhkahyq0', 'kkkkkkolha', 'dilma']),\n Row(id='522395279061155840', content='Aprendi com a Dilma que 13-4=7', content_clean='Aprendi com a Dilma que 1347', words=['aprendi', 'com', 'a', 'dilma', 'que', '1347'], filtered=['aprendi', 'dilma', '1347']),\n Row(id='522395368555020290', content='Dilma funciona com internet discada.', content_clean='Dilma funciona com internet discada', words=['dilma', 'funciona', 'com', 'internet', 'discada'], filtered=['dilma', 'funciona', 'internet', 'discada']),\n Row(id='522395379372158976', content='\"\"\"@emirsader: \"\"Meu voto é a favor do Brasil, meu voto é Dilma\"\", diz Emicida http://t.co/k54fv7RIcW\"\"@emicida #orgulhodevocêgaroto\"', content_clean='emirsader Meu voto é a favor do Brasil meu voto é Dilma diz Emicida httptcok54fv7RIcWemicida orgulhodevocêgaroto', words=['emirsader', 'meu', 'voto', 'é', 'a', 'favor', 'do', 'brasil', 'meu', 'voto', 'é', 'dilma', 'diz', 'emicida', 'httptcok54fv7ricwemicida', 'orgulhodevocêgaroto'], filtered=['emirsader', 'voto', 'favor', 'brasil', 'voto', 'dilma', 'diz', 'emicida', 'httptcok54fv7ricwemicida', 'orgulhodevocêgaroto']),\n Row(id='522395729323896832', content='Lembrar dos 13,00 reais, lembrem Dilma 13, 13,00 reais', content_clean='Lembrar dos 1300 reais lembrem Dilma 13 1300 reais', words=['lembrar', 'dos', '1300', 'reais', 'lembrem', 'dilma', '13', '1300', 'reais'], filtered=['lembrar', '1300', 'reais', 'lembrem', 'dilma', '1300', 'reais']),\n Row(id='522395742145904641', content='@LordePagao pedimos alegando que não iam mandar mais porque a Dilma não ganhou aqui no Sul.', content_clean='LordePagao pedimos alegando que não iam mandar mais porque a Dilma não ganhou aqui no Sul', words=['lordepagao', 'pedimos', 'alegando', 'que', 'não', 'iam', 'mandar', 'mais', 'porque', 'a', 'dilma', 'não', 'ganhou', 'aqui', 'no', 'sul'], filtered=['lordepagao', 'pedimos', 'alegando', 'iam', 'mandar', 'porque', 'dilma', 'ganhou', 'aqui', 'sul']),\n Row(id='522395969577832448', content='Só eu acho qe o Aécio sambou na cara da Dilma ontem ? #DebateDaBand', content_clean='Só eu acho qe o Aécio sambou na cara da Dilma ontem  DebateDaBand', words=['só', 'eu', 'acho', 'qe', 'o', 'aécio', 'sambou', 'na', 'cara', 'da', 'dilma', 'ontem', '', 'debatedaband'], filtered=['acho', 'aécio', 'sambou', 'cara', 'dilma', 'ontem', 'debatedaband']),\n Row(id='522396000724746240', content='@paulaingridd querem reeleger a Dilma, po. :( por isso digo, não duvido que em 2016 queiram reeleger o bonitinho tb', content_clean='paulaingridd querem reeleger a Dilma po  por isso digo não duvido que em 2016 queiram reeleger o bonitinho tb', words=['paulaingridd', 'querem', 'reeleger', 'a', 'dilma', 'po', '', 'por', 'isso', 'digo', 'não', 'duvido', 'que', 'em', '2016', 'queiram', 'reeleger', 'o', 'bonitinho', 'tb'], filtered=['paulaingridd', 'querem', 'reeleger', 'dilma', 'digo', 'duvido', '2016', 'queiram', 'reeleger', 'bonitinho']),\n Row(id='522396040490917889', content='e falam q nao vao votar na dilma pq querem mudança com tanta ctz q ate parece q o aecio vai melhorar mta coisa', content_clean='e falam q nao vao votar na dilma pq querem mudança com tanta ctz q ate parece q o aecio vai melhorar mta coisa', words=['e', 'falam', 'q', 'nao', 'vao', 'votar', 'na', 'dilma', 'pq', 'querem', 'mudança', 'com', 'tanta', 'ctz', 'q', 'ate', 'parece', 'q', 'o', 'aecio', 'vai', 'melhorar', 'mta', 'coisa'], filtered=['falam', 'nao', 'vao', 'votar', 'dilma', 'querem', 'mudança', 'tanta', 'ctz', 'ate', 'parece', 'aecio', 'vai', 'melhorar', 'mta', 'coisa']),\n Row(id='522396138939641856', content='#AecioPelaMudanca #dilmaleviana, políticos não são grandes coisas, mas se Dilma ganhar , desilusão total', content_clean='AecioPelaMudanca dilmaleviana políticos não são grandes coisas mas se Dilma ganhar  desilusão total', words=['aeciopelamudanca', 'dilmaleviana', 'políticos', 'não', 'são', 'grandes', 'coisas', 'mas', 'se', 'dilma', 'ganhar', '', 'desilusão', 'total'], filtered=['aeciopelamudanca', 'dilmaleviana', 'políticos', 'grandes', 'coisas', 'dilma', 'ganhar', 'desilusão', 'total']),\n Row(id='522396298423844864', content='Bora pensar Dilma.. http://t.co/qFVIjHdUqz', content_clean='Bora pensar Dilma httptcoqFVIjHdUqz', words=['bora', 'pensar', 'dilma', 'httptcoqfvijhduqz'], filtered=['bora', 'pensar', 'dilma', 'httptcoqfvijhduqz']),\n Row(id='522396429353246720', content='Acho que o pessoal de Aécio e Dilma assistiram um debate diferente do que eu, pq sinceramente não vi superioridade de nenhum dos dois.', content_clean='Acho que o pessoal de Aécio e Dilma assistiram um debate diferente do que eu pq sinceramente não vi superioridade de nenhum dos dois', words=['acho', 'que', 'o', 'pessoal', 'de', 'aécio', 'e', 'dilma', 'assistiram', 'um', 'debate', 'diferente', 'do', 'que', 'eu', 'pq', 'sinceramente', 'não', 'vi', 'superioridade', 'de', 'nenhum', 'dos', 'dois'], filtered=['acho', 'pessoal', 'aécio', 'dilma', 'assistiram', 'debate', 'diferente', 'sinceramente', 'superioridade', 'nenhum', 'dois'])]"
     },
     "metadata": {},
     "output_type": "display_data"
    }
   ],
   "source": [
    "stopwordList = nltk.corpus.stopwords.words('portuguese')\n",
    "\n",
    "remover = StopWordsRemover(inputCol=\"words\", outputCol=\"filtered\", stopWords = stopwordList)\n",
    "df_dilma = remover.transform(df_dilma)\n",
    "\n",
    "remove_empty_tokens_udf = udf(remove_empty_tokens, ArrayType(StringType()))\n",
    "\n",
    "df_dilma = df_dilma.withColumn(\"filtered\", remove_empty_tokens_udf(col(\"filtered\")))\n",
    "\n",
    "display(df_dilma.head(20))"
   ],
   "metadata": {
    "collapsed": false,
    "ExecuteTime": {
     "end_time": "2024-06-01T01:18:23.599508700Z",
     "start_time": "2024-06-01T01:18:21.123889900Z"
    }
   },
   "id": "44ae158914597b67"
  },
  {
   "cell_type": "code",
   "execution_count": 34,
   "outputs": [],
   "source": [
    "from functools import reduce\n",
    "\n",
    "def generate_ngrams(wordsData, ngram_range):\n",
    "    ngrams_data = []\n",
    "    for n in range(ngram_range[0], ngram_range[1] + 1):\n",
    "        ngram = NGram(n=n, inputCol=\"filtered\", outputCol=\"ngram\")\n",
    "        ngram_data = ngram.transform(wordsData)\n",
    "        ngrams_data.append(ngram_data)\n",
    "    return reduce(lambda df1, df2: df1.union(df2), ngrams_data)"
   ],
   "metadata": {
    "collapsed": false,
    "ExecuteTime": {
     "end_time": "2024-06-01T01:18:23.642595800Z",
     "start_time": "2024-06-01T01:18:23.602511200Z"
    }
   },
   "id": "54f1c189a973fa67"
  },
  {
   "cell_type": "code",
   "execution_count": 35,
   "outputs": [
    {
     "name": "stdout",
     "output_type": "stream",
     "text": [
      "+------------------+--------------------+--------------------+--------------------+--------------------+--------------------+\n",
      "|                id|             content|       content_clean|               words|            filtered|               ngram|\n",
      "+------------------+--------------------+--------------------+--------------------+--------------------+--------------------+\n",
      "|522394534773538816|\"\"\"@marinaecologi...|marinaecologia Di...|[marinaecologia, ...|[marinaecologia, ...|[marinaecologia d...|\n",
      "|522394590671020032|Pensando seriamen...|Pensando seriamen...|[pensando, seriam...|[pensando, seriam...|[pensando seriame...|\n",
      "|522394744463577088|O gigante acordou...|O gigante acordou...|[o, gigante, acor...|[gigante, acordou...|[gigante acordou,...|\n",
      "|522394798914015233|@KennedyAncar @Dr...|KennedyAncar Drim...|[kennedyancar, dr...|[kennedyancar, dr...|[kennedyancar dri...|\n",
      "|522394887472562176|Quem vota na Dilm...|Quem vota na Dilm...|[quem, vota, na, ...|[vota, dilma, mer...|[vota dilma, dilm...|\n",
      "|522395038056058880|OLHA DILMA MINHA ...|OLHA DILMA MINHA ...|[olha, dilma, min...|[olha, dilma, fil...|[olha dilma, dilm...|\n",
      "|522395096290185216|@BLOGdoPEPE mas N...|BLOGdoPEPE mas No...|[blogdopepe, mas,...|[blogdopepe, nobl...|[blogdopepe nobla...|\n",
      "|522395241828323328|\"Dilma, viado, co...|Dilma viado conti...|[dilma, viado, co...|[dilma, viado, co...|[dilma viado, via...|\n",
      "|522395257003311104|\"\"\"@MirandaSa_: K...|MirandaSa_ KKKKK ...|[mirandasa_, kkkk...|[mirandasa_, kkkk...|[mirandasa_ kkkkk...|\n",
      "|522395279061155840|Aprendi com a Dil...|Aprendi com a Dil...|[aprendi, com, a,...|[aprendi, dilma, ...|[aprendi dilma, d...|\n",
      "|522395368555020290|Dilma funciona co...|Dilma funciona co...|[dilma, funciona,...|[dilma, funciona,...|[dilma funciona, ...|\n",
      "|522395379372158976|\"\"\"@emirsader: \"\"...|emirsader Meu vot...|[emirsader, meu, ...|[emirsader, voto,...|[emirsader voto, ...|\n",
      "|522395729323896832|Lembrar dos 13,00...|Lembrar dos 1300 ...|[lembrar, dos, 13...|[lembrar, 1300, r...|[lembrar 1300, 13...|\n",
      "|522395742145904641|@LordePagao pedim...|LordePagao pedimo...|[lordepagao, pedi...|[lordepagao, pedi...|[lordepagao pedim...|\n",
      "|522395969577832448|Só eu acho qe o A...|Só eu acho qe o A...|[só, eu, acho, qe...|[acho, aécio, sam...|[acho aécio, aéci...|\n",
      "|522396000724746240|@paulaingridd que...|paulaingridd quer...|[paulaingridd, qu...|[paulaingridd, qu...|[paulaingridd que...|\n",
      "|522396040490917889|e falam q nao vao...|e falam q nao vao...|[e, falam, q, nao...|[falam, nao, vao,...|[falam nao, nao v...|\n",
      "|522396138939641856|#AecioPelaMudanca...|AecioPelaMudanca ...|[aeciopelamudanca...|[aeciopelamudanca...|[aeciopelamudanca...|\n",
      "|522396298423844864|Bora pensar Dilma...|Bora pensar Dilma...|[bora, pensar, di...|[bora, pensar, di...|[bora pensar, pen...|\n",
      "|522396429353246720|Acho que o pessoa...|Acho que o pessoa...|[acho, que, o, pe...|[acho, pessoal, a...|[acho pessoal, pe...|\n",
      "+------------------+--------------------+--------------------+--------------------+--------------------+--------------------+\n"
     ]
    }
   ],
   "source": [
    "ngram_range = (2, 5)\n",
    "df_dilma = generate_ngrams(df_dilma, ngram_range)\n",
    "\n",
    "df_dilma.show() # OK"
   ],
   "metadata": {
    "collapsed": false,
    "ExecuteTime": {
     "end_time": "2024-06-01T01:18:26.136667200Z",
     "start_time": "2024-06-01T01:18:23.615542100Z"
    }
   },
   "id": "b4fe81e74fac7204"
  },
  {
   "cell_type": "code",
   "execution_count": 37,
   "outputs": [],
   "source": [
    "ngrams = df_dilma.select(\"ngram\")\n",
    "ngrams = ngrams.withColumn(\"sentences\", explode(\"ngram\")).select(\"sentences\")\n",
    "top_results = ngrams.groupBy(\"sentences\").count().limit(100).orderBy(col(\"count\").desc())"
   ],
   "metadata": {
    "collapsed": false,
    "ExecuteTime": {
     "end_time": "2024-06-01T01:18:41.840463700Z",
     "start_time": "2024-06-01T01:18:41.775974400Z"
    }
   },
   "id": "af747e1b7187941a"
  },
  {
   "cell_type": "code",
   "execution_count": null,
   "outputs": [],
   "source": [
    "#important_sentences_df.show()"
   ],
   "metadata": {
    "collapsed": false,
    "ExecuteTime": {
     "start_time": "2024-06-01T01:18:27.434178700Z"
    }
   },
   "id": "adfdd1f62a13a7b6"
  },
  {
   "cell_type": "code",
   "execution_count": 38,
   "outputs": [],
   "source": [
    "dataframe_pd = top_results.toPandas()\n",
    "\n",
    "dataframe_pd.to_csv('./outcome/Q1/result_sentences_dilma.csv', index=False)"
   ],
   "metadata": {
    "collapsed": false,
    "ExecuteTime": {
     "end_time": "2024-06-01T01:22:56.355081500Z",
     "start_time": "2024-06-01T01:18:43.913251100Z"
    }
   },
   "id": "b53a51ebc93af1ea"
  },
  {
   "cell_type": "code",
   "execution_count": 39,
   "outputs": [],
   "source": [
    "spark.stop()"
   ],
   "metadata": {
    "collapsed": false,
    "ExecuteTime": {
     "end_time": "2024-06-01T01:22:57.350880Z",
     "start_time": "2024-06-01T01:22:56.358080Z"
    }
   },
   "id": "cf01217bab011ee2"
  },
  {
   "cell_type": "code",
   "execution_count": null,
   "outputs": [],
   "source": [
    "# REDUZIR NUMERO DE FEATURES\n",
    "# CHECAR MOSTRAR O RESUTLADO SEM TER A FINAL_FEATURES E PRONTO"
   ],
   "metadata": {
    "collapsed": false,
    "ExecuteTime": {
     "start_time": "2024-06-01T01:18:27.440267400Z"
    }
   },
   "id": "83554208c50f571c"
  },
  {
   "cell_type": "code",
   "execution_count": null,
   "outputs": [],
   "source": [
    "# VOU AGORA PEGAR EXPLODIR NGRAM E FAZER AS MAIS FREQUENTES\n",
    "# MELHORAR ESSE COUNT PARA ESSE NÃO SER TÃO SIMPLES E TENTAR FAZER ALGO COMO SOMA DAS SEMELHANÇAS"
   ],
   "metadata": {
    "collapsed": false,
    "ExecuteTime": {
     "end_time": "2024-06-01T01:18:27.442188100Z",
     "start_time": "2024-06-01T01:18:27.442188100Z"
    }
   },
   "id": "3164ab0af091c8bc"
  }
 ],
 "metadata": {
  "kernelspec": {
   "display_name": "Python 3",
   "language": "python",
   "name": "python3"
  },
  "language_info": {
   "codemirror_mode": {
    "name": "ipython",
    "version": 2
   },
   "file_extension": ".py",
   "mimetype": "text/x-python",
   "name": "python",
   "nbconvert_exporter": "python",
   "pygments_lexer": "ipython2",
   "version": "2.7.6"
  }
 },
 "nbformat": 4,
 "nbformat_minor": 5
}
