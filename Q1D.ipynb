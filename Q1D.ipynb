{
 "cells": [
  {
   "cell_type": "code",
   "execution_count": 47,
   "id": "initial_id",
   "metadata": {
    "collapsed": true,
    "ExecuteTime": {
     "end_time": "2024-05-30T20:44:39.717820200Z",
     "start_time": "2024-05-30T20:44:39.503049700Z"
    }
   },
   "outputs": [],
   "source": [
    "from pyspark.sql import SparkSession\n",
    "from pyspark.sql.functions import col, udf, size, explode, array, expr, split\n",
    "from pyspark.sql.types import BooleanType, IntegerType, ArrayType, StringType, DoubleType\n",
    "from pyspark.ml.feature import Tokenizer, StopWordsRemover, CountVectorizer, HashingTF, IDF, NGram\n",
    "from pyspark.ml.linalg import Vectors, VectorUDT\n",
    "\n",
    "import re\n",
    "import nltk"
   ]
  },
  {
   "cell_type": "code",
   "execution_count": 48,
   "outputs": [],
   "source": [
    "spark = SparkSession.builder \\\n",
    "    .appName(\"SPARK TRAB - QUESTION 1 D\") \\\n",
    "    .getOrCreate()"
   ],
   "metadata": {
    "collapsed": false,
    "ExecuteTime": {
     "end_time": "2024-05-30T20:44:39.718820700Z",
     "start_time": "2024-05-30T20:44:39.523051700Z"
    }
   },
   "id": "8ea4c4cb498ce60e"
  },
  {
   "cell_type": "code",
   "execution_count": 49,
   "outputs": [],
   "source": [
    "df_orig = spark.read.option(\"header\", \"false\").option(\"delimiter\", \"\\t\").csv(\"./data/debate-tweets.tsv\")"
   ],
   "metadata": {
    "collapsed": false,
    "ExecuteTime": {
     "end_time": "2024-05-30T20:44:39.749827100Z",
     "start_time": "2024-05-30T20:44:39.541057700Z"
    }
   },
   "id": "f761b8d6538f3d75"
  },
  {
   "cell_type": "markdown",
   "source": [
    "## Objetivo"
   ],
   "metadata": {
    "collapsed": false
   },
   "id": "23ec9becce8c5245"
  },
  {
   "cell_type": "code",
   "execution_count": 50,
   "outputs": [
    {
     "name": "stdout",
     "output_type": "stream",
     "text": [
      "+------------------+--------------------+\n",
      "|                id|             content|\n",
      "+------------------+--------------------+\n",
      "|522394422710136832|@anacddd verdade,...|\n",
      "|522394422806581248|              Que ñ*|\n",
      "|522394422731100160| Vou quebrar a Bruna|\n",
      "|522394422810783745|agora vou p segun...|\n",
      "|522394423137943553|Me sinto tão bem ...|\n",
      "|522394423188271104|Eu estou aqui, de...|\n",
      "|522394423238606848|Quando vai embora...|\n",
      "|522394423528022016|@paynecaralhudo k...|\n",
      "|522394423632875521|Conceição da Barr...|\n",
      "|522394424010362881| @Maniavato te amo ♥|\n",
      "|522394424048091138|Alg me curtindo rs ♡|\n",
      "|522394424010358784|@MiiluAA No, porq...|\n",
      "|522394423741906944|#EMABiggestFansJu...|\n",
      "|522394424568213505|@raizabatista dev...|\n",
      "|522394424920506368|Me senti ate d fe...|\n",
      "|522394424811458560|qual o sentido de...|\n",
      "|522394425029574656|I'm at Lava Rápid...|\n",
      "|522394425121841153|Fica comentando m...|\n",
      "|522394425461579777|\"odeio que me man...|\n",
      "|522394425960701952|CAMAMTEBABILONFRA...|\n",
      "+------------------+--------------------+\n"
     ]
    }
   ],
   "source": [
    "df = df_orig.select(\"_c0\", \"_c1\")\n",
    "\n",
    "df = df.withColumnRenamed(\"_c0\", \"id\") \\\n",
    "                     .withColumnRenamed(\"_c1\", \"content\")\n",
    "\n",
    "df.show()"
   ],
   "metadata": {
    "collapsed": false,
    "ExecuteTime": {
     "end_time": "2024-05-30T20:44:39.786307Z",
     "start_time": "2024-05-30T20:44:39.707820800Z"
    }
   },
   "id": "cfb9b2b167461b39"
  },
  {
   "cell_type": "code",
   "execution_count": 51,
   "outputs": [],
   "source": [
    "def extract_dilma(text):\n",
    "    if re.search(r'\\bDilma\\b', text, re.IGNORECASE):\n",
    "        return True\n",
    "    else:\n",
    "        return False\n",
    "    \n",
    "def remove_punctuation(text):\n",
    "    return re.sub(r'[^\\w\\s]', '', text)"
   ],
   "metadata": {
    "collapsed": false,
    "ExecuteTime": {
     "end_time": "2024-05-30T20:44:39.799300600Z",
     "start_time": "2024-05-30T20:44:39.788302Z"
    }
   },
   "id": "d9af9f2c6f1843f5"
  },
  {
   "cell_type": "code",
   "execution_count": 52,
   "outputs": [
    {
     "name": "stdout",
     "output_type": "stream",
     "text": [
      "+------------------+--------------------+\n",
      "|                id|             content|\n",
      "+------------------+--------------------+\n",
      "|522394534773538816|\"\"\"@marinaecologi...|\n",
      "|522394590671020032|Pensando seriamen...|\n",
      "|522394744463577088|O gigante acordou...|\n",
      "|522394798914015233|@KennedyAncar @Dr...|\n",
      "|522394887472562176|Quem vota na Dilm...|\n",
      "|522395038056058880|OLHA DILMA MINHA ...|\n",
      "|522395096290185216|@BLOGdoPEPE mas N...|\n",
      "|522395241828323328|\"Dilma, viado, co...|\n",
      "|522395257003311104|\"\"\"@MirandaSa_: K...|\n",
      "|522395279061155840|Aprendi com a Dil...|\n",
      "|522395368555020290|Dilma funciona co...|\n",
      "|522395379372158976|\"\"\"@emirsader: \"\"...|\n",
      "|522395729323896832|Lembrar dos 13,00...|\n",
      "|522395742145904641|@LordePagao pedim...|\n",
      "|522395969577832448|Só eu acho qe o A...|\n",
      "|522396000724746240|@paulaingridd que...|\n",
      "|522396040490917889|e falam q nao vao...|\n",
      "|522396138939641856|#AecioPelaMudanca...|\n",
      "|522396298423844864|Bora pensar Dilma...|\n",
      "|522396429353246720|Acho que o pessoa...|\n",
      "+------------------+--------------------+\n"
     ]
    }
   ],
   "source": [
    "extract_dilma_udf = udf(extract_dilma, BooleanType())\n",
    "\n",
    "df = df.withColumn(\"hasDilma\", extract_dilma_udf(df[\"content\"]))\n",
    "\n",
    "df_dilma = df.filter(col(\"hasDilma\")).select(\"id\", \"content\")\n",
    "\n",
    "df_dilma.show()"
   ],
   "metadata": {
    "collapsed": false,
    "ExecuteTime": {
     "end_time": "2024-05-30T20:44:41.237563800Z",
     "start_time": "2024-05-30T20:44:39.801299600Z"
    }
   },
   "id": "f70c65724ff5dbe0"
  },
  {
   "cell_type": "code",
   "execution_count": 53,
   "outputs": [
    {
     "name": "stdout",
     "output_type": "stream",
     "text": [
      "+------------------+--------------------+--------------------+\n",
      "|                id|             content|       content_clean|\n",
      "+------------------+--------------------+--------------------+\n",
      "|522394534773538816|\"\"\"@marinaecologi...|marinaecologia Di...|\n",
      "|522394590671020032|Pensando seriamen...|Pensando seriamen...|\n",
      "|522394744463577088|O gigante acordou...|O gigante acordou...|\n",
      "|522394798914015233|@KennedyAncar @Dr...|KennedyAncar Drim...|\n",
      "|522394887472562176|Quem vota na Dilm...|Quem vota na Dilm...|\n",
      "|522395038056058880|OLHA DILMA MINHA ...|OLHA DILMA MINHA ...|\n",
      "|522395096290185216|@BLOGdoPEPE mas N...|BLOGdoPEPE mas No...|\n",
      "|522395241828323328|\"Dilma, viado, co...|Dilma viado conti...|\n",
      "|522395257003311104|\"\"\"@MirandaSa_: K...|MirandaSa_ KKKKK ...|\n",
      "|522395279061155840|Aprendi com a Dil...|Aprendi com a Dil...|\n",
      "|522395368555020290|Dilma funciona co...|Dilma funciona co...|\n",
      "|522395379372158976|\"\"\"@emirsader: \"\"...|emirsader Meu vot...|\n",
      "|522395729323896832|Lembrar dos 13,00...|Lembrar dos 1300 ...|\n",
      "|522395742145904641|@LordePagao pedim...|LordePagao pedimo...|\n",
      "|522395969577832448|Só eu acho qe o A...|Só eu acho qe o A...|\n",
      "|522396000724746240|@paulaingridd que...|paulaingridd quer...|\n",
      "|522396040490917889|e falam q nao vao...|e falam q nao vao...|\n",
      "|522396138939641856|#AecioPelaMudanca...|AecioPelaMudanca ...|\n",
      "|522396298423844864|Bora pensar Dilma...|Bora pensar Dilma...|\n",
      "|522396429353246720|Acho que o pessoa...|Acho que o pessoa...|\n",
      "+------------------+--------------------+--------------------+\n"
     ]
    }
   ],
   "source": [
    "remove_punctuation_udf = udf(remove_punctuation, StringType())\n",
    "\n",
    "df_dilma = df_dilma.withColumn(\"content_clean\", remove_punctuation_udf(col(\"content\")))\n",
    "\n",
    "df_dilma.show()"
   ],
   "metadata": {
    "collapsed": false,
    "ExecuteTime": {
     "end_time": "2024-05-30T20:44:42.967612700Z",
     "start_time": "2024-05-30T20:44:41.231557400Z"
    }
   },
   "id": "5a7949f4c988c426"
  },
  {
   "cell_type": "code",
   "execution_count": 54,
   "outputs": [
    {
     "name": "stdout",
     "output_type": "stream",
     "text": [
      "+------------------+--------------------+--------------------+--------------------+\n",
      "|                id|             content|       content_clean|               words|\n",
      "+------------------+--------------------+--------------------+--------------------+\n",
      "|522394534773538816|\"\"\"@marinaecologi...|marinaecologia Di...|[marinaecologia, ...|\n",
      "|522394590671020032|Pensando seriamen...|Pensando seriamen...|[pensando, seriam...|\n",
      "|522394744463577088|O gigante acordou...|O gigante acordou...|[o, gigante, acor...|\n",
      "|522394798914015233|@KennedyAncar @Dr...|KennedyAncar Drim...|[kennedyancar, dr...|\n",
      "|522394887472562176|Quem vota na Dilm...|Quem vota na Dilm...|[quem, vota, na, ...|\n",
      "|522395038056058880|OLHA DILMA MINHA ...|OLHA DILMA MINHA ...|[olha, dilma, min...|\n",
      "|522395096290185216|@BLOGdoPEPE mas N...|BLOGdoPEPE mas No...|[blogdopepe, mas,...|\n",
      "|522395241828323328|\"Dilma, viado, co...|Dilma viado conti...|[dilma, viado, co...|\n",
      "|522395257003311104|\"\"\"@MirandaSa_: K...|MirandaSa_ KKKKK ...|[mirandasa_, kkkk...|\n",
      "|522395279061155840|Aprendi com a Dil...|Aprendi com a Dil...|[aprendi, com, a,...|\n",
      "|522395368555020290|Dilma funciona co...|Dilma funciona co...|[dilma, funciona,...|\n",
      "|522395379372158976|\"\"\"@emirsader: \"\"...|emirsader Meu vot...|[emirsader, meu, ...|\n",
      "|522395729323896832|Lembrar dos 13,00...|Lembrar dos 1300 ...|[lembrar, dos, 13...|\n",
      "|522395742145904641|@LordePagao pedim...|LordePagao pedimo...|[lordepagao, pedi...|\n",
      "|522395969577832448|Só eu acho qe o A...|Só eu acho qe o A...|[só, eu, acho, qe...|\n",
      "|522396000724746240|@paulaingridd que...|paulaingridd quer...|[paulaingridd, qu...|\n",
      "|522396040490917889|e falam q nao vao...|e falam q nao vao...|[e, falam, q, nao...|\n",
      "|522396138939641856|#AecioPelaMudanca...|AecioPelaMudanca ...|[aeciopelamudanca...|\n",
      "|522396298423844864|Bora pensar Dilma...|Bora pensar Dilma...|[bora, pensar, di...|\n",
      "|522396429353246720|Acho que o pessoa...|Acho que o pessoa...|[acho, que, o, pe...|\n",
      "+------------------+--------------------+--------------------+--------------------+\n"
     ]
    }
   ],
   "source": [
    "tokenizer = Tokenizer(inputCol=\"content_clean\", outputCol=\"words\")\n",
    "df_tokens = tokenizer.transform(df_dilma)\n",
    "\n",
    "df_tokens.show()"
   ],
   "metadata": {
    "collapsed": false,
    "ExecuteTime": {
     "end_time": "2024-05-30T20:44:44.705086100Z",
     "start_time": "2024-05-30T20:44:42.970610300Z"
    }
   },
   "id": "3d154a35a77cd1df"
  },
  {
   "cell_type": "code",
   "execution_count": 55,
   "outputs": [],
   "source": [
    "def remove_empty_tokens(tokens):\n",
    "    return [token for token in tokens if token != '']"
   ],
   "metadata": {
    "collapsed": false,
    "ExecuteTime": {
     "end_time": "2024-05-30T20:44:44.732086900Z",
     "start_time": "2024-05-30T20:44:44.705086100Z"
    }
   },
   "id": "e720aacfa1d3f960"
  },
  {
   "cell_type": "code",
   "execution_count": 56,
   "outputs": [
    {
     "name": "stdout",
     "output_type": "stream",
     "text": [
      "+------------------+--------------------+--------------------+--------------------+--------------------+\n",
      "|                id|             content|       content_clean|               words|            filtered|\n",
      "+------------------+--------------------+--------------------+--------------------+--------------------+\n",
      "|522394534773538816|\"\"\"@marinaecologi...|marinaecologia Di...|[marinaecologia, ...|[marinaecologia, ...|\n",
      "|522394590671020032|Pensando seriamen...|Pensando seriamen...|[pensando, seriam...|[pensando, seriam...|\n",
      "|522394744463577088|O gigante acordou...|O gigante acordou...|[o, gigante, acor...|[gigante, acordou...|\n",
      "|522394798914015233|@KennedyAncar @Dr...|KennedyAncar Drim...|[kennedyancar, dr...|[kennedyancar, dr...|\n",
      "|522394887472562176|Quem vota na Dilm...|Quem vota na Dilm...|[quem, vota, na, ...|[vota, dilma, mer...|\n",
      "|522395038056058880|OLHA DILMA MINHA ...|OLHA DILMA MINHA ...|[olha, dilma, min...|[olha, dilma, fil...|\n",
      "|522395096290185216|@BLOGdoPEPE mas N...|BLOGdoPEPE mas No...|[blogdopepe, mas,...|[blogdopepe, nobl...|\n",
      "|522395241828323328|\"Dilma, viado, co...|Dilma viado conti...|[dilma, viado, co...|[dilma, viado, co...|\n",
      "|522395257003311104|\"\"\"@MirandaSa_: K...|MirandaSa_ KKKKK ...|[mirandasa_, kkkk...|[mirandasa_, kkkk...|\n",
      "|522395279061155840|Aprendi com a Dil...|Aprendi com a Dil...|[aprendi, com, a,...|[aprendi, dilma, ...|\n",
      "|522395368555020290|Dilma funciona co...|Dilma funciona co...|[dilma, funciona,...|[dilma, funciona,...|\n",
      "|522395379372158976|\"\"\"@emirsader: \"\"...|emirsader Meu vot...|[emirsader, meu, ...|[emirsader, voto,...|\n",
      "|522395729323896832|Lembrar dos 13,00...|Lembrar dos 1300 ...|[lembrar, dos, 13...|[lembrar, 1300, r...|\n",
      "|522395742145904641|@LordePagao pedim...|LordePagao pedimo...|[lordepagao, pedi...|[lordepagao, pedi...|\n",
      "|522395969577832448|Só eu acho qe o A...|Só eu acho qe o A...|[só, eu, acho, qe...|[acho, qe, aécio,...|\n",
      "|522396000724746240|@paulaingridd que...|paulaingridd quer...|[paulaingridd, qu...|[paulaingridd, qu...|\n",
      "|522396040490917889|e falam q nao vao...|e falam q nao vao...|[e, falam, q, nao...|[falam, q, nao, v...|\n",
      "|522396138939641856|#AecioPelaMudanca...|AecioPelaMudanca ...|[aeciopelamudanca...|[aeciopelamudanca...|\n",
      "|522396298423844864|Bora pensar Dilma...|Bora pensar Dilma...|[bora, pensar, di...|[bora, pensar, di...|\n",
      "|522396429353246720|Acho que o pessoa...|Acho que o pessoa...|[acho, que, o, pe...|[acho, pessoal, a...|\n",
      "+------------------+--------------------+--------------------+--------------------+--------------------+\n"
     ]
    }
   ],
   "source": [
    "stopwordList = nltk.corpus.stopwords.words('portuguese')\n",
    "\n",
    "remover = StopWordsRemover(inputCol=\"words\", outputCol=\"filtered\", stopWords = stopwordList)\n",
    "df_filtered_tokens = remover.transform(df_tokens)\n",
    "\n",
    "remove_empty_tokens_udf = udf(remove_empty_tokens, ArrayType(StringType()))\n",
    "\n",
    "df_filtered_tokens = df_filtered_tokens.withColumn(\"filtered\", \n",
    "                                               remove_empty_tokens_udf(col(\"filtered\")))\n",
    "\n",
    "df_filtered_tokens.show()"
   ],
   "metadata": {
    "collapsed": false,
    "ExecuteTime": {
     "end_time": "2024-05-30T20:44:47.506795500Z",
     "start_time": "2024-05-30T20:44:44.722094200Z"
    }
   },
   "id": "44ae158914597b67"
  },
  {
   "cell_type": "code",
   "execution_count": 57,
   "outputs": [],
   "source": [
    "from functools import reduce\n",
    "\n",
    "def generate_ngrams(wordsData, ngram_range):\n",
    "    ngrams_data = []\n",
    "    for n in range(ngram_range[0], ngram_range[1] + 1):\n",
    "        ngram = NGram(n=n, inputCol=\"filtered\", outputCol=\"ngram\")\n",
    "        ngram_data = ngram.transform(wordsData)\n",
    "        ngrams_data.append(ngram_data)\n",
    "    return reduce(lambda df1, df2: df1.union(df2), ngrams_data)"
   ],
   "metadata": {
    "collapsed": false,
    "ExecuteTime": {
     "end_time": "2024-05-30T20:44:47.534054400Z",
     "start_time": "2024-05-30T20:44:47.510883800Z"
    }
   },
   "id": "54f1c189a973fa67"
  },
  {
   "cell_type": "code",
   "execution_count": 58,
   "outputs": [
    {
     "name": "stdout",
     "output_type": "stream",
     "text": [
      "+------------------+--------------------+--------------------+--------------------+--------------------+--------------------+\n",
      "|                id|             content|       content_clean|               words|            filtered|               ngram|\n",
      "+------------------+--------------------+--------------------+--------------------+--------------------+--------------------+\n",
      "|522394534773538816|\"\"\"@marinaecologi...|marinaecologia Di...|[marinaecologia, ...|[marinaecologia, ...|[marinaecologia d...|\n",
      "|522394590671020032|Pensando seriamen...|Pensando seriamen...|[pensando, seriam...|[pensando, seriam...|[pensando seriame...|\n",
      "|522394744463577088|O gigante acordou...|O gigante acordou...|[o, gigante, acor...|[gigante, acordou...|[gigante acordou,...|\n",
      "|522394798914015233|@KennedyAncar @Dr...|KennedyAncar Drim...|[kennedyancar, dr...|[kennedyancar, dr...|[kennedyancar dri...|\n",
      "|522394887472562176|Quem vota na Dilm...|Quem vota na Dilm...|[quem, vota, na, ...|[vota, dilma, mer...|[vota dilma, dilm...|\n",
      "|522395038056058880|OLHA DILMA MINHA ...|OLHA DILMA MINHA ...|[olha, dilma, min...|[olha, dilma, fil...|[olha dilma, dilm...|\n",
      "|522395096290185216|@BLOGdoPEPE mas N...|BLOGdoPEPE mas No...|[blogdopepe, mas,...|[blogdopepe, nobl...|[blogdopepe nobla...|\n",
      "|522395241828323328|\"Dilma, viado, co...|Dilma viado conti...|[dilma, viado, co...|[dilma, viado, co...|[dilma viado, via...|\n",
      "|522395257003311104|\"\"\"@MirandaSa_: K...|MirandaSa_ KKKKK ...|[mirandasa_, kkkk...|[mirandasa_, kkkk...|[mirandasa_ kkkkk...|\n",
      "|522395279061155840|Aprendi com a Dil...|Aprendi com a Dil...|[aprendi, com, a,...|[aprendi, dilma, ...|[aprendi dilma, d...|\n",
      "|522395368555020290|Dilma funciona co...|Dilma funciona co...|[dilma, funciona,...|[dilma, funciona,...|[dilma funciona, ...|\n",
      "|522395379372158976|\"\"\"@emirsader: \"\"...|emirsader Meu vot...|[emirsader, meu, ...|[emirsader, voto,...|[emirsader voto, ...|\n",
      "|522395729323896832|Lembrar dos 13,00...|Lembrar dos 1300 ...|[lembrar, dos, 13...|[lembrar, 1300, r...|[lembrar 1300, 13...|\n",
      "|522395742145904641|@LordePagao pedim...|LordePagao pedimo...|[lordepagao, pedi...|[lordepagao, pedi...|[lordepagao pedim...|\n",
      "|522395969577832448|Só eu acho qe o A...|Só eu acho qe o A...|[só, eu, acho, qe...|[acho, qe, aécio,...|[acho qe, qe aéci...|\n",
      "|522396000724746240|@paulaingridd que...|paulaingridd quer...|[paulaingridd, qu...|[paulaingridd, qu...|[paulaingridd que...|\n",
      "|522396040490917889|e falam q nao vao...|e falam q nao vao...|[e, falam, q, nao...|[falam, q, nao, v...|[falam q, q nao, ...|\n",
      "|522396138939641856|#AecioPelaMudanca...|AecioPelaMudanca ...|[aeciopelamudanca...|[aeciopelamudanca...|[aeciopelamudanca...|\n",
      "|522396298423844864|Bora pensar Dilma...|Bora pensar Dilma...|[bora, pensar, di...|[bora, pensar, di...|[bora pensar, pen...|\n",
      "|522396429353246720|Acho que o pessoa...|Acho que o pessoa...|[acho, que, o, pe...|[acho, pessoal, a...|[acho pessoal, pe...|\n",
      "+------------------+--------------------+--------------------+--------------------+--------------------+--------------------+\n"
     ]
    }
   ],
   "source": [
    "ngram_range = (2, 5)\n",
    "ngramsData = generate_ngrams(df_filtered_tokens, ngram_range)\n",
    "\n",
    "ngramsData.show() # OK"
   ],
   "metadata": {
    "collapsed": false,
    "ExecuteTime": {
     "end_time": "2024-05-30T20:44:50.416728400Z",
     "start_time": "2024-05-30T20:44:47.523961500Z"
    }
   },
   "id": "b4fe81e74fac7204"
  },
  {
   "cell_type": "code",
   "execution_count": 59,
   "outputs": [],
   "source": [
    "#vectorizer = CountVectorizer(inputCol=\"ngram\", outputCol=\"features\")\n",
    "#vectorizer_model = vectorizer.fit(ngramsData)\n",
    "\n",
    "#df_features = vectorizer_model.transform(ngramsData)"
   ],
   "metadata": {
    "collapsed": false,
    "ExecuteTime": {
     "end_time": "2024-05-30T20:44:50.475185700Z",
     "start_time": "2024-05-30T20:44:50.418726500Z"
    }
   },
   "id": "653240b9acce211"
  },
  {
   "cell_type": "code",
   "execution_count": 60,
   "outputs": [],
   "source": [
    "hashingTF = HashingTF(inputCol=\"ngram\", outputCol=\"features\") \n",
    "# aparentemente isso aplica um countvec\n",
    "df_features = hashingTF.transform(ngramsData)"
   ],
   "metadata": {
    "collapsed": false,
    "ExecuteTime": {
     "end_time": "2024-05-30T20:44:50.537184600Z",
     "start_time": "2024-05-30T20:44:50.435728800Z"
    }
   },
   "id": "cbe509a0ccad924c"
  },
  {
   "cell_type": "code",
   "execution_count": 61,
   "outputs": [],
   "source": [
    "# Aplicar IDF para calcular TF-IDF\n",
    "idf = IDF(inputCol=\"features\", outputCol=\"final_features\")\n",
    "idfModel = idf.fit(df_features)\n",
    "df_tfidf = idfModel.transform(df_features).select(\"id\", \"content\", \"filtered\",\"final_features\")"
   ],
   "metadata": {
    "collapsed": false,
    "ExecuteTime": {
     "end_time": "2024-05-30T20:47:48.437026600Z",
     "start_time": "2024-05-30T20:44:50.500187900Z"
    }
   },
   "id": "b21fdabe1883b5"
  },
  {
   "cell_type": "code",
   "execution_count": 62,
   "outputs": [
    {
     "name": "stdout",
     "output_type": "stream",
     "text": [
      "+------------------+--------------------+--------------------+--------------------+\n",
      "|                id|             content|            filtered|      final_features|\n",
      "+------------------+--------------------+--------------------+--------------------+\n",
      "|522394534773538816|\"\"\"@marinaecologi...|[marinaecologia, ...|(262144,[26022,78...|\n",
      "|522394590671020032|Pensando seriamen...|[pensando, seriam...|(262144,[18146,36...|\n",
      "|522394744463577088|O gigante acordou...|[gigante, acordou...|(262144,[4798,277...|\n",
      "|522394798914015233|@KennedyAncar @Dr...|[kennedyancar, dr...|(262144,[20797,29...|\n",
      "|522394887472562176|Quem vota na Dilm...|[vota, dilma, mer...|(262144,[32823,66...|\n",
      "|522395038056058880|OLHA DILMA MINHA ...|[olha, dilma, fil...|(262144,[60393,86...|\n",
      "|522395096290185216|@BLOGdoPEPE mas N...|[blogdopepe, nobl...|(262144,[110696,1...|\n",
      "|522395241828323328|\"Dilma, viado, co...|[dilma, viado, co...|(262144,[60874,73...|\n",
      "|522395257003311104|\"\"\"@MirandaSa_: K...|[mirandasa_, kkkk...|(262144,[7635,128...|\n",
      "|522395279061155840|Aprendi com a Dil...|[aprendi, dilma, ...|(262144,[31165,20...|\n",
      "|522395368555020290|Dilma funciona co...|[dilma, funciona,...|(262144,[15577,53...|\n",
      "|522395379372158976|\"\"\"@emirsader: \"\"...|[emirsader, voto,...|(262144,[33776,42...|\n",
      "|522395729323896832|Lembrar dos 13,00...|[lembrar, 1300, r...|(262144,[39193,54...|\n",
      "|522395742145904641|@LordePagao pedim...|[lordepagao, pedi...|(262144,[22508,54...|\n",
      "|522395969577832448|Só eu acho qe o A...|[acho, qe, aécio,...|(262144,[58560,93...|\n",
      "|522396000724746240|@paulaingridd que...|[paulaingridd, qu...|(262144,[4783,269...|\n",
      "|522396040490917889|e falam q nao vao...|[falam, q, nao, v...|(262144,[14282,24...|\n",
      "|522396138939641856|#AecioPelaMudanca...|[aeciopelamudanca...|(262144,[38073,45...|\n",
      "|522396298423844864|Bora pensar Dilma...|[bora, pensar, di...|(262144,[62793,70...|\n",
      "|522396429353246720|Acho que o pessoa...|[acho, pessoal, a...|(262144,[16735,44...|\n",
      "+------------------+--------------------+--------------------+--------------------+\n"
     ]
    }
   ],
   "source": [
    "df_tfidf.show()"
   ],
   "metadata": {
    "collapsed": false,
    "ExecuteTime": {
     "end_time": "2024-05-30T20:47:50.831456800Z",
     "start_time": "2024-05-30T20:47:48.439033700Z"
    }
   },
   "id": "4ff0474f44a1b92"
  },
  {
   "cell_type": "code",
   "execution_count": 63,
   "outputs": [
    {
     "name": "stdout",
     "output_type": "stream",
     "text": [
      "(['dilma', 'x', 'aécio'],)\n"
     ]
    }
   ],
   "source": [
    "teste = df_tfidf.selectExpr(\"filtered\").where(\"id = 523622209743765504\").head()[:10]\n",
    "\n",
    "print(teste)"
   ],
   "metadata": {
    "collapsed": false,
    "ExecuteTime": {
     "end_time": "2024-05-30T20:48:40.476615200Z",
     "start_time": "2024-05-30T20:47:50.829463500Z"
    }
   },
   "id": "1071a4556e6af2ad"
  },
  {
   "cell_type": "code",
   "execution_count": 64,
   "outputs": [],
   "source": [
    "def calculate_l1_norm(vector):\n",
    "    sparse_vector = Vectors.sparse(vector.size, vector.indices, vector.values)\n",
    "    return float(sparse_vector.norm(1))"
   ],
   "metadata": {
    "collapsed": false,
    "ExecuteTime": {
     "end_time": "2024-05-30T20:48:40.520153600Z",
     "start_time": "2024-05-30T20:48:40.477620100Z"
    }
   },
   "id": "b99a0dc098613388"
  },
  {
   "cell_type": "code",
   "execution_count": 65,
   "outputs": [
    {
     "name": "stdout",
     "output_type": "stream",
     "text": [
      "+------------------+--------------------+--------------------+--------------------+------------------+\n",
      "|                id|             content|            filtered|      final_features|         tfidf_sum|\n",
      "+------------------+--------------------+--------------------+--------------------+------------------+\n",
      "|523999603835015168|E S T A R R E C I...|[s, t, r, r, c, i...|(262144,[7638,151...|330.27610839297563|\n",
      "|523999603835015168|E S T A R R E C I...|[s, t, r, r, c, i...|(262144,[15077,15...| 325.9362391531846|\n",
      "|523999603835015168|E S T A R R E C I...|[s, t, r, r, c, i...|(262144,[6435,743...|312.99322103342274|\n",
      "|523999603835015168|E S T A R R E C I...|[s, t, r, r, c, i...|(262144,[22624,30...|305.40940233121137|\n",
      "|522784636901294080|GENTE EU VO VOTA ...|[gente, vo, vota,...|(262144,[1002,798...|258.85370077959004|\n",
      "|522784636901294080|GENTE EU VO VOTA ...|[gente, vo, vota,...|(262144,[2536,113...|  257.810768736099|\n",
      "|522784636901294080|GENTE EU VO VOTA ...|[gente, vo, vota,...|(262144,[4125,495...|246.23351163697401|\n",
      "|522784636901294080|GENTE EU VO VOTA ...|[gente, vo, vota,...|(262144,[18044,36...| 233.8827345324637|\n",
      "|522476197285199872|@Vinncent but the...|[vinncent, but, t...|(262144,[6755,253...|232.90635962980133|\n",
      "|523643808245121024|Resumo do dia, Pe...|[resumo, dia, pet...|(262144,[3527,387...|  231.180498646841|\n",
      "|523643808245121024|Resumo do dia, Pe...|[resumo, dia, pet...|(262144,[5965,143...|227.80559400872863|\n",
      "|523992963127726081|Dilma quiso repet...|[dilma, quiso, re...|(262144,[15536,17...|226.73069824667783|\n",
      "|522797313719537667|2° turno:  Aécio ...|[2, turno, aécio,...|(262144,[10108,11...|226.58062824244553|\n",
      "|524000439118073857|Aécio nunca seria...|[aécio, nunca, 1a...|(262144,[8844,162...|224.78478809762254|\n",
      "|522797313719537667|2° turno:  Aécio ...|[2, turno, aécio,...|(262144,[15787,17...|224.56328003107188|\n",
      "|522518741473828864|@Dr___Evil: DATAF...|[dr___evil, dataf...|(262144,[42387,46...|223.81586274911362|\n",
      "|522797313719537667|2° turno:  Aécio ...|[2, turno, aécio,...|(262144,[3724,693...| 223.0740884009338|\n",
      "|522476197285199872|@Vinncent but the...|[vinncent, but, t...|(262144,[40188,52...| 222.7945421347472|\n",
      "|522871635049996288|minha avo aqui fa...|[avo, aqui, falan...|(262144,[225,6035...|220.01976921069252|\n",
      "|523621110773215232|como n vo votar t...|[n, vo, votar, td...|(262144,[16761,34...|218.71594592949322|\n",
      "+------------------+--------------------+--------------------+--------------------+------------------+\n"
     ]
    }
   ],
   "source": [
    "sum_udf = udf(calculate_l1_norm, DoubleType())\n",
    "\n",
    "important_sentences_df = df_tfidf.withColumn(\"tfidf_sum\", sum_udf(col(\"final_features\")))\n",
    "\n",
    "# Ordena as sentenças por tfidf_sum em ordem decrescente\n",
    "top_sentences_df = important_sentences_df.orderBy(col(\"tfidf_sum\").desc()).limit(20)\n",
    "# solucao mto demorada, por enquanto vou pensar noq fazer, estudar melhor o tfidf e encontrar novas soluções"
   ],
   "metadata": {
    "collapsed": false,
    "ExecuteTime": {
     "end_time": "2024-05-30T20:52:44.526346100Z",
     "start_time": "2024-05-30T20:48:40.495627200Z"
    }
   },
   "id": "e5284345794dc26e"
  },
  {
   "cell_type": "code",
   "execution_count": 66,
   "outputs": [
    {
     "name": "stdout",
     "output_type": "stream",
     "text": [
      "[Row(content='E S T A R R E C I D A P R E V A R I C O U F L E X I B I L I Z A Ç Ã O  tudo indica q a dilma treinou novas palavras esse fim de semana'), Row(content='E S T A R R E C I D A P R E V A R I C O U F L E X I B I L I Z A Ç Ã O  tudo indica q a dilma treinou novas palavras esse fim de semana'), Row(content='E S T A R R E C I D A P R E V A R I C O U F L E X I B I L I Z A Ç Ã O  tudo indica q a dilma treinou novas palavras esse fim de semana'), Row(content='E S T A R R E C I D A P R E V A R I C O U F L E X I B I L I Z A Ç Ã O  tudo indica q a dilma treinou novas palavras esse fim de semana'), Row(content='GENTE EU VO VOTA NA DILMA MAS É C DOR NO CORE TIPO QND VC TEM Q FAZE 1 ESCOLHA MAS SO TEM 2 OPÇAO 1 RUIM E 1 PIOR AI P EVITA A PIO FAZ A RUI'), Row(content='GENTE EU VO VOTA NA DILMA MAS É C DOR NO CORE TIPO QND VC TEM Q FAZE 1 ESCOLHA MAS SO TEM 2 OPÇAO 1 RUIM E 1 PIOR AI P EVITA A PIO FAZ A RUI'), Row(content='GENTE EU VO VOTA NA DILMA MAS É C DOR NO CORE TIPO QND VC TEM Q FAZE 1 ESCOLHA MAS SO TEM 2 OPÇAO 1 RUIM E 1 PIOR AI P EVITA A PIO FAZ A RUI'), Row(content='GENTE EU VO VOTA NA DILMA MAS É C DOR NO CORE TIPO QND VC TEM Q FAZE 1 ESCOLHA MAS SO TEM 2 OPÇAO 1 RUIM E 1 PIOR AI P EVITA A PIO FAZ A RUI'), Row(content=\"@Vinncent but the elected congress is the most conservative in 50 years. Even if that doesn't help, I guess Dilma would've had it worse.\"), Row(content='Resumo do dia, Petrobras:  Dilma admite rombo 1bi p eleições d Evo 28 DepFed comprados p eleição 2010 1mi p eleição d Gleise 2010  #Petrolao'), Row(content='Resumo do dia, Petrobras:  Dilma admite rombo 1bi p eleições d Evo 28 DepFed comprados p eleição 2010 1mi p eleição d Gleise 2010  #Petrolao'), Row(content='Dilma quiso repetir la hazaña d su homólogo vzlano realizando una d las campañas + sucias d Brazil y pronosticando fraude ya q está asustada'), Row(content='2° turno:  Aécio 45 Dilma 13 CPM 22 NX 0 Marcelo D2 BEN 10 Alemanha 7 Brasil 1 Goiás 6 Palmeiras 0 Atlético-MG 4 Corinthians 1'), Row(content='Aécio nunca seria minha 1a opção, mas acho q td q a Dilma podia fzr em 4 anos ñ fez, então ñ vai ser em + 4 anos q vai fazer! O tempo já foi'), Row(content='2° turno:  Aécio 45 Dilma 13 CPM 22 NX 0 Marcelo D2 BEN 10 Alemanha 7 Brasil 1 Goiás 6 Palmeiras 0 Atlético-MG 4 Corinthians 1'), Row(content='@Dr___Evil: DATAFOLHA 4/10 Dilma 44 Aecio 26 DIF 18 pts Eleicao Dilma 41.59 Aecio 33.55   Dif = 8.04 Errou por 10 pts. Deviam mandar fechar!'), Row(content='2° turno:  Aécio 45 Dilma 13 CPM 22 NX 0 Marcelo D2 BEN 10 Alemanha 7 Brasil 1 Goiás 6 Palmeiras 0 Atlético-MG 4 Corinthians 1'), Row(content=\"@Vinncent but the elected congress is the most conservative in 50 years. Even if that doesn't help, I guess Dilma would've had it worse.\"), Row(content='minha avo aqui falando q vai votar no aecio pq nao gostou do governo dilma, q ferrou c a gnt e q vai ficar pior, q tem q pensar na gente 😒😒😒'), Row(content='como n vo votar tds aq fica meio: dilma na alma aecio na vala ou o contrario e dps: erika qq ce acha (?) acho q quero come meu pao em pazzzz')]\n"
     ]
    }
   ],
   "source": [
    "aaa = top_sentences_df.select(\"content\").collect()\n",
    "print(aaa)"
   ],
   "metadata": {
    "collapsed": false,
    "ExecuteTime": {
     "end_time": "2024-05-30T20:56:48.910700900Z",
     "start_time": "2024-05-30T20:52:44.521347400Z"
    }
   },
   "id": "fd4ebc7f245e087b"
  },
  {
   "cell_type": "code",
   "execution_count": 67,
   "outputs": [
    {
     "name": "stdout",
     "output_type": "stream",
     "text": [
      "[Row(id='523999603835015168'), Row(id='523999603835015168'), Row(id='523999603835015168'), Row(id='523999603835015168'), Row(id='522784636901294080'), Row(id='522784636901294080'), Row(id='522784636901294080'), Row(id='522784636901294080'), Row(id='522476197285199872'), Row(id='523643808245121024'), Row(id='523643808245121024'), Row(id='523992963127726081'), Row(id='522797313719537667'), Row(id='524000439118073857'), Row(id='522797313719537667'), Row(id='522518741473828864'), Row(id='522797313719537667'), Row(id='522476197285199872'), Row(id='522871635049996288'), Row(id='523621110773215232')]\n"
     ]
    }
   ],
   "source": [
    "bbb = top_sentences_df.select(\"id\").collect()\n",
    "print(bbb)"
   ],
   "metadata": {
    "collapsed": false,
    "ExecuteTime": {
     "end_time": "2024-05-30T21:00:48.428531500Z",
     "start_time": "2024-05-30T20:56:48.909691900Z"
    }
   },
   "id": "4936c7dbba7af563"
  },
  {
   "cell_type": "code",
   "execution_count": 68,
   "outputs": [
    {
     "name": "stdout",
     "output_type": "stream",
     "text": [
      "+------------------+\n",
      "|                id|\n",
      "+------------------+\n",
      "|523999603835015168|\n",
      "|522784636901294080|\n",
      "|522476197285199872|\n",
      "|523643808245121024|\n",
      "|523992963127726081|\n",
      "|522797313719537667|\n",
      "|524000439118073857|\n",
      "|522518741473828864|\n",
      "|522871635049996288|\n",
      "|523621110773215232|\n",
      "+------------------+\n"
     ]
    }
   ],
   "source": [
    "top20 = top_sentences_df.select(\"id\").distinct().limit(20)\n",
    "\n",
    "# Exiba o resultado\n",
    "top20.show()"
   ],
   "metadata": {
    "collapsed": false,
    "ExecuteTime": {
     "end_time": "2024-05-30T21:04:45.391657100Z",
     "start_time": "2024-05-30T21:00:48.432533400Z"
    }
   },
   "id": "3f3fbd2c2fbb367d"
  },
  {
   "cell_type": "code",
   "execution_count": 68,
   "outputs": [],
   "source": [],
   "metadata": {
    "collapsed": false,
    "ExecuteTime": {
     "end_time": "2024-05-30T21:04:45.414657500Z",
     "start_time": "2024-05-30T21:04:45.392658200Z"
    }
   },
   "id": "1a74b29d03dbe8e6"
  },
  {
   "cell_type": "code",
   "execution_count": 69,
   "outputs": [
    {
     "name": "stdout",
     "output_type": "stream",
     "text": [
      "+------------------+--------------------+------------------+--------------------+\n",
      "|                id|             content|         tfidf_sum|            filtered|\n",
      "+------------------+--------------------+------------------+--------------------+\n",
      "|522476197285199872|@Vinncent but the...|232.90635962980133|[vinncent, but, t...|\n",
      "|522518741473828864|@Dr___Evil: DATAF...|223.81586274911362|[dr___evil, dataf...|\n",
      "|522784636901294080|GENTE EU VO VOTA ...|258.85370077959004|[gente, vo, vota,...|\n",
      "|522797313719537667|2° turno:  Aécio ...|224.56328003107188|[2, turno, aécio,...|\n",
      "|522871635049996288|minha avo aqui fa...|206.56262438270434|[avo, aqui, falan...|\n",
      "|523621110773215232|como n vo votar t...|218.71594592949322|[n, vo, votar, td...|\n",
      "|523643808245121024|Resumo do dia, Pe...|  231.180498646841|[resumo, dia, pet...|\n",
      "|523992963127726081|Dilma quiso repet...|226.73069824667783|[dilma, quiso, re...|\n",
      "|523999603835015168|E S T A R R E C I...|330.27610839297563|[s, t, r, r, c, i...|\n",
      "|524000439118073857|Aécio nunca seria...|210.65721551353857|[aécio, nunca, 1a...|\n",
      "|522476197285199872|@Vinncent but the...| 222.7945421347472|[vinncent, but, t...|\n",
      "|522518741473828864|@Dr___Evil: DATAF...| 214.9054394344666|[dr___evil, dataf...|\n",
      "|522784636901294080|GENTE EU VO VOTA ...|  257.810768736099|[gente, vo, vota,...|\n",
      "|522797313719537667|2° turno:  Aécio ...|226.58062824244553|[2, turno, aécio,...|\n",
      "|522871635049996288|minha avo aqui fa...|220.01976921069252|[avo, aqui, falan...|\n",
      "|523621110773215232|como n vo votar t...|213.57571542483507|[n, vo, votar, td...|\n",
      "|523643808245121024|Resumo do dia, Pe...|227.80559400872863|[resumo, dia, pet...|\n",
      "|523992963127726081|Dilma quiso repet...|215.36747489406312|[dilma, quiso, re...|\n",
      "|523999603835015168|E S T A R R E C I...| 325.9362391531846|[s, t, r, r, c, i...|\n",
      "|524000439118073857|Aécio nunca seria...|224.78478809762254|[aécio, nunca, 1a...|\n",
      "+------------------+--------------------+------------------+--------------------+\n"
     ]
    }
   ],
   "source": [
    "top_20_ids = top20.select(\"id\").rdd.flatMap(lambda x: x).collect()\n",
    "\n",
    "# Use o método isin() para filtrar as linhas do DataFrame original\n",
    "# onde o ID está presente na lista dos top 20 valores\n",
    "resultados_top_20 = important_sentences_df.filter(col(\"id\").isin(top_20_ids)).select(\"id\", \"content\", \"tfidf_sum\", \"filtered\")\n",
    "\n",
    "resultados_top_20.show()"
   ],
   "metadata": {
    "collapsed": false,
    "ExecuteTime": {
     "end_time": "2024-05-30T21:11:21.444615400Z",
     "start_time": "2024-05-30T21:04:45.411661300Z"
    }
   },
   "id": "68804dee9977fb4d"
  },
  {
   "cell_type": "code",
   "execution_count": 70,
   "outputs": [
    {
     "name": "stdout",
     "output_type": "stream",
     "text": [
      "+---------------------------------------------------------------------------------------------------------------+-----+\n",
      "|sentence                                                                                                       |count|\n",
      "+---------------------------------------------------------------------------------------------------------------+-----+\n",
      "| Não foi a Marina, não foi a Dilma                                                                             |1    |\n",
      "|@LeiSecaRJ mulher da Dilma e mulher do Aécio                                                                   |1    |\n",
      "| cês tão muito divididos entre os avanços de lula/dilma e o legado de edu campos, né                           |1    |\n",
      "|co/ksGkeAjY9f                                                                                                  |1    |\n",
      "|Imagina que louco um drone aparecer no debate do SBT, com a faixa: SAMBA NA CARA DELE DILMA                    |1    |\n",
      "|se não dê certo, tiramos                                                                                       |1    |\n",
      "| Caráter 😂                                                                                                    |1    |\n",
      "|mancada RT @VEJA: Aliados evitam usar imagem de Dilma no segundo turno http://t                                |1    |\n",
      "|E a Dilma                                                                                                      |1    |\n",
      "|Dilma froxa                                                                                                    |1    |\n",
      "| Atacando apenas a incompetência de Aécio                                                                      |1    |\n",
      "|\"\" EU TO RISOS LAKSLAJSLAJSLA #EMABiggestFans1D\"                                                               |1    |\n",
      "|co/362cMDWm1Q\"\"\"                                                                                               |1    |\n",
      "|RT @cristilobo: Pelo que vejo aqui, quem é Dilma acha que ela foi melhor; quem é Aécio, acha que ele foi melhor|1    |\n",
      "|@prof_tiagoassis vc nitidamente apoia Dilma, sem problemas, mas negar nao dá                                   |1    |\n",
      "|co/CtnlHUNcEm                                                                                                  |1    |\n",
      "|Para quem está criticando a oratória da Dilma, informo que Hitler falava muito, muito bem                      |1    |\n",
      "| E esse horário eleitoral da Dilma                                                                             |1    |\n",
      "|@StephanietlSUR @AecioNeves e Dilma                                                                            |1    |\n",
      "|Dilma até ataca, mas tbm Aercio não é esse santo                                                               |1    |\n",
      "+---------------------------------------------------------------------------------------------------------------+-----+\n"
     ]
    }
   ],
   "source": [
    "sentences = df_dilma.select(explode(split(col(\"content\"), \"[.!?]\")).alias(\"sentence\"))\n",
    "\n",
    "# Remova sentenças vazias\n",
    "sentences = sentences.filter(col(\"sentence\") != \"\")\n",
    "\n",
    "# Conte a frequência das sentenças\n",
    "sentence_counts = sentences.groupBy(\"sentence\").count()\n",
    "\n",
    "# Ordene as sentenças pela frequência em ordem decrescente\n",
    "top_sentences = sentence_counts.orderBy(col(\"count\").asc())\n",
    "\n",
    "# Mostre as principais sentenças relacionadas à palavra \"Dilma\"\n",
    "top_sentences.show(truncate=False)"
   ],
   "metadata": {
    "collapsed": false,
    "ExecuteTime": {
     "end_time": "2024-05-30T21:11:41.844868300Z",
     "start_time": "2024-05-30T21:11:21.448612100Z"
    }
   },
   "id": "624c2f99a32ceb1"
  },
  {
   "cell_type": "code",
   "execution_count": 71,
   "outputs": [],
   "source": [
    "# tive um resultado, mas não sei se foi interessante, por enquanto vou manter assim\n",
    "# lemmatizer deu resultado pior q o esperado, então resolvi remover e deixar sem\n",
    "# o jeito correto é com TF-IDF com diferentes valores de n-grams \n",
    "# Aparentemtente o TFIDF foi a melhor solução até agr, mas mesmo assim n tá boa, mas vai ser oq vai mesmo, amanhã so finalizar uns ultimos detalhes e ai eu vejo como mandar"
   ],
   "metadata": {
    "collapsed": false
   },
   "id": "db47e378750bd7a0"
  }
 ],
 "metadata": {
  "kernelspec": {
   "display_name": "Python 3",
   "language": "python",
   "name": "python3"
  },
  "language_info": {
   "codemirror_mode": {
    "name": "ipython",
    "version": 2
   },
   "file_extension": ".py",
   "mimetype": "text/x-python",
   "name": "python",
   "nbconvert_exporter": "python",
   "pygments_lexer": "ipython2",
   "version": "2.7.6"
  }
 },
 "nbformat": 4,
 "nbformat_minor": 5
}
