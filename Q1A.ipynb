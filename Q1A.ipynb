{
 "cells": [
  {
   "cell_type": "code",
   "execution_count": 1,
   "id": "initial_id",
   "metadata": {
    "collapsed": true,
    "ExecuteTime": {
     "end_time": "2024-06-01T22:59:47.600390700Z",
     "start_time": "2024-06-01T22:59:47.477853300Z"
    }
   },
   "outputs": [],
   "source": [
    "from pyspark.sql import SparkSession\n",
    "from pyspark.sql.functions import to_timestamp, substring, hour, when, udf, size, col, explode\n",
    "from pyspark.sql.types import ArrayType, StringType\n",
    "\n",
    "import matplotlib.pyplot as plt\n",
    "import seaborn as sns\n",
    "import re"
   ]
  },
  {
   "cell_type": "code",
   "execution_count": 2,
   "outputs": [],
   "source": [
    "spark = SparkSession.builder \\\n",
    "    .appName(\"SPARK TRAB - QUESTION 1 A\") \\\n",
    "    .getOrCreate()"
   ],
   "metadata": {
    "collapsed": false,
    "ExecuteTime": {
     "end_time": "2024-06-01T22:59:51.123039500Z",
     "start_time": "2024-06-01T22:59:47.600390700Z"
    }
   },
   "id": "a65fd984a5549e78"
  },
  {
   "cell_type": "code",
   "execution_count": 3,
   "outputs": [],
   "source": [
    "df_orig = spark.read.option(\"header\", \"false\").option(\"delimiter\", \"\\t\").csv(\"./data/debate-tweets.tsv\")"
   ],
   "metadata": {
    "collapsed": false,
    "ExecuteTime": {
     "end_time": "2024-06-01T22:59:54.981826500Z",
     "start_time": "2024-06-01T22:59:51.127553200Z"
    }
   },
   "id": "6eac4c5e7cf46852"
  },
  {
   "cell_type": "markdown",
   "source": [
    "## Objetivo\n",
    "O objetivo desse Notebook é, a partir dos dados de tweets brasileiros de 2014 durante o período de eleições, responder a seguinte pergunta:\n",
    "\n",
    "\"Quais foram as hashtags mais usadas pela manhã, tarde e noite?\""
   ],
   "metadata": {
    "collapsed": false
   },
   "id": "ff738623bb99aaaf"
  },
  {
   "cell_type": "code",
   "execution_count": 4,
   "outputs": [],
   "source": [
    "# Para responder essa pergunta, necessariamente precisarei de apenas 2 colunas\n",
    "# sendo elas \"hora\" e \"conteúdo\", respectivamente _c7 e _c1\n",
    "\n",
    "df = df_orig.select(\"_c0\", \"_c1\", \"_c7\") # mantive _c0 por ser uma coluna de ID\n",
    "\n",
    "df = df.withColumnRenamed(\"_c0\", \"id\") \\\n",
    "                     .withColumnRenamed(\"_c1\", \"content\") \\\n",
    "                     .withColumnRenamed(\"_c7\", \"day_and_hour_string\")"
   ],
   "metadata": {
    "collapsed": false,
    "ExecuteTime": {
     "end_time": "2024-06-01T22:59:55.042770100Z",
     "start_time": "2024-06-01T22:59:54.983824700Z"
    }
   },
   "id": "de539d380ea67d92"
  },
  {
   "cell_type": "code",
   "execution_count": 5,
   "outputs": [],
   "source": [
    "# O Formato da coluna \"day_and_hour_string\" está no formato abaixo:\n",
    "# Mon May 09 00:12:02 +0000 2011\n",
    "# Como não consegui converter diretamente para timestamp vou pegar por substring e dps converter\n",
    "\n",
    "df = (df.withColumn(\"hour_of_day_string\", \n",
    "                       substring(df[\"day_and_hour_string\"], 12, 8)))\n",
    "\n",
    "df = (df.withColumn(\"timestamp_col\", \n",
    "                      to_timestamp(df[\"hour_of_day_string\"], \"HH:mm:ss\")))"
   ],
   "metadata": {
    "collapsed": false,
    "ExecuteTime": {
     "end_time": "2024-06-01T22:59:55.089403700Z",
     "start_time": "2024-06-01T22:59:55.046276900Z"
    }
   },
   "id": "2959239475225c90"
  },
  {
   "cell_type": "code",
   "execution_count": 6,
   "outputs": [],
   "source": [
    "df = df.withColumn(\"hour_of_day\", hour(df[\"timestamp_col\"]))\n",
    "\n",
    "df = df.select(\"id\", \"content\", \"hour_of_day\")\n",
    "\n",
    "# Aqui eu seleciono o período separando em três classes, manhã, tarde e noite\n",
    "df = df.withColumn(\"period\", when((df.hour_of_day >= 5) & (df.hour_of_day < 12), \"morning\")\n",
    "                   .otherwise(when((df.hour_of_day >= 12) & (df.hour_of_day < 18), \"afternoon\")\n",
    "                   .otherwise(\"night\")))"
   ],
   "metadata": {
    "collapsed": false,
    "ExecuteTime": {
     "end_time": "2024-06-01T22:59:55.181716300Z",
     "start_time": "2024-06-01T22:59:55.091396900Z"
    }
   },
   "id": "e9a28b37fab059c1"
  },
  {
   "cell_type": "code",
   "execution_count": 7,
   "outputs": [],
   "source": [
    "# Função simples responsáveis por extrair hashtags utilizando expressão regulares\n",
    "\n",
    "def extract_hashtags(text):\n",
    "    return re.findall(r'#(\\w+)', text)"
   ],
   "metadata": {
    "collapsed": false,
    "ExecuteTime": {
     "end_time": "2024-06-01T22:59:55.198197900Z",
     "start_time": "2024-06-01T22:59:55.184715100Z"
    }
   },
   "id": "2938632b289b2798"
  },
  {
   "cell_type": "code",
   "execution_count": null,
   "outputs": [
    {
     "name": "stdout",
     "output_type": "stream",
     "text": [
      "ArrayType(StringType(), True)\n"
     ]
    }
   ],
   "source": [
    "# passa a função para o formato que pode ser utilizado no df do spark\n",
    "extract_hashtags_udf = udf(extract_hashtags, ArrayType(StringType()))\n",
    "\n",
    "# retirando as hashtags\n",
    "df_hashtags = df.withColumn(\"hashtags\", extract_hashtags_udf(df[\"content\"]))\n",
    "\n",
    "hashtags_and_periods = df_hashtags.select(\"hashtags\", \"period\")\n",
    "hashtags_and_periods = hashtags_and_periods.filter(size(col(\"hashtags\")) > 0) \n",
    "# pegando apenas tweets com hashtags\n",
    "\n",
    "hashtags_and_periods = hashtags_and_periods.withColumn(\"hashtag\", explode(\"hashtags\"))\n",
    "hashtags_and_periods = hashtags_and_periods.select(\"hashtag\", \"period\")\n",
    "\n",
    "hashtags_and_periods = hashtags_and_periods.groupBy(\"period\", \"hashtag\").count()\n",
    "\n",
    "hashtags_and_periods = hashtags_and_periods.orderBy(col(\"count\").desc())\n",
    "\n",
    "hashtags_and_periods.show()"
   ],
   "metadata": {
    "collapsed": false,
    "ExecuteTime": {
     "start_time": "2024-06-01T22:59:55.200189900Z"
    }
   },
   "id": "600ea8d03735e25e"
  },
  {
   "cell_type": "code",
   "execution_count": null,
   "outputs": [],
   "source": [
    "# Separar tweets em diferentes datasets por periodo do dia\n",
    "top_20_hashtags_morning = hashtags_and_periods.filter(col(\"period\") == \"morning\").limit(25)\n",
    "\n",
    "top_20_hashtags_afternoon = hashtags_and_periods.filter(col(\"period\") == \"afternoon\").limit(25)\n",
    "\n",
    "top_20_hashtags_night = hashtags_and_periods.filter(col(\"period\") == \"night\").limit(25)"
   ],
   "metadata": {
    "collapsed": false
   },
   "id": "f7eac251d2bd09de"
  },
  {
   "cell_type": "markdown",
   "source": [
    "Por enquanto vou manter os resultados sem remover nenhuma hashtag, idealmente vai ser dar algum jeito de remover essas hashtags que não tem nada a ver com eleição para melhorar a visualização, no entanto isso não parece tão simples, então fica assim."
   ],
   "metadata": {
    "collapsed": false
   },
   "id": "245737a9dd182f26"
  },
  {
   "cell_type": "code",
   "execution_count": null,
   "outputs": [],
   "source": [
    "hashtags_morning_pandas = top_20_hashtags_morning.toPandas()\n",
    "\n",
    "hashtags_afternoon_pandas = top_20_hashtags_afternoon.toPandas()\n",
    "\n",
    "hashtags_night_pandas = top_20_hashtags_night.toPandas()"
   ],
   "metadata": {
    "collapsed": false
   },
   "id": "3b50a09015129e8b"
  },
  {
   "cell_type": "code",
   "execution_count": null,
   "outputs": [],
   "source": [
    "sns.set(style=\"darkgrid\", rc={\"axes.facecolor\": \"#252434\", \"figure.facecolor\": \"#202124\", \"axes.edgecolor\": \"#21212a\", \"grid.color\": \"#21212a\"}) \n",
    "\n",
    "plt.figure(figsize=(10, 6), facecolor='#202124') \n",
    "barplot = sns.barplot(x='hashtag', y='count', data=hashtags_morning_pandas, hue='hashtag', legend=False, palette='viridis', edgecolor = \"#21212a\", color = \"white\")\n",
    "\n",
    "# Adicionar os valores em cima das barras, divididos por 1000\n",
    "for p in barplot.patches:\n",
    "    barplot.annotate(format(p.get_height() / 1000, '.1f') + \"K\",\n",
    "                     (p.get_x() + p.get_width() / 2., p.get_height()),\n",
    "                     ha='center', va='center',\n",
    "                     xytext=(0, 10), textcoords='offset points', fontsize=8, rotation=30, color='#ffffff')\n",
    "\n",
    "plt.xlabel('Hashtag', color='#ffffff')  \n",
    "plt.ylabel('Quantidade', color='#ffffff')  \n",
    "plt.title('Top 25 Hashtags - Período da Manhã', color='#ffffff') \n",
    "plt.xticks(rotation=90, color='#ffffff')\n",
    "plt.yticks(color='#ffffff') \n",
    "\n",
    "\n",
    "plt.savefig('./outcome/Q1/top_hashtags_manha.pdf', facecolor='#202124', bbox_inches='tight')\n",
    "plt.close()"
   ],
   "metadata": {
    "collapsed": false
   },
   "id": "fce6db9bc515e2ac"
  },
  {
   "cell_type": "code",
   "execution_count": null,
   "outputs": [],
   "source": [
    "sns.set(style=\"darkgrid\", rc={\"axes.facecolor\": \"#252434\", \"figure.facecolor\": \"#202124\", \"axes.edgecolor\": \"#21212a\", \"grid.color\": \"#21212a\"}) \n",
    "\n",
    "plt.figure(figsize=(10, 6), facecolor='#202124') \n",
    "barplot = sns.barplot(x='hashtag', y='count', data=hashtags_afternoon_pandas, hue='hashtag', legend=False, palette='viridis', edgecolor = \"#21212a\", color = \"white\")\n",
    "\n",
    "# Adicionar os valores em cima das barras, divididos por 1000\n",
    "for p in barplot.patches:\n",
    "    barplot.annotate(format(p.get_height() / 1000, '.1f') + \"K\",\n",
    "                     (p.get_x() + p.get_width() / 2., p.get_height()),\n",
    "                     ha='center', va='center',\n",
    "                     xytext=(0, 10), textcoords='offset points', fontsize=8, rotation=30, color='#ffffff')\n",
    "\n",
    "plt.xlabel('Hashtag', color='#ffffff')  \n",
    "plt.ylabel('Quantidade', color='#ffffff')  \n",
    "plt.title('Top 25 Hashtags - Período da Tarde', color='#ffffff') \n",
    "plt.xticks(rotation=90, color='#ffffff')\n",
    "plt.yticks(color='#ffffff') \n",
    "\n",
    "\n",
    "plt.savefig('./outcome/Q1/top_hashtags_tarde.pdf', facecolor='#202124', bbox_inches='tight')\n",
    "plt.close()"
   ],
   "metadata": {
    "collapsed": false
   },
   "id": "e91106ff19b45344"
  },
  {
   "cell_type": "code",
   "execution_count": null,
   "outputs": [],
   "source": [
    "sns.set(style=\"darkgrid\", rc={\"axes.facecolor\": \"#252434\", \"figure.facecolor\": \"#202124\", \"axes.edgecolor\": \"#21212a\", \"grid.color\": \"#21212a\"}) \n",
    "\n",
    "plt.figure(figsize=(10, 6), facecolor='#202124') \n",
    "barplot = sns.barplot(x='hashtag', y='count', data=hashtags_night_pandas, hue='hashtag', legend=False, palette='viridis', edgecolor = \"#21212a\", color = \"white\")\n",
    "\n",
    "# Adicionar os valores em cima das barras, divididos por 1000\n",
    "for p in barplot.patches:\n",
    "    barplot.annotate(format(p.get_height() / 1000, '.1f') + \"K\",\n",
    "                     (p.get_x() + p.get_width() / 2., p.get_height()),\n",
    "                     ha='center', va='center',\n",
    "                     xytext=(0, 10), textcoords='offset points', fontsize=8, rotation=30, color='#ffffff')\n",
    "\n",
    "plt.xlabel('Hashtag', color='#ffffff')  \n",
    "plt.ylabel('Quantidade', color='#ffffff')  \n",
    "plt.title('Top 25 Hashtags - Período da Noite', color='#ffffff') \n",
    "plt.xticks(rotation=90, color='#ffffff')\n",
    "plt.yticks(color='#ffffff') \n",
    "\n",
    "\n",
    "plt.savefig('./outcome/Q1/top_hashtags_noite.pdf', facecolor='#202124', bbox_inches='tight')\n",
    "plt.close()"
   ],
   "metadata": {
    "collapsed": false
   },
   "id": "a2c0cb656d8cfc28"
  },
  {
   "cell_type": "code",
   "execution_count": null,
   "outputs": [],
   "source": [
    "spark.stop()"
   ],
   "metadata": {
    "collapsed": false
   },
   "id": "db50a7e6058f9b7c"
  }
 ],
 "metadata": {
  "kernelspec": {
   "display_name": "Python 3",
   "language": "python",
   "name": "python3"
  },
  "language_info": {
   "codemirror_mode": {
    "name": "ipython",
    "version": 2
   },
   "file_extension": ".py",
   "mimetype": "text/x-python",
   "name": "python",
   "nbconvert_exporter": "python",
   "pygments_lexer": "ipython2",
   "version": "2.7.6"
  }
 },
 "nbformat": 4,
 "nbformat_minor": 5
}
