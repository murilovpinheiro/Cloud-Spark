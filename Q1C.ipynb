{
 "cells": [
  {
   "cell_type": "code",
   "execution_count": 43,
   "id": "initial_id",
   "metadata": {
    "collapsed": true,
    "ExecuteTime": {
     "end_time": "2024-05-30T04:13:33.585377Z",
     "start_time": "2024-05-30T04:13:33.551137600Z"
    }
   },
   "outputs": [],
   "source": [
    "from pyspark.sql import SparkSession\n",
    "from pyspark.sql.functions import col, substring, to_timestamp, hour\n",
    "\n",
    "import seaborn as sns\n",
    "import matplotlib.pyplot as plt\n",
    "import re"
   ]
  },
  {
   "cell_type": "code",
   "execution_count": 44,
   "outputs": [],
   "source": [
    "spark = SparkSession.builder \\\n",
    "    .appName(\"SPARK TRAB - QUESTION 1 C\") \\\n",
    "    .getOrCreate()"
   ],
   "metadata": {
    "collapsed": false,
    "ExecuteTime": {
     "end_time": "2024-05-30T04:13:33.694009100Z",
     "start_time": "2024-05-30T04:13:33.559584Z"
    }
   },
   "id": "a1b93c2f60392069"
  },
  {
   "cell_type": "code",
   "execution_count": 45,
   "outputs": [],
   "source": [
    "df_orig = spark.read.option(\"header\", \"false\").option(\"delimiter\", \"\\t\").csv(\"./data/debate-tweets.tsv\")"
   ],
   "metadata": {
    "collapsed": false,
    "ExecuteTime": {
     "end_time": "2024-05-30T04:13:33.819359200Z",
     "start_time": "2024-05-30T04:13:33.574272300Z"
    }
   },
   "id": "8322f2cdf9c364fd"
  },
  {
   "cell_type": "markdown",
   "source": [
    "## Objetivo\n",
    "O objetivo desse Notebook é, a partir dos dados de tweets brasileiros de 2014 durante o período de eleições, responder a seguinte pergunta:\n",
    "\n",
    "\"Qual o número de tweets por hora a cada dia?\""
   ],
   "metadata": {
    "collapsed": false
   },
   "id": "8e8f1709c0f5e2da"
  },
  {
   "cell_type": "code",
   "execution_count": 46,
   "outputs": [
    {
     "name": "stdout",
     "output_type": "stream",
     "text": [
      "+------------------+--------------------+--------------------+\n",
      "|                id|             content| day_and_hour_string|\n",
      "+------------------+--------------------+--------------------+\n",
      "|522394422710136832|@anacddd verdade,...|Wed Oct 15 14:31:...|\n",
      "|522394422806581248|              Que ñ*|Wed Oct 15 14:31:...|\n",
      "|522394422731100160| Vou quebrar a Bruna|Wed Oct 15 14:31:...|\n",
      "|522394422810783745|agora vou p segun...|Wed Oct 15 14:31:...|\n",
      "|522394423137943553|Me sinto tão bem ...|Wed Oct 15 14:31:...|\n",
      "|522394423188271104|Eu estou aqui, de...|Wed Oct 15 14:31:...|\n",
      "|522394423238606848|Quando vai embora...|Wed Oct 15 14:31:...|\n",
      "|522394423528022016|@paynecaralhudo k...|Wed Oct 15 14:31:...|\n",
      "|522394423632875521|Conceição da Barr...|Wed Oct 15 14:31:...|\n",
      "|522394424010362881| @Maniavato te amo ♥|Wed Oct 15 14:31:...|\n",
      "|522394424048091138|Alg me curtindo rs ♡|Wed Oct 15 14:31:...|\n",
      "|522394424010358784|@MiiluAA No, porq...|Wed Oct 15 14:31:...|\n",
      "|522394423741906944|#EMABiggestFansJu...|Wed Oct 15 14:31:...|\n",
      "|522394424568213505|@raizabatista dev...|Wed Oct 15 14:31:...|\n",
      "|522394424920506368|Me senti ate d fe...|Wed Oct 15 14:31:...|\n",
      "|522394424811458560|qual o sentido de...|Wed Oct 15 14:31:...|\n",
      "|522394425029574656|I'm at Lava Rápid...|Wed Oct 15 14:31:...|\n",
      "|522394425121841153|Fica comentando m...|Wed Oct 15 14:31:...|\n",
      "|522394425461579777|\"odeio que me man...|Wed Oct 15 14:31:...|\n",
      "|522394425960701952|CAMAMTEBABILONFRA...|Wed Oct 15 14:31:...|\n",
      "+------------------+--------------------+--------------------+\n"
     ]
    }
   ],
   "source": [
    "df = df_orig.select(\"_c0\", \"_c1\", \"_c7\")\n",
    "\n",
    "df = df.withColumnRenamed(\"_c0\", \"id\") \\\n",
    "                     .withColumnRenamed(\"_c1\", \"content\") \\\n",
    "                     .withColumnRenamed(\"_c7\", \"day_and_hour_string\")\n",
    "\n",
    "df.show()"
   ],
   "metadata": {
    "collapsed": false,
    "ExecuteTime": {
     "end_time": "2024-05-30T04:13:33.911765600Z",
     "start_time": "2024-05-30T04:13:33.821362800Z"
    }
   },
   "id": "435aaa5c5ba85ec3"
  },
  {
   "cell_type": "code",
   "execution_count": 47,
   "outputs": [
    {
     "name": "stdout",
     "output_type": "stream",
     "text": [
      "+--------------------+-------------------+-----------+\n",
      "|             content|      timestamp_col|hour_of_day|\n",
      "+--------------------+-------------------+-----------+\n",
      "|@anacddd verdade,...|1970-01-01 14:31:50|         14|\n",
      "|              Que ñ*|1970-01-01 14:31:50|         14|\n",
      "| Vou quebrar a Bruna|1970-01-01 14:31:50|         14|\n",
      "|agora vou p segun...|1970-01-01 14:31:50|         14|\n",
      "|Me sinto tão bem ...|1970-01-01 14:31:50|         14|\n",
      "|Eu estou aqui, de...|1970-01-01 14:31:50|         14|\n",
      "|Quando vai embora...|1970-01-01 14:31:50|         14|\n",
      "|@paynecaralhudo k...|1970-01-01 14:31:50|         14|\n",
      "|Conceição da Barr...|1970-01-01 14:31:50|         14|\n",
      "| @Maniavato te amo ♥|1970-01-01 14:31:50|         14|\n",
      "|Alg me curtindo rs ♡|1970-01-01 14:31:50|         14|\n",
      "|@MiiluAA No, porq...|1970-01-01 14:31:50|         14|\n",
      "|#EMABiggestFansJu...|1970-01-01 14:31:50|         14|\n",
      "|@raizabatista dev...|1970-01-01 14:31:51|         14|\n",
      "|Me senti ate d fe...|1970-01-01 14:31:51|         14|\n",
      "|qual o sentido de...|1970-01-01 14:31:51|         14|\n",
      "|I'm at Lava Rápid...|1970-01-01 14:31:51|         14|\n",
      "|Fica comentando m...|1970-01-01 14:31:51|         14|\n",
      "|\"odeio que me man...|1970-01-01 14:31:51|         14|\n",
      "|CAMAMTEBABILONFRA...|1970-01-01 14:31:51|         14|\n",
      "+--------------------+-------------------+-----------+\n"
     ]
    }
   ],
   "source": [
    "df = df.withColumn(\"hour_of_day_string\", substring(df[\"day_and_hour_string\"], 12, 8))\n",
    "# Não consegui fazer a conversão direta para timestamp então capturei apenas a \n",
    "df = df.withColumn(\"timestamp_col\", to_timestamp(df[\"hour_of_day_string\"], \"HH:mm:ss\"))\n",
    "\n",
    "df = df.withColumn(\"hour_of_day\", hour(df[\"timestamp_col\"]))\n",
    "\n",
    "df = df.select(\"content\", \"timestamp_col\", \"hour_of_day\")\n",
    "\n",
    "df.show()"
   ],
   "metadata": {
    "collapsed": false,
    "ExecuteTime": {
     "end_time": "2024-05-30T04:13:34.078271700Z",
     "start_time": "2024-05-30T04:13:33.913766Z"
    }
   },
   "id": "47a61de877e59fc"
  },
  {
   "cell_type": "code",
   "execution_count": 48,
   "outputs": [
    {
     "name": "stdout",
     "output_type": "stream",
     "text": [
      "+-----------+------+\n",
      "|hour_of_day| count|\n",
      "+-----------+------+\n",
      "|         16|381171|\n",
      "|         15|381868|\n",
      "|         17|357316|\n",
      "|         14|308855|\n",
      "|         18|337544|\n",
      "|         22|390701|\n",
      "|         20|335181|\n",
      "|         19|320465|\n",
      "|         23|408723|\n",
      "|         21|358587|\n",
      "|          1|582339|\n",
      "|          2|608575|\n",
      "|          0|470279|\n",
      "|          3|492956|\n",
      "|          5|207486|\n",
      "|          4|331966|\n",
      "|         12|176828|\n",
      "|         13|230080|\n",
      "|          6|125781|\n",
      "|          9| 69421|\n",
      "+-----------+------+\n"
     ]
    }
   ],
   "source": [
    "tweets_per_hour = df.select(\"content\", \"hour_of_day\").groupBy(\"hour_of_day\").count().dropna()\n",
    "\n",
    "tweets_per_hour.show()"
   ],
   "metadata": {
    "collapsed": false,
    "ExecuteTime": {
     "end_time": "2024-05-30T04:13:43.434315800Z",
     "start_time": "2024-05-30T04:13:34.057216100Z"
    }
   },
   "id": "bfb00115fab61b15"
  },
  {
   "cell_type": "code",
   "execution_count": 49,
   "outputs": [],
   "source": [
    "tweets_per_hour_pd = tweets_per_hour.toPandas()"
   ],
   "metadata": {
    "collapsed": false,
    "ExecuteTime": {
     "end_time": "2024-05-30T04:13:51.430232800Z",
     "start_time": "2024-05-30T04:13:43.429313500Z"
    }
   },
   "id": "5ec7a88701f90f73"
  },
  {
   "cell_type": "code",
   "execution_count": 50,
   "outputs": [],
   "source": [
    "# Configurar o estilo do Seaborn e Matplotlib para o modo noturno\n",
    "sns.set(style=\"darkgrid\", rc={\"axes.facecolor\": \"#252434\", \"figure.facecolor\": \"#202124\", \"grid.color\": \"#37474f\", \"axes.edgecolor\": \"#202124\"})\n",
    "plt.figure(figsize=(10, 6), facecolor='#202124')\n",
    "\n",
    "# Criar o gráfico de linhas\n",
    "sns.lineplot(x='hour_of_day', y='count', data=tweets_per_hour_pd, marker='o', color='#ff3d2b', linewidth=2.5)\n",
    "\n",
    "for x, y in zip(tweets_per_hour_pd['hour_of_day'], tweets_per_hour_pd['count']):\n",
    "    plt.annotate(f'{y/1000:.1f}K', (x, y), textcoords=\"offset points\", xytext=(0,10), ha='center', color='white', fontsize=8, rotation=20)\n",
    "\n",
    "# Configurar os rótulos e o título do gráfico\n",
    "plt.xlabel('Hora do Dia', color='#ffffff')\n",
    "plt.ylabel('Número de Tweets', color='#ffffff')\n",
    "plt.title('Número de Tweets por Hora do Dia - 15 a 20 de Outubro de 2014', color='#ffffff')\n",
    "plt.xticks(range(0, 24), color='#ffffff')\n",
    "plt.yticks(color='#ffffff')\n",
    "\n",
    "# Exibir o gráfico\n",
    "plt.savefig('./outcome/Q1/number_tweets_per_hour.pdf', facecolor='#202124', bbox_inches='tight')\n",
    "plt.close()"
   ],
   "metadata": {
    "collapsed": false,
    "ExecuteTime": {
     "end_time": "2024-05-30T04:13:52.138494100Z",
     "start_time": "2024-05-30T04:13:51.434234100Z"
    }
   },
   "id": "587dd9c9ba68459e"
  },
  {
   "cell_type": "code",
   "execution_count": 51,
   "outputs": [],
   "source": [
    "spark.stop()"
   ],
   "metadata": {
    "collapsed": false,
    "ExecuteTime": {
     "end_time": "2024-05-30T04:13:52.404499800Z",
     "start_time": "2024-05-30T04:13:52.140491900Z"
    }
   },
   "id": "ad474fdbb2bb23c2"
  }
 ],
 "metadata": {
  "kernelspec": {
   "display_name": "Python 3",
   "language": "python",
   "name": "python3"
  },
  "language_info": {
   "codemirror_mode": {
    "name": "ipython",
    "version": 2
   },
   "file_extension": ".py",
   "mimetype": "text/x-python",
   "name": "python",
   "nbconvert_exporter": "python",
   "pygments_lexer": "ipython2",
   "version": "2.7.6"
  }
 },
 "nbformat": 4,
 "nbformat_minor": 5
}
